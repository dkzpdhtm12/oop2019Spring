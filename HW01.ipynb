{
 "cells": [
  {
   "cell_type": "markdown",
   "metadata": {},
   "source": [
    "# HW01\n",
    "* 이름: 아무개\n",
    "* 학번: 99990000\n",
    "\n",
    "위에 이름과 학번을 자신의 것으로 기입하고 또 맨 위에 노트북의 제목도 `HW01<이름><학번>`으로 바꾸어 HiClass를 통해 마감시간까지 제출하면 됩니다.\n",
    "마감시간은 HiClass에 공지되어 있습니다."
   ]
  },
  {
   "cell_type": "code",
   "execution_count": 1,
   "metadata": {},
   "outputs": [
    {
     "data": {
      "text/plain": [
       "com.twosigma.beaker.javash.bkr43a2eee6.RGB"
      ]
     },
     "execution_count": 1,
     "metadata": {},
     "output_type": "execute_result"
    }
   ],
   "source": [
    "class RGB { // 색깔 클래스\n",
    "    int r, g, b; // 빛의 3원색인 빨강/초록/파랑 각각을 0~255의 값으로 하는 인스턴스 변수들\n",
    "    RGB() { r=0; g=0; b=0; }\n",
    "    RGB(int _r, int _g, int _b) { r=_r; g=_g; b=_b; }\n",
    "    @Override\n",
    "    public String toString() { return \"rgb(\"+r+\",\"+g+\",\"+b+\")\"; }\n",
    "}"
   ]
  },
  {
   "cell_type": "code",
   "execution_count": 2,
   "metadata": {},
   "outputs": [
    {
     "data": {
      "text/plain": [
       "rgb(33,10,127)"
      ]
     },
     "execution_count": 2,
     "metadata": {},
     "output_type": "execute_result"
    }
   ],
   "source": [
    "RGB color = new RGB(33,10,127);\n",
    "return color.toString();"
   ]
  },
  {
   "cell_type": "code",
   "execution_count": 3,
   "metadata": {},
   "outputs": [
    {
     "data": {
      "text/plain": [
       "rgb(33,10,127)"
      ]
     },
     "execution_count": 3,
     "metadata": {},
     "output_type": "execute_result"
    }
   ],
   "source": [
    "RGB color = new RGB(33,10,127);\n",
    "return color;"
   ]
  },
  {
   "cell_type": "code",
   "execution_count": 4,
   "metadata": {},
   "outputs": [
    {
     "data": {
      "text/plain": [
       "com.twosigma.beaker.javash.bkr43a2eee6.Point"
      ]
     },
     "execution_count": 4,
     "metadata": {},
     "output_type": "execute_result"
    }
   ],
   "source": [
    "class Point {\n",
    "    int x, y;\n",
    "    Point() { x=0; y=0; }\n",
    "    Point(int _x, int _y) { x=_x; y=_y; }\n",
    "}"
   ]
  },
  {
   "cell_type": "markdown",
   "metadata": {},
   "source": [
    "`toString`을 오버라이딩하지 않으면 `Object`에서 정의된 기본 정의대로 동작한다."
   ]
  },
  {
   "cell_type": "code",
   "execution_count": 5,
   "metadata": {},
   "outputs": [
    {
     "data": {
      "text/plain": [
       "com.twosigma.beaker.javash.bkr43a2eee6.Point@4fac4bc5"
      ]
     },
     "execution_count": 5,
     "metadata": {},
     "output_type": "execute_result"
    }
   ],
   "source": [
    "Point p = new Point(12,23);\n",
    "return p.toString();"
   ]
  },
  {
   "cell_type": "code",
   "execution_count": 6,
   "metadata": {},
   "outputs": [
    {
     "data": {
      "text/plain": [
       "com.twosigma.beaker.javash.bkr43a2eee6.Point@3173b808"
      ]
     },
     "execution_count": 6,
     "metadata": {},
     "output_type": "execute_result"
    }
   ],
   "source": [
    "Point p = new Point(12,23);\n",
    "return p;"
   ]
  },
  {
   "cell_type": "markdown",
   "metadata": {},
   "source": [
    "## 첫번째 설계\n",
    "* `CircObj`, `RectObj`, `RTriObj` 클래스 작성 (3점)\n",
    "* 같은 클래스의 인스턴스끼리 (`CircObj`끼리, `RectObj`끼리, `RTriObj`) 충돌 검사 테스트 사례 작성 및 각 테스트 사례를 svg 출력으로 확인 (3점)\n",
    "* 서로 다른 클래스의 (`CircObj`와 `RectObj`, `RectObj`와 `RTriObj`, `RTriObj`와 `CircObj`) 인스턴스 충돌 검사 테스트 사례 작성 및 각 테스트 사례를 svg 출력으로 확인 (3점)"
   ]
  },
  {
   "cell_type": "code",
   "execution_count": 7,
   "metadata": {},
   "outputs": [
    {
     "data": {
      "text/plain": [
       "com.twosigma.beaker.javash.bkr43a2eee6.ShapeObj"
      ]
     },
     "execution_count": 7,
     "metadata": {},
     "output_type": "execute_result"
    }
   ],
   "source": [
    "abstract class ShapeObj { // 어떤 추상적인 모양의 물건 클래스\n",
    "    Point p;   // 물건 위치에 대한 정보\n",
    "    RGB color; // 물건의 색깔\n",
    "    ShapeObj(Point p, RGB c) { this.p=p; color=c; }\n",
    "    abstract Point closest(Point p); // 점 p와 가장 까까운 도형에 포함된 점 (소수점 이하는 적절히 처리해 정수 좌표로)\n",
    "    abstract boolean collides(Point p); // 점 p와 충돌하는가?\n",
    "    abstract boolean collides(ShapeObj o); // o와 충돌하는가?\n",
    "    abstract String toSVG(); // svg 태그 생성\n",
    "    @Override\n",
    "    public String toString() { return toSVG(); }\n",
    "}"
   ]
  },
  {
   "cell_type": "markdown",
   "metadata": {},
   "source": [
    "`ShapeObj`를 상속받아 구체적 모양의 물건 클래스를 정의할 때는 다음 네 메소드를 오버라이딩해야 하며, 추가로 적절한 생성자(constructor)도 정의해 주어야 한다.\n",
    "* `Point closest(Point p)`\n",
    "   * 물건 안의 점 중 넘겨받은 점 `p`와 가장 가까운 점을 돌려준다.\n",
    "   * 좌표가 소수점으로 나올 때는 소수점 이하를 적절히 (버림/반올림/올림 등) 처리해 정수 좌표로 변환해 돌려주어야 할 것이다.\n",
    "   * 너무 복잡하게 피타고라스 정리 싸인 코사인 이런거 하려 하지 말고 도형의 닮음같이 초등학교 때 배웠던 개념이나 `x`축과 `y`축 좌표를 따로 분리해서 생각해보는 방법으로 최대한 간단한 방법이 없나 먼저 고민해 보아도 좋다.\n",
    "   * 넘겨받은 점`p`가 만약 물건 안에 위치한 점이라면\n",
    "     바로 그 넘겨받은 점 `p`의 값이 이 메소드가 계산해서 돌려줘야 할 값이 된다는 것에 주목하라.\n",
    "* `boolean collides(Point p)`\n",
    "   * 넘겨받은 점 `p`가 물건 안에 위치한 점인지 판별하는 메소드이다. 즉 물건 안에 있는 점이 넘어오면 `true`를 아니면 `false`를 계산한다.\n",
    "   * 힌트: 위 `closest` 메소드를 이용하면 쉽게 정의할 수 있지만 다른 독창적인 방법으로 작성해도 무방하다.\n",
    "* `boolean collides(ShapeObj o)`\n",
    "   * 넘겨받은 물건 `o`가 지금 이 물건과 충돌하는지 판별하는 메소드이다.\n",
    "   * 힌트: 위의 두 메소드를 이용하면 비교적 쉽게 정의할 수 있지만 다른 독창적인 방법으로 작성해도 무방하다. \n",
    "* `String toSVG()`\n",
    "   * 물건의 위치와 모양 등 특성에 맞게 svg형식의 태그 내용의 문자열을 계산하는 메소드이다."
   ]
  },
  {
   "cell_type": "code",
   "execution_count": 8,
   "metadata": {},
   "outputs": [
    {
     "data": {
      "text/plain": [
       "com.twosigma.beaker.javash.bkr43a2eee6.CircObj"
      ]
     },
     "execution_count": 8,
     "metadata": {},
     "output_type": "execute_result"
    }
   ],
   "source": [
    "class CircObj extends ShapeObj { // 원 모양 물건 클래스\n",
    "    // 원의 경우 p는 중심이다\n",
    "    int r; // 반지름\n",
    "    CircObj(int r, Point p, RGB c) {\n",
    "        super(p, c); // 부모 클래스 생성자 호출\n",
    "        this.r = r;\n",
    "    }\n",
    "    // 아래를 완성하라 (1점)\n",
    "    @Override\n",
    "    Point closest(Point p) {\n",
    "        return new Point(); // 함수를 작성하라\n",
    "    }\n",
    "    @Override\n",
    "    boolean collides(Point p) {\n",
    "        return false; // 함수를 작성하라\n",
    "    }\n",
    "    @Override\n",
    "    boolean collides(ShapeObj o) {\n",
    "        return false; // 함수를 적성하라\n",
    "    }\n",
    "    @Override\n",
    "    String toSVG() {\n",
    "        return \"<circle cx='\"+p.x+\"' cy='\"+p.y+\"' r='\"+r+\"' style='stroke:black; stroke-width:1; fill:\"+color+\"; opacity:0.33' />\";\n",
    "    }\n",
    "}"
   ]
  },
  {
   "cell_type": "code",
   "execution_count": 9,
   "metadata": {},
   "outputs": [
    {
     "name": "stdout",
     "output_type": "stream",
     "text": [
      "<circle cx='50' cy='50' r='40' style='stroke:black; stroke-width:1; fill:rgb(255,0,0); opacity:0.33' />\n",
      "<circle cx='50' cy='50' r='40' style='stroke:black; stroke-width:1; fill:rgb(255,0,0); opacity:0.33' />\n",
      "<circle cx='50' cy='50' r='40' style='stroke:black; stroke-width:1; fill:rgb(255,0,0); opacity:0.33' />\n"
     ]
    },
    {
     "data": {
      "application/vnd.jupyter.widget-view+json": {
       "model_id": "e0a84997-707f-47bd-9cc9-4a2b6865723e",
       "version_major": 2,
       "version_minor": 0
      },
      "method": "display_data"
     },
     "metadata": {},
     "output_type": "display_data"
    }
   ],
   "source": [
    "import com.twosigma.beakerx.widget.*;\n",
    "\n",
    "RGB red = new RGB(255,0,0);\n",
    "\n",
    "CircObj c1 = new CircObj(40, new Point( 50, 50), red);\n",
    "\n",
    "System.out.println( c1.toSVG() );\n",
    "System.out.println( c1.toString() );\n",
    "System.out.println( c1 );\n",
    "\n",
    "HTML widget = new HTML();\n",
    "String sgv =\n",
    "    \"<svg width='300' height='300' style='border:solid 1px'>\"\n",
    "    + c1 +\n",
    "    \"</svg>\";\n",
    "widget.setValue(\"<div>\"+sgv+\"</div>\");\n",
    "return widget; // 그림에 나타나는 것과 맞는지 시각적으로 확인해 볼 수 있도록 toSVG를 정의한 것이다"
   ]
  },
  {
   "cell_type": "code",
   "execution_count": 10,
   "metadata": {},
   "outputs": [
    {
     "name": "stdout",
     "output_type": "stream",
     "text": [
      "<circle cx='50' cy='50' r='40' style='stroke:black; stroke-width:1; fill:rgb(255,0,0); opacity:0.33' />\n",
      "<circle cx='110' cy='110' r='70' style='stroke:black; stroke-width:1; fill:rgb(0,0,255); opacity:0.33' />\n",
      "<circle cx='160' cy='160' r='40' style='stroke:black; stroke-width:1; fill:rgb(255,0,0); opacity:0.33' />\n",
      "<circle cx='220' cy='220' r='70' style='stroke:black; stroke-width:1; fill:rgb(0,0,255); opacity:0.33' />\n",
      "false\n",
      "false\n",
      "false\n",
      "false\n",
      "false\n"
     ]
    },
    {
     "data": {
      "application/vnd.jupyter.widget-view+json": {
       "model_id": "b5de3447-679f-4953-9698-2e75dd252060",
       "version_major": 2,
       "version_minor": 0
      },
      "method": "display_data"
     },
     "metadata": {},
     "output_type": "display_data"
    }
   ],
   "source": [
    "import com.twosigma.beakerx.widget.*;\n",
    "\n",
    "RGB red = new RGB(255,0,0);\n",
    "RGB blue = new RGB(0,0,255);\n",
    "\n",
    "CircObj c1 = new CircObj(40, new Point( 50, 50), red);\n",
    "CircObj c2 = new CircObj(70, new Point(110,110), blue);\n",
    "CircObj c3 = new CircObj(40, new Point(160,160), red);\n",
    "CircObj c4 = new CircObj(70, new Point(220,220), blue);\n",
    "\n",
    "System.out.println( c1.toSVG() );\n",
    "System.out.println( c2.toSVG() );\n",
    "System.out.println( c3.toSVG() );\n",
    "System.out.println( c4.toSVG() );\n",
    "\n",
    "System.out.println( c1.collides(c2) ); // 이런 결과가\n",
    "System.out.println( c2.collides(c3) ); // 이런 결과가\n",
    "System.out.println( c3.collides(c4) ); // 이런 결과가\n",
    "\n",
    "System.out.println( c1.collides(c3) ); // 요런 결과가\n",
    "System.out.println( c2.collides(c4) ); // 요런 결과가\n",
    "\n",
    "HTML widget = new HTML();\n",
    "String sgv =\n",
    "    \"<svg width='300' height='300' style='border:solid 1px'>\"\n",
    "    + c1 + c2 + c3 + c4 +\n",
    "    \"</svg>\";\n",
    "widget.setValue(\"<div>\"+sgv+\"</div>\");\n",
    "return widget; // 그림에 나타나는 것과 맞는지 시각적으로 확인해 볼 수 있도록 toSVG를 정의한 것이다"
   ]
  },
  {
   "cell_type": "code",
   "execution_count": 11,
   "metadata": {},
   "outputs": [
    {
     "ename": "ERROR",
     "evalue": " java.lang.IllegalStateException",
     "output_type": "error",
     "traceback": [
      "\u001b[0;31mERROR: java.lang.IllegalStateException: com.twosigma.beaker.javash.bkr43a2eee6.RectObj is not abstract and does not override abstract method toSVG() in com.twosigma.beaker.javash.bkr43a2eee6.ShapeObj\u001b[0;0m",
      "\u001b[0;31m class RectObj extends ShapeObj { int w; int h;  }\u001b[0;0m",
      "\u001b[0;31m ^                                                ^ \u001b[0;0m"
     ]
    }
   ],
   "source": [
    "class RectObj extends ShapeObj { // 직사각형 모양 물건 클래스\n",
    "    // 직사각형의 경우 경우 p는 왼쪽 위 꼭지점이다\n",
    "    int w; // 너비 (양수)\n",
    "    int h; // 높이 (양수)\n",
    "\n",
    "    // CircObj처럼 나머지를 완성하라 (1점)\n",
    "    \n",
    "    // RectObj(int w, int h, Point p, RGB c) { ... }\n",
    "    // ...\n",
    "    // ...\n",
    "    // ...\n",
    "}"
   ]
  },
  {
   "cell_type": "code",
   "execution_count": 12,
   "metadata": {},
   "outputs": [
    {
     "data": {
      "application/vnd.jupyter.widget-view+json": {
       "model_id": "8b0074ff-2b5c-4dea-a1f9-7e2b5db92bc4",
       "version_major": 2,
       "version_minor": 0
      },
      "method": "display_data"
     },
     "metadata": {},
     "output_type": "display_data"
    }
   ],
   "source": [
    "// 직사각형 toSGV 만들기 위한 힌트\n",
    "\n",
    "import com.twosigma.beakerx.widget.*;\n",
    "\n",
    "RGB color = new RGB(255,0,0);\n",
    "\n",
    "HTML widget = new HTML();\n",
    "\n",
    "widget.setValue(\"<svg width='300' height='300' style='border:solid 1px'>\"\n",
    "               + \"<rect x='100' y='70' width='40' height='100' style='stroke:black; stroke-width:1; fill:\"+color+\"; opacity:0.33' />\"\n",
    "              + \"</svg>\");\n",
    "\n",
    "return widget;"
   ]
  },
  {
   "cell_type": "code",
   "execution_count": 13,
   "metadata": {},
   "outputs": [
    {
     "ename": "ERROR",
     "evalue": " java.lang.IllegalStateException",
     "output_type": "error",
     "traceback": [
      "\u001b[0;31mERROR: java.lang.IllegalStateException: com.twosigma.beaker.javash.bkr43a2eee6.RTriObj is not abstract and does not override abstract method toSVG() in com.twosigma.beaker.javash.bkr43a2eee6.ShapeObj\u001b[0;0m",
      "\u001b[0;31m class RTriObj extends ShapeObj { Point p; int w; int h;  }\u001b[0;0m",
      "\u001b[0;31m ^                                                         ^ \u001b[0;0m"
     ]
    }
   ],
   "source": [
    "class RTriObj extends ShapeObj { // 직각삼각형 모양 물건 클래스\n",
    "    Point p; // 직각인 꼭지점\n",
    "    int w; // 직각인 꼭지점으로부터 음수/양수로 왼쪽/오른쪽 방향으로의 w만큼 떨어진 꼭지점 나타냄\n",
    "    int h; // 직각인 꼭지점으로부터 음수/양수로 아래쪽/위쪽 방향으로의 h만큼 떨어진 꼭지점 나타냄\n",
    "    \n",
    "    // CircObj처럼 나머지를 완성하라 (1점)\n",
    "\n",
    "    // RTriObj(int w, int h, Point p, RGB c) { ... }\n",
    "    // ...\n",
    "    // ...\n",
    "    // ...\n",
    "}"
   ]
  },
  {
   "cell_type": "markdown",
   "metadata": {},
   "source": [
    "삼각형 SVG 힌트는 https://www.w3schools.com/graphics/svg_polygon.asp\n",
    "\n",
    "수학 관련 Java 라이브러리 https://docs.oracle.com/en/java/javase/11/docs/api/java.base/java/lang/Math.html"
   ]
  },
  {
   "cell_type": "markdown",
   "metadata": {},
   "source": [
    "## 두번째 설계\n",
    "첫번째 설계와 같은 문제를 해결하지만 조금 다른 방식의 설계로 프로그램을 재작성해 보라.\n",
    "* `Circle`, `Rectangle`, `RTriangle` 클래스를 작성하라 (1점)\n",
    "* 첫번째에서 했던 같은 테스트 사례들로 모두 실행해 보라 (3점)"
   ]
  },
  {
   "cell_type": "code",
   "execution_count": 14,
   "metadata": {},
   "outputs": [
    {
     "data": {
      "text/plain": [
       "com.twosigma.beaker.javash.bkr43a2eee6.Shape"
      ]
     },
     "execution_count": 14,
     "metadata": {},
     "output_type": "execute_result"
    }
   ],
   "source": [
    "abstract class Shape { // 어떤 추상적인 모양 클래스\n",
    "    RGB color; // 물건의 색깔\n",
    "    Shape(RGB c) { color=c; }\n",
    "    abstract String toSVG(Point self);\n",
    "    abstract Point closest(Point self, Point p);\n",
    "    abstract boolean collides(Point self, Point p);\n",
    "    abstract boolean collides(Point self, Obj o);\n",
    "}\n",
    "\n",
    "class Obj {\n",
    "    Point p;\n",
    "    Shape s; // Shape이 Obj의 속성이다\n",
    "    Obj(Point _p, Shape _s) { p=_p; s=_s; }\n",
    "    Point closest(Point p) { return s.closest(this.p, p); } // 점 p와 가장 까까운 도형에 포함된 점 (소수점 이하는 적절히 처리해 정수 좌표로)\n",
    "    boolean collides(Point p) { return s.collides(this.p, p); } // 점 p와 충돌하는가?\n",
    "    boolean collides(Obj o) { return s.collides(this.p, o); } // o와 충돌하는가\n",
    "    @Override\n",
    "    public String toString() { return s.toSVG(this.p); }\n",
    "}"
   ]
  },
  {
   "cell_type": "code",
   "execution_count": 15,
   "metadata": {},
   "outputs": [
    {
     "data": {
      "text/plain": [
       "com.twosigma.beaker.javash.bkr43a2eee6.Circle"
      ]
     },
     "execution_count": 15,
     "metadata": {},
     "output_type": "execute_result"
    }
   ],
   "source": [
    "class Circle extends Shape { // 원 모양 클래스\n",
    "    int r;\n",
    "    Circle(int r, RGB c) { super(c); this.r = r; }\n",
    "    @Override\n",
    "    Point closest(Point self, Point p) {\n",
    "        return new Point(); // 함수를 작성\n",
    "    }\n",
    "    @Override\n",
    "    boolean collides(Point self, Point p) {\n",
    "        return false; // 함수를 작성하라\n",
    "    }\n",
    "    @Override\n",
    "    boolean collides(Point self, Obj o) {\n",
    "        return false; // 함수를 작성하라\n",
    "    }\n",
    "    @Override\n",
    "    String toSVG(Point self) {\n",
    "        return \"<circle cx='\"+self.x+\"' cy='\"+self.y+\"' r='\"+r+\"' style='stroke:black; stroke-width:1; fill:\"+color+\"; opacity:0.33' />\";\n",
    "    }\n",
    "}"
   ]
  },
  {
   "cell_type": "code",
   "execution_count": 16,
   "metadata": {},
   "outputs": [
    {
     "name": "stdout",
     "output_type": "stream",
     "text": [
      "<circle cx='50' cy='50' r='40' style='stroke:black; stroke-width:1; fill:rgb(255,0,0); opacity:0.33' />\n",
      "<circle cx='110' cy='110' r='70' style='stroke:black; stroke-width:1; fill:rgb(0,0,255); opacity:0.33' />\n",
      "<circle cx='160' cy='160' r='40' style='stroke:black; stroke-width:1; fill:rgb(255,0,0); opacity:0.33' />\n",
      "<circle cx='220' cy='220' r='70' style='stroke:black; stroke-width:1; fill:rgb(0,0,255); opacity:0.33' />\n",
      "false\n",
      "false\n",
      "false\n",
      "false\n",
      "false\n"
     ]
    },
    {
     "data": {
      "application/vnd.jupyter.widget-view+json": {
       "model_id": "9753d86e-c094-42fb-a70e-43d69a50d142",
       "version_major": 2,
       "version_minor": 0
      },
      "method": "display_data"
     },
     "metadata": {},
     "output_type": "display_data"
    }
   ],
   "source": [
    "import com.twosigma.beakerx.widget.*;\n",
    "\n",
    "RGB red = new RGB(255,0,0);\n",
    "RGB blue = new RGB(0,0,255);\n",
    "RGB magenta = new RGB(255,0,255);\n",
    "\n",
    "Circle s1 = new Circle(40, red);\n",
    "Circle s2 = new Circle(70, blue);\n",
    "\n",
    "Obj c1 = new Obj(new Point( 50, 50), s1);\n",
    "Obj c2 = new Obj(new Point(110,110), s2);\n",
    "Obj c3 = new Obj(new Point(160,160), s1);\n",
    "Obj c4 = new Obj(new Point(220,220), s2);\n",
    "\n",
    "System.out.println( c1 );\n",
    "System.out.println( c2 );\n",
    "System.out.println( c3 );\n",
    "System.out.println( c4 );\n",
    "\n",
    "System.out.println( c1.collides(c2) ); // 이런 결과가\n",
    "System.out.println( c2.collides(c3) ); // 이런 결과가\n",
    "System.out.println( c3.collides(c4) ); // 이런 결과가\n",
    "\n",
    "System.out.println( c1.collides(c3) ); // 요런 결과가\n",
    "System.out.println( c2.collides(c4) ); // 요런 결과가\n",
    "\n",
    "HTML widget = new HTML();\n",
    "String sgv1 =\n",
    "    \"<svg width='300' height='300' style='border:solid 1px'>\"\n",
    "    + c1 + c2 + c3 + c4 +\n",
    "    \"</svg>\";\n",
    "\n",
    "// s1 = new Circle(60, magenta);\n",
    "s1.color = magenta; s1.r = 50;\n",
    "\n",
    "String sgv2 = \n",
    "    \"<svg width='300' height='300' style='border:solid 1px'>\"\n",
    "    + c1 + c2 + c3 + c4 +\n",
    "    \"</svg>\";\n",
    "widget.setValue(\"<div>\"+sgv1+\"</div>\"+\"<div>\"+sgv2+\"</div>\");\n",
    "return widget; // 그림에 나타나는 것과 맞는지 시각적으로 확인해 볼 수 있도록 toSVG를 정의한 것이다"
   ]
  },
  {
   "cell_type": "code",
   "execution_count": 17,
   "metadata": {},
   "outputs": [
    {
     "ename": "ERROR",
     "evalue": " java.lang.IllegalStateException",
     "output_type": "error",
     "traceback": [
      "\u001b[0;31mERROR: java.lang.IllegalStateException: com.twosigma.beaker.javash.bkr43a2eee6.Rectangle is not abstract and does not override abstract method collides(com.twosigma.beaker.javash.bkr43a2eee6.Point,com.twosigma.beaker.javash.bkr43a2eee6.Obj) in com.twosigma.beaker.javash.bkr43a2eee6.Shape\u001b[0;0m",
      "\u001b[0;31m class Rectangle extends Shape { int w; int h;  }\u001b[0;0m",
      "\u001b[0;31m ^                                               ^ \u001b[0;0m"
     ]
    }
   ],
   "source": [
    "class Rectangle extends Shape { // 직서각형 모양 클래스\n",
    "    int w; // 너비 (양수)\n",
    "    int h; // 높이 (양수)\n",
    "\n",
    "    // Circle처럼 나머지를 완성하라    \n",
    "}"
   ]
  },
  {
   "cell_type": "code",
   "execution_count": 18,
   "metadata": {},
   "outputs": [
    {
     "ename": "ERROR",
     "evalue": " java.lang.IllegalStateException",
     "output_type": "error",
     "traceback": [
      "\u001b[0;31mERROR: java.lang.IllegalStateException: com.twosigma.beaker.javash.bkr43a2eee6.RTriangle is not abstract and does not override abstract method collides(com.twosigma.beaker.javash.bkr43a2eee6.Point,com.twosigma.beaker.javash.bkr43a2eee6.Obj) in com.twosigma.beaker.javash.bkr43a2eee6.Shape\u001b[0;0m",
      "\u001b[0;31m class RTriangle extends Shape { int w; int h;  }\u001b[0;0m",
      "\u001b[0;31m ^                                               ^ \u001b[0;0m"
     ]
    }
   ],
   "source": [
    "class RTriangle extends Shape {\n",
    "    int w; // 직각인 꼭지점으로부터 음수/양수로 왼쪽/오른쪽 방향으로의 w만큼 떨어진 꼭지점 나타냄\n",
    "    int h; // 직각인 꼭지점으로부터 음수/양수로 아래쪽/위쪽 방향으로의 h만큼 떨어진 꼭지점 나타냄\n",
    "\n",
    "    // Circle처럼 나머지를 완성하라    \n",
    "}"
   ]
  },
  {
   "cell_type": "code",
   "execution_count": null,
   "metadata": {},
   "outputs": [],
   "source": []
  }
 ],
 "metadata": {
  "kernelspec": {
   "display_name": "Java",
   "language": "java",
   "name": "java"
  },
  "language_info": {
   "codemirror_mode": "text/x-java",
   "file_extension": ".java",
   "mimetype": "",
   "name": "Java",
   "nbconverter_exporter": "",
   "version": "11.0.3"
  },
  "toc": {
   "base_numbering": 1,
   "nav_menu": {},
   "number_sections": false,
   "sideBar": false,
   "skip_h1_title": false,
   "title_cell": "Table of Contents",
   "title_sidebar": "Contents",
   "toc_cell": false,
   "toc_position": {},
   "toc_section_display": false,
   "toc_window_display": false
  },
  "widgets": {
   "application/vnd.jupyter.widget-state+json": {
    "state": {
     "01c79971-e955-41bf-8ac2-6ca7d28b1fde": {
      "model_module": "@jupyter-widgets/controls",
      "model_module_version": "*",
      "model_name": "HTMLModel",
      "state": {
       "_model_module_version": "*",
       "_view_module_version": "*",
       "background_color": null,
       "color": null,
       "font_family": "",
       "font_size": "",
       "font_style": "",
       "font_weight": "",
       "layout": "IPY_MODEL_b389720f-c517-46a0-9291-49c35832b34c",
       "msg_throttle": 3,
       "placeholder": "",
       "value": "<div><svg width='300' height='300' style='border:solid 1px'><circle cx='50' cy='50' r='40' style='stroke:black; stroke-width:1; fill:rgb(255,0,0); opacity:0.33' /><circle cx='110' cy='110' r='70' style='stroke:black; stroke-width:1; fill:rgb(0,0,255); opacity:0.33' /><circle cx='160' cy='160' r='40' style='stroke:black; stroke-width:1; fill:rgb(255,0,0); opacity:0.33' /><circle cx='220' cy='220' r='70' style='stroke:black; stroke-width:1; fill:rgb(0,0,255); opacity:0.33' /></svg></div>",
       "visible": true
      }
     },
     "02038edb-da1b-44c4-a64a-5ec3d4982f3c": {
      "model_module": "@jupyter-widgets/base",
      "model_module_version": "*",
      "model_name": "LayoutModel",
      "state": {
       "_model_module_version": "*",
       "_view_module_version": "*",
       "align_content": "",
       "align_self": "",
       "border": "",
       "bottom": "",
       "flex": "",
       "height": "",
       "justify_content": "",
       "left": "",
       "margin": "",
       "max_height": "",
       "max_width": "",
       "min_height": "",
       "min_width": "",
       "msg_throttle": 3,
       "overflow": "",
       "overflow_x": "",
       "overflow_y": "",
       "padding": "",
       "right": "",
       "top": ""
      }
     },
     "06983c5a-e328-47f6-a96e-80049dac6ac4": {
      "model_module": "@jupyter-widgets/base",
      "model_module_version": "*",
      "model_name": "LayoutModel",
      "state": {
       "_model_module_version": "*",
       "_view_module_version": "*",
       "align_content": "",
       "align_self": "",
       "border": "",
       "bottom": "",
       "flex": "",
       "height": "",
       "justify_content": "",
       "left": "",
       "margin": "",
       "max_height": "",
       "max_width": "",
       "min_height": "",
       "min_width": "",
       "msg_throttle": 3,
       "overflow": "",
       "overflow_x": "",
       "overflow_y": "",
       "padding": "",
       "right": "",
       "top": ""
      }
     },
     "17b1c591-4e59-4c8c-a2e7-3d60063c8619": {
      "model_module": "@jupyter-widgets/controls",
      "model_module_version": "*",
      "model_name": "HTMLModel",
      "state": {
       "_model_module_version": "*",
       "_view_module_version": "*",
       "background_color": null,
       "color": null,
       "font_family": "",
       "font_size": "",
       "font_style": "",
       "font_weight": "",
       "layout": "IPY_MODEL_52d52e4f-0ee2-426e-aad6-eec1a83e5abc",
       "msg_throttle": 3,
       "placeholder": "",
       "value": "<div><svg width='300' height='300' style='border:solid 1px'><circle cx='50' cy='50' r='40' style='stroke:black; stroke-width:1; fill:rgb(255,0,0); opacity:0.33' /><circle cx='110' cy='110' r='70' style='stroke:black; stroke-width:1; fill:rgb(0,0,255); opacity:0.33' /><circle cx='160' cy='160' r='40' style='stroke:black; stroke-width:1; fill:rgb(255,0,0); opacity:0.33' /><circle cx='220' cy='220' r='70' style='stroke:black; stroke-width:1; fill:rgb(0,0,255); opacity:0.33' /></svg></div><div><svg width='300' height='300' style='border:solid 1px'><circle cx='50' cy='50' r='50' style='stroke:black; stroke-width:1; fill:rgb(255,0,255); opacity:0.33' /><circle cx='110' cy='110' r='70' style='stroke:black; stroke-width:1; fill:rgb(0,0,255); opacity:0.33' /><circle cx='160' cy='160' r='50' style='stroke:black; stroke-width:1; fill:rgb(255,0,255); opacity:0.33' /><circle cx='220' cy='220' r='70' style='stroke:black; stroke-width:1; fill:rgb(0,0,255); opacity:0.33' /></svg></div>",
       "visible": true
      }
     },
     "18a588b6-4ddb-4a19-8e4f-0f105d93b227": {
      "model_module": "@jupyter-widgets/controls",
      "model_module_version": "*",
      "model_name": "HTMLModel",
      "state": {
       "_model_module_version": "*",
       "_view_module_version": "*",
       "background_color": null,
       "color": null,
       "font_family": "",
       "font_size": "",
       "font_style": "",
       "font_weight": "",
       "layout": "IPY_MODEL_34e34dcf-0929-4e71-8cf5-9561fad17507",
       "msg_throttle": 3,
       "placeholder": "",
       "value": "<div><svg width='300' height='300' style='border:solid 1px'><circle cx='50' cy='50' r='40' style='stroke:black; stroke-width:1; fill:rgb(255,0,0); opacity:0.33' /><circle cx='110' cy='110' r='70' style='stroke:black; stroke-width:1; fill:rgb(0,0,255); opacity:0.33' /><circle cx='160' cy='160' r='40' style='stroke:black; stroke-width:1; fill:rgb(255,0,0); opacity:0.33' /><circle cx='220' cy='220' r='70' style='stroke:black; stroke-width:1; fill:rgb(0,0,255); opacity:0.33' /></svg></div>",
       "visible": true
      }
     },
     "1d88e877-e1c4-441a-b772-cd1d4822e4c7": {
      "model_module": "@jupyter-widgets/base",
      "model_module_version": "*",
      "model_name": "LayoutModel",
      "state": {
       "_model_module_version": "*",
       "_view_module_version": "*",
       "align_content": "",
       "align_self": "",
       "border": "",
       "bottom": "",
       "flex": "",
       "height": "",
       "justify_content": "",
       "left": "",
       "margin": "",
       "max_height": "",
       "max_width": "",
       "min_height": "",
       "min_width": "",
       "msg_throttle": 3,
       "overflow": "",
       "overflow_x": "",
       "overflow_y": "",
       "padding": "",
       "right": "",
       "top": ""
      }
     },
     "21b3739e-8a18-4343-85ea-247d02923556": {
      "model_module": "@jupyter-widgets/base",
      "model_module_version": "*",
      "model_name": "LayoutModel",
      "state": {
       "_model_module_version": "*",
       "_view_module_version": "*",
       "align_content": "",
       "align_self": "",
       "border": "",
       "bottom": "",
       "flex": "",
       "height": "",
       "justify_content": "",
       "left": "",
       "margin": "",
       "max_height": "",
       "max_width": "",
       "min_height": "",
       "min_width": "",
       "msg_throttle": 3,
       "overflow": "",
       "overflow_x": "",
       "overflow_y": "",
       "padding": "",
       "right": "",
       "top": ""
      }
     },
     "229cfc9a-6acb-4631-825c-f37cd4e40e8a": {
      "model_module": "@jupyter-widgets/controls",
      "model_module_version": "*",
      "model_name": "HTMLModel",
      "state": {
       "_model_module_version": "*",
       "_view_module_version": "*",
       "background_color": null,
       "color": null,
       "font_family": "",
       "font_size": "",
       "font_style": "",
       "font_weight": "",
       "layout": "IPY_MODEL_c8fb1cf0-513d-4dd3-bfef-426f96107e9a",
       "msg_throttle": 3,
       "placeholder": "",
       "value": "<div><svg width='300' height='300' style='border:solid 1px'><circle cx='50' cy='50' r='40' style='stroke:black; stroke-width:1; fill:rgb(255,0,0); opacity:0.33' /><circle cx='110' cy='110' r='70' style='stroke:black; stroke-width:1; fill:rgb(0,0,255); opacity:0.33' /><circle cx='160' cy='160' r='40' style='stroke:black; stroke-width:1; fill:rgb(255,0,0); opacity:0.33' /><circle cx='220' cy='220' r='70' style='stroke:black; stroke-width:1; fill:rgb(0,0,255); opacity:0.33' /></svg></div><div><svg width='300' height='300' style='border:solid 1px'><circle cx='50' cy='50' r='50' style='stroke:black; stroke-width:1; fill:rgb(255,0,255); opacity:0.33' /><circle cx='110' cy='110' r='70' style='stroke:black; stroke-width:1; fill:rgb(0,0,255); opacity:0.33' /><circle cx='160' cy='160' r='50' style='stroke:black; stroke-width:1; fill:rgb(255,0,255); opacity:0.33' /><circle cx='220' cy='220' r='70' style='stroke:black; stroke-width:1; fill:rgb(0,0,255); opacity:0.33' /></svg></div>",
       "visible": true
      }
     },
     "22e7a292-d6bb-418b-bbc5-6530aabc3115": {
      "model_module": "@jupyter-widgets/controls",
      "model_module_version": "*",
      "model_name": "HTMLModel",
      "state": {
       "_model_module_version": "*",
       "_view_module_version": "*",
       "background_color": null,
       "color": null,
       "font_family": "",
       "font_size": "",
       "font_style": "",
       "font_weight": "",
       "layout": "IPY_MODEL_55da30c0-4f1b-4205-9bf9-859be6eb0b52",
       "msg_throttle": 3,
       "placeholder": "",
       "value": "<div><svg width='300' height='300' style='border:solid 1px'><circle cx='50' cy='50' r='40' style='stroke:black; stroke-width:1; fill:rgb(255,0,0); opacity:0.33' /><circle cx='110' cy='110' r='70' style='stroke:black; stroke-width:1; fill:rgb(0,0,255); opacity:0.33' /><circle cx='160' cy='160' r='40' style='stroke:black; stroke-width:1; fill:rgb(255,0,0); opacity:0.33' /><circle cx='220' cy='220' r='70' style='stroke:black; stroke-width:1; fill:rgb(0,0,255); opacity:0.33' /></svg></div><div><svg width='300' height='300' style='border:solid 1px'><circle cx='50' cy='50' r='50' style='stroke:black; stroke-width:1; fill:rgb(255,0,255); opacity:0.33' /><circle cx='110' cy='110' r='70' style='stroke:black; stroke-width:1; fill:rgb(0,0,255); opacity:0.33' /><circle cx='160' cy='160' r='50' style='stroke:black; stroke-width:1; fill:rgb(255,0,255); opacity:0.33' /><circle cx='220' cy='220' r='70' style='stroke:black; stroke-width:1; fill:rgb(0,0,255); opacity:0.33' /></svg></div>",
       "visible": true
      }
     },
     "336918c6-d1a1-46ac-a250-92d4a7e44cb6": {
      "model_module": "@jupyter-widgets/controls",
      "model_module_version": "*",
      "model_name": "HTMLModel",
      "state": {
       "_model_module_version": "*",
       "_view_module_version": "*",
       "background_color": null,
       "color": null,
       "font_family": "",
       "font_size": "",
       "font_style": "",
       "font_weight": "",
       "layout": "IPY_MODEL_ff77ec5e-977a-4fcc-a1b3-308068248100",
       "msg_throttle": 3,
       "placeholder": "",
       "value": "<svg width='300' height='300' style='border:solid 1px'><rect x='100' y='70' width='40' height='100' style='stroke:black; stroke-width:1; fill:rgb(255,0,0); opacity:0.33' /></svg>",
       "visible": true
      }
     },
     "34e34dcf-0929-4e71-8cf5-9561fad17507": {
      "model_module": "@jupyter-widgets/base",
      "model_module_version": "*",
      "model_name": "LayoutModel",
      "state": {
       "_model_module_version": "*",
       "_view_module_version": "*",
       "align_content": "",
       "align_self": "",
       "border": "",
       "bottom": "",
       "flex": "",
       "height": "",
       "justify_content": "",
       "left": "",
       "margin": "",
       "max_height": "",
       "max_width": "",
       "min_height": "",
       "min_width": "",
       "msg_throttle": 3,
       "overflow": "",
       "overflow_x": "",
       "overflow_y": "",
       "padding": "",
       "right": "",
       "top": ""
      }
     },
     "36ea8805-dea4-4173-a55a-b01e7a03d993": {
      "model_module": "@jupyter-widgets/controls",
      "model_module_version": "*",
      "model_name": "HTMLModel",
      "state": {
       "_model_module_version": "*",
       "_view_module_version": "*",
       "background_color": null,
       "color": null,
       "font_family": "",
       "font_size": "",
       "font_style": "",
       "font_weight": "",
       "layout": "IPY_MODEL_1d88e877-e1c4-441a-b772-cd1d4822e4c7",
       "msg_throttle": 3,
       "placeholder": "",
       "value": "<div><svg width='300' height='300' style='border:solid 1px'><circle cx='50' cy='50' r='40' style='stroke:black; stroke-width:1; fill:rgb(255,0,0); opacity:0.33' /></svg></div>",
       "visible": true
      }
     },
     "465ccc8d-e62a-4c2e-ad99-d0c0ddcf7108": {
      "model_module": "@jupyter-widgets/controls",
      "model_module_version": "*",
      "model_name": "HTMLModel",
      "state": {
       "_model_module_version": "*",
       "_view_module_version": "*",
       "background_color": null,
       "color": null,
       "font_family": "",
       "font_size": "",
       "font_style": "",
       "font_weight": "",
       "layout": "IPY_MODEL_93f335db-1aa7-42fe-aea7-480a1cdb2309",
       "msg_throttle": 3,
       "placeholder": "",
       "value": "<div><svg width='300' height='300' style='border:solid 1px'><circle cx='50' cy='50' r='40' style='stroke:black; stroke-width:1; fill:rgb(255,0,0); opacity:0.33' /></svg></div>",
       "visible": true
      }
     },
     "47466f2d-9d48-4f03-a504-2dca0cb4f336": {
      "model_module": "@jupyter-widgets/base",
      "model_module_version": "*",
      "model_name": "LayoutModel",
      "state": {
       "_model_module_version": "*",
       "_view_module_version": "*",
       "align_content": "",
       "align_self": "",
       "border": "",
       "bottom": "",
       "flex": "",
       "height": "",
       "justify_content": "",
       "left": "",
       "margin": "",
       "max_height": "",
       "max_width": "",
       "min_height": "",
       "min_width": "",
       "msg_throttle": 3,
       "overflow": "",
       "overflow_x": "",
       "overflow_y": "",
       "padding": "",
       "right": "",
       "top": ""
      }
     },
     "52d52e4f-0ee2-426e-aad6-eec1a83e5abc": {
      "model_module": "@jupyter-widgets/base",
      "model_module_version": "*",
      "model_name": "LayoutModel",
      "state": {
       "_model_module_version": "*",
       "_view_module_version": "*",
       "align_content": "",
       "align_self": "",
       "border": "",
       "bottom": "",
       "flex": "",
       "height": "",
       "justify_content": "",
       "left": "",
       "margin": "",
       "max_height": "",
       "max_width": "",
       "min_height": "",
       "min_width": "",
       "msg_throttle": 3,
       "overflow": "",
       "overflow_x": "",
       "overflow_y": "",
       "padding": "",
       "right": "",
       "top": ""
      }
     },
     "55da30c0-4f1b-4205-9bf9-859be6eb0b52": {
      "model_module": "@jupyter-widgets/base",
      "model_module_version": "*",
      "model_name": "LayoutModel",
      "state": {
       "_model_module_version": "*",
       "_view_module_version": "*",
       "align_content": "",
       "align_self": "",
       "border": "",
       "bottom": "",
       "flex": "",
       "height": "",
       "justify_content": "",
       "left": "",
       "margin": "",
       "max_height": "",
       "max_width": "",
       "min_height": "",
       "min_width": "",
       "msg_throttle": 3,
       "overflow": "",
       "overflow_x": "",
       "overflow_y": "",
       "padding": "",
       "right": "",
       "top": ""
      }
     },
     "6af513c8-8b5b-4e84-99ea-ab9048e5a4eb": {
      "model_module": "@jupyter-widgets/base",
      "model_module_version": "*",
      "model_name": "LayoutModel",
      "state": {
       "_model_module_version": "*",
       "_view_module_version": "*",
       "align_content": "",
       "align_self": "",
       "border": "",
       "bottom": "",
       "flex": "",
       "height": "",
       "justify_content": "",
       "left": "",
       "margin": "",
       "max_height": "",
       "max_width": "",
       "min_height": "",
       "min_width": "",
       "msg_throttle": 3,
       "overflow": "",
       "overflow_x": "",
       "overflow_y": "",
       "padding": "",
       "right": "",
       "top": ""
      }
     },
     "6c4a31f7-8417-43cf-9c4e-461e0fb0769f": {
      "model_module": "@jupyter-widgets/controls",
      "model_module_version": "*",
      "model_name": "HTMLModel",
      "state": {
       "_model_module_version": "*",
       "_view_module_version": "*",
       "background_color": null,
       "color": null,
       "font_family": "",
       "font_size": "",
       "font_style": "",
       "font_weight": "",
       "layout": "IPY_MODEL_75d8c81e-40eb-4af0-ac92-fec973dca749",
       "msg_throttle": 3,
       "placeholder": "",
       "value": "<div><svg width='300' height='300' style='border:solid 1px'><circle cx='50' cy='50' r='40' style='stroke:black; stroke-width:1; fill:rgb(255,0,0); opacity:0.33' /><circle cx='110' cy='110' r='70' style='stroke:black; stroke-width:1; fill:rgb(0,0,255); opacity:0.33' /><circle cx='160' cy='160' r='40' style='stroke:black; stroke-width:1; fill:rgb(255,0,0); opacity:0.33' /><circle cx='220' cy='220' r='70' style='stroke:black; stroke-width:1; fill:rgb(0,0,255); opacity:0.33' /></svg></div>",
       "visible": true
      }
     },
     "745fe002-97f9-4380-80c8-bbe34c7b073e": {
      "model_module": "@jupyter-widgets/controls",
      "model_module_version": "*",
      "model_name": "HTMLModel",
      "state": {
       "_model_module_version": "*",
       "_view_module_version": "*",
       "background_color": null,
       "color": null,
       "font_family": "",
       "font_size": "",
       "font_style": "",
       "font_weight": "",
       "layout": "IPY_MODEL_a9035b58-b3af-4269-acaa-9aac5e1e3c4d",
       "msg_throttle": 3,
       "placeholder": "",
       "value": "<div><svg width='300' height='300' style='border:solid 1px'><circle cx='50' cy='50' r='40' style='stroke:black; stroke-width:1; fill:rgb(255,0,0); opacity:0.33' /><circle cx='110' cy='110' r='70' style='stroke:black; stroke-width:1; fill:rgb(0,0,255); opacity:0.33' /><circle cx='160' cy='160' r='40' style='stroke:black; stroke-width:1; fill:rgb(255,0,0); opacity:0.33' /><circle cx='220' cy='220' r='70' style='stroke:black; stroke-width:1; fill:rgb(0,0,255); opacity:0.33' /></svg></div><div><svg width='300' height='300' style='border:solid 1px'><circle cx='50' cy='50' r='50' style='stroke:black; stroke-width:1; fill:rgb(255,0,255); opacity:0.33' /><circle cx='110' cy='110' r='70' style='stroke:black; stroke-width:1; fill:rgb(0,0,255); opacity:0.33' /><circle cx='160' cy='160' r='50' style='stroke:black; stroke-width:1; fill:rgb(255,0,255); opacity:0.33' /><circle cx='220' cy='220' r='70' style='stroke:black; stroke-width:1; fill:rgb(0,0,255); opacity:0.33' /></svg></div>",
       "visible": true
      }
     },
     "75d8c81e-40eb-4af0-ac92-fec973dca749": {
      "model_module": "@jupyter-widgets/base",
      "model_module_version": "*",
      "model_name": "LayoutModel",
      "state": {
       "_model_module_version": "*",
       "_view_module_version": "*",
       "align_content": "",
       "align_self": "",
       "border": "",
       "bottom": "",
       "flex": "",
       "height": "",
       "justify_content": "",
       "left": "",
       "margin": "",
       "max_height": "",
       "max_width": "",
       "min_height": "",
       "min_width": "",
       "msg_throttle": 3,
       "overflow": "",
       "overflow_x": "",
       "overflow_y": "",
       "padding": "",
       "right": "",
       "top": ""
      }
     },
     "771485a4-9b24-46c1-9a82-e6a51fa09bb2": {
      "model_module": "@jupyter-widgets/controls",
      "model_module_version": "*",
      "model_name": "HTMLModel",
      "state": {
       "_model_module_version": "*",
       "_view_module_version": "*",
       "background_color": null,
       "color": null,
       "font_family": "",
       "font_size": "",
       "font_style": "",
       "font_weight": "",
       "layout": "IPY_MODEL_06983c5a-e328-47f6-a96e-80049dac6ac4",
       "msg_throttle": 3,
       "placeholder": "",
       "value": "<div><svg width='300' height='300' style='border:solid 1px'><circle cx='50' cy='50' r='40' style='stroke:black; stroke-width:1; fill:rgb(255,0,0); opacity:0.33' /><circle cx='110' cy='110' r='70' style='stroke:black; stroke-width:1; fill:rgb(0,0,255); opacity:0.33' /><circle cx='160' cy='160' r='40' style='stroke:black; stroke-width:1; fill:rgb(255,0,0); opacity:0.33' /><circle cx='220' cy='220' r='70' style='stroke:black; stroke-width:1; fill:rgb(0,0,255); opacity:0.33' /></svg></div><div><svg width='300' height='300' style='border:solid 1px'><circle cx='50' cy='50' r='50' style='stroke:black; stroke-width:1; fill:rgb(255,0,255); opacity:0.33' /><circle cx='110' cy='110' r='70' style='stroke:black; stroke-width:1; fill:rgb(0,0,255); opacity:0.33' /><circle cx='160' cy='160' r='50' style='stroke:black; stroke-width:1; fill:rgb(255,0,255); opacity:0.33' /><circle cx='220' cy='220' r='70' style='stroke:black; stroke-width:1; fill:rgb(0,0,255); opacity:0.33' /></svg></div>",
       "visible": true
      }
     },
     "8011cb78-ed5e-46b0-a7b4-054db0ba9a09": {
      "model_module": "@jupyter-widgets/controls",
      "model_module_version": "*",
      "model_name": "HTMLModel",
      "state": {
       "_model_module_version": "*",
       "_view_module_version": "*",
       "background_color": null,
       "color": null,
       "font_family": "",
       "font_size": "",
       "font_style": "",
       "font_weight": "",
       "layout": "IPY_MODEL_8a6beaa1-46f8-4f57-bf48-cbf4ea3169f5",
       "msg_throttle": 3,
       "placeholder": "",
       "value": "<div><svg width='300' height='300' style='border:solid 1px'><circle cx='50' cy='50' r='40' style='stroke:black; stroke-width:1; fill:rgb(255,0,0); opacity:0.33' /><circle cx='110' cy='110' r='70' style='stroke:black; stroke-width:1; fill:rgb(0,0,255); opacity:0.33' /><circle cx='160' cy='160' r='40' style='stroke:black; stroke-width:1; fill:rgb(255,0,0); opacity:0.33' /><circle cx='220' cy='220' r='70' style='stroke:black; stroke-width:1; fill:rgb(0,0,255); opacity:0.33' /></svg></div>",
       "visible": true
      }
     },
     "8a6beaa1-46f8-4f57-bf48-cbf4ea3169f5": {
      "model_module": "@jupyter-widgets/base",
      "model_module_version": "*",
      "model_name": "LayoutModel",
      "state": {
       "_model_module_version": "*",
       "_view_module_version": "*",
       "align_content": "",
       "align_self": "",
       "border": "",
       "bottom": "",
       "flex": "",
       "height": "",
       "justify_content": "",
       "left": "",
       "margin": "",
       "max_height": "",
       "max_width": "",
       "min_height": "",
       "min_width": "",
       "msg_throttle": 3,
       "overflow": "",
       "overflow_x": "",
       "overflow_y": "",
       "padding": "",
       "right": "",
       "top": ""
      }
     },
     "93f335db-1aa7-42fe-aea7-480a1cdb2309": {
      "model_module": "@jupyter-widgets/base",
      "model_module_version": "*",
      "model_name": "LayoutModel",
      "state": {
       "_model_module_version": "*",
       "_view_module_version": "*",
       "align_content": "",
       "align_self": "",
       "border": "",
       "bottom": "",
       "flex": "",
       "height": "",
       "justify_content": "",
       "left": "",
       "margin": "",
       "max_height": "",
       "max_width": "",
       "min_height": "",
       "min_width": "",
       "msg_throttle": 3,
       "overflow": "",
       "overflow_x": "",
       "overflow_y": "",
       "padding": "",
       "right": "",
       "top": ""
      }
     },
     "a35a0059-c145-4876-bade-44f47faeda34": {
      "model_module": "@jupyter-widgets/controls",
      "model_module_version": "*",
      "model_name": "HTMLModel",
      "state": {
       "_model_module_version": "*",
       "_view_module_version": "*",
       "background_color": null,
       "color": null,
       "font_family": "",
       "font_size": "",
       "font_style": "",
       "font_weight": "",
       "layout": "IPY_MODEL_02038edb-da1b-44c4-a64a-5ec3d4982f3c",
       "msg_throttle": 3,
       "placeholder": "",
       "value": "<svg width='300' height='300' style='border:solid 1px'><rect x='100' y='150' width='40' height='100' style='stroke:black; stroke-width:1; fill:rgb(255,0,0); opacity:0.33' /></svg>",
       "visible": true
      }
     },
     "a362bef7-7e44-4204-88e0-e602024bdb36": {
      "model_module": "@jupyter-widgets/base",
      "model_module_version": "*",
      "model_name": "LayoutModel",
      "state": {
       "_model_module_version": "*",
       "_view_module_version": "*",
       "align_content": "",
       "align_self": "",
       "border": "",
       "bottom": "",
       "flex": "",
       "height": "",
       "justify_content": "",
       "left": "",
       "margin": "",
       "max_height": "",
       "max_width": "",
       "min_height": "",
       "min_width": "",
       "msg_throttle": 3,
       "overflow": "",
       "overflow_x": "",
       "overflow_y": "",
       "padding": "",
       "right": "",
       "top": ""
      }
     },
     "a9035b58-b3af-4269-acaa-9aac5e1e3c4d": {
      "model_module": "@jupyter-widgets/base",
      "model_module_version": "*",
      "model_name": "LayoutModel",
      "state": {
       "_model_module_version": "*",
       "_view_module_version": "*",
       "align_content": "",
       "align_self": "",
       "border": "",
       "bottom": "",
       "flex": "",
       "height": "",
       "justify_content": "",
       "left": "",
       "margin": "",
       "max_height": "",
       "max_width": "",
       "min_height": "",
       "min_width": "",
       "msg_throttle": 3,
       "overflow": "",
       "overflow_x": "",
       "overflow_y": "",
       "padding": "",
       "right": "",
       "top": ""
      }
     },
     "ae05cffc-483d-47bd-955c-d5f7efe84e2a": {
      "model_module": "@jupyter-widgets/base",
      "model_module_version": "*",
      "model_name": "LayoutModel",
      "state": {
       "_model_module_version": "*",
       "_view_module_version": "*",
       "align_content": "",
       "align_self": "",
       "border": "",
       "bottom": "",
       "flex": "",
       "height": "",
       "justify_content": "",
       "left": "",
       "margin": "",
       "max_height": "",
       "max_width": "",
       "min_height": "",
       "min_width": "",
       "msg_throttle": 3,
       "overflow": "",
       "overflow_x": "",
       "overflow_y": "",
       "padding": "",
       "right": "",
       "top": ""
      }
     },
     "b389720f-c517-46a0-9291-49c35832b34c": {
      "model_module": "@jupyter-widgets/base",
      "model_module_version": "*",
      "model_name": "LayoutModel",
      "state": {
       "_model_module_version": "*",
       "_view_module_version": "*",
       "align_content": "",
       "align_self": "",
       "border": "",
       "bottom": "",
       "flex": "",
       "height": "",
       "justify_content": "",
       "left": "",
       "margin": "",
       "max_height": "",
       "max_width": "",
       "min_height": "",
       "min_width": "",
       "msg_throttle": 3,
       "overflow": "",
       "overflow_x": "",
       "overflow_y": "",
       "padding": "",
       "right": "",
       "top": ""
      }
     },
     "bb637332-bd50-4d60-bf95-e18c5796bf25": {
      "model_module": "@jupyter-widgets/controls",
      "model_module_version": "*",
      "model_name": "HTMLModel",
      "state": {
       "_model_module_version": "*",
       "_view_module_version": "*",
       "background_color": null,
       "color": null,
       "font_family": "",
       "font_size": "",
       "font_style": "",
       "font_weight": "",
       "layout": "IPY_MODEL_cdfa035e-a554-47f2-82a7-1eeb0fef6518",
       "msg_throttle": 3,
       "placeholder": "",
       "value": "<div><svg width='300' height='300' style='border:solid 1px'><circle cx='50' cy='50' r='40' style='stroke:black; stroke-width:1; fill:rgb(255,0,0); opacity:0.33' /><circle cx='110' cy='110' r='70' style='stroke:black; stroke-width:1; fill:rgb(0,0,255); opacity:0.33' /><circle cx='160' cy='160' r='40' style='stroke:black; stroke-width:1; fill:rgb(255,0,0); opacity:0.33' /><circle cx='220' cy='220' r='70' style='stroke:black; stroke-width:1; fill:rgb(0,0,255); opacity:0.33' /></svg></div>",
       "visible": true
      }
     },
     "bc2cdb99-0aec-4e39-a2b5-d878c3b4806e": {
      "model_module": "@jupyter-widgets/controls",
      "model_module_version": "*",
      "model_name": "HTMLModel",
      "state": {
       "_model_module_version": "*",
       "_view_module_version": "*",
       "background_color": null,
       "color": null,
       "font_family": "",
       "font_size": "",
       "font_style": "",
       "font_weight": "",
       "layout": "IPY_MODEL_f1ff1b54-a651-4a83-9515-198cf16aa076",
       "msg_throttle": 3,
       "placeholder": "",
       "value": "<div><svg width='300' height='300' style='border:solid 1px'><circle cx='50' cy='50' r='40' style='stroke:black; stroke-width:1; fill:rgb(255,0,0); opacity:0.33' /><circle cx='110' cy='110' r='70' style='stroke:black; stroke-width:1; fill:rgb(0,0,255); opacity:0.33' /><circle cx='160' cy='160' r='40' style='stroke:black; stroke-width:1; fill:rgb(255,0,0); opacity:0.33' /><circle cx='220' cy='220' r='70' style='stroke:black; stroke-width:1; fill:rgb(0,0,255); opacity:0.33' /></svg></div><div><svg width='300' height='300' style='border:solid 1px'><circle cx='50' cy='50' r='50' style='stroke:black; stroke-width:1; fill:rgb(255,0,255); opacity:0.33' /><circle cx='110' cy='110' r='70' style='stroke:black; stroke-width:1; fill:rgb(0,0,255); opacity:0.33' /><circle cx='160' cy='160' r='50' style='stroke:black; stroke-width:1; fill:rgb(255,0,255); opacity:0.33' /><circle cx='220' cy='220' r='70' style='stroke:black; stroke-width:1; fill:rgb(0,0,255); opacity:0.33' /></svg></div>",
       "visible": true
      }
     },
     "c344e221-ceb6-4ce2-b3ae-b62180443823": {
      "model_module": "@jupyter-widgets/controls",
      "model_module_version": "*",
      "model_name": "HTMLModel",
      "state": {
       "_model_module_version": "*",
       "_view_module_version": "*",
       "background_color": null,
       "color": null,
       "font_family": "",
       "font_size": "",
       "font_style": "",
       "font_weight": "",
       "layout": "IPY_MODEL_6af513c8-8b5b-4e84-99ea-ab9048e5a4eb",
       "msg_throttle": 3,
       "placeholder": "",
       "value": "<div><svg width='300' height='300' style='border:solid 1px'><circle cx='50' cy='50' r='40' style='stroke:black; stroke-width:1; fill:rgb(255,0,0); opacity:0.33' /><circle cx='110' cy='110' r='70' style='stroke:black; stroke-width:1; fill:rgb(0,0,255); opacity:0.33' /><circle cx='160' cy='160' r='40' style='stroke:black; stroke-width:1; fill:rgb(255,0,0); opacity:0.33' /><circle cx='220' cy='220' r='70' style='stroke:black; stroke-width:1; fill:rgb(0,0,255); opacity:0.33' /></svg></div>",
       "visible": true
      }
     },
     "c7b5ea2a-8e86-4899-9a1c-4d0915f67fa5": {
      "model_module": "@jupyter-widgets/base",
      "model_module_version": "*",
      "model_name": "LayoutModel",
      "state": {
       "_model_module_version": "*",
       "_view_module_version": "*",
       "align_content": "",
       "align_self": "",
       "border": "",
       "bottom": "",
       "flex": "",
       "height": "",
       "justify_content": "",
       "left": "",
       "margin": "",
       "max_height": "",
       "max_width": "",
       "min_height": "",
       "min_width": "",
       "msg_throttle": 3,
       "overflow": "",
       "overflow_x": "",
       "overflow_y": "",
       "padding": "",
       "right": "",
       "top": ""
      }
     },
     "c8fb1cf0-513d-4dd3-bfef-426f96107e9a": {
      "model_module": "@jupyter-widgets/base",
      "model_module_version": "*",
      "model_name": "LayoutModel",
      "state": {
       "_model_module_version": "*",
       "_view_module_version": "*",
       "align_content": "",
       "align_self": "",
       "border": "",
       "bottom": "",
       "flex": "",
       "height": "",
       "justify_content": "",
       "left": "",
       "margin": "",
       "max_height": "",
       "max_width": "",
       "min_height": "",
       "min_width": "",
       "msg_throttle": 3,
       "overflow": "",
       "overflow_x": "",
       "overflow_y": "",
       "padding": "",
       "right": "",
       "top": ""
      }
     },
     "c93dc962-a7d4-4071-a32b-a87a54c11143": {
      "model_module": "@jupyter-widgets/controls",
      "model_module_version": "*",
      "model_name": "HTMLModel",
      "state": {
       "_model_module_version": "*",
       "_view_module_version": "*",
       "background_color": null,
       "color": null,
       "font_family": "",
       "font_size": "",
       "font_style": "",
       "font_weight": "",
       "layout": "IPY_MODEL_a362bef7-7e44-4204-88e0-e602024bdb36",
       "msg_throttle": 3,
       "placeholder": "",
       "value": "<div><svg width='300' height='300' style='border:solid 1px'><circle cx='50' cy='50' r='40' style='stroke:black; stroke-width:1; fill:rgb(255,0,0); opacity:0.33' /><circle cx='110' cy='110' r='70' style='stroke:black; stroke-width:1; fill:rgb(0,0,255); opacity:0.33' /><circle cx='160' cy='160' r='40' style='stroke:black; stroke-width:1; fill:rgb(255,0,0); opacity:0.33' /><circle cx='220' cy='220' r='70' style='stroke:black; stroke-width:1; fill:rgb(0,0,255); opacity:0.33' /></svg></div>",
       "visible": true
      }
     },
     "cdfa035e-a554-47f2-82a7-1eeb0fef6518": {
      "model_module": "@jupyter-widgets/base",
      "model_module_version": "*",
      "model_name": "LayoutModel",
      "state": {
       "_model_module_version": "*",
       "_view_module_version": "*",
       "align_content": "",
       "align_self": "",
       "border": "",
       "bottom": "",
       "flex": "",
       "height": "",
       "justify_content": "",
       "left": "",
       "margin": "",
       "max_height": "",
       "max_width": "",
       "min_height": "",
       "min_width": "",
       "msg_throttle": 3,
       "overflow": "",
       "overflow_x": "",
       "overflow_y": "",
       "padding": "",
       "right": "",
       "top": ""
      }
     },
     "ce10e577-ebd9-49f1-b110-b897d4878bbf": {
      "model_module": "@jupyter-widgets/controls",
      "model_module_version": "*",
      "model_name": "HTMLModel",
      "state": {
       "_model_module_version": "*",
       "_view_module_version": "*",
       "background_color": null,
       "color": null,
       "font_family": "",
       "font_size": "",
       "font_style": "",
       "font_weight": "",
       "layout": "IPY_MODEL_21b3739e-8a18-4343-85ea-247d02923556",
       "msg_throttle": 3,
       "placeholder": "",
       "value": "<div><svg width='300' height='300' style='border:solid 1px'><circle cx='50' cy='50' r='40' style='stroke:black; stroke-width:1; fill:rgb(255,0,0); opacity:0.33' /><circle cx='110' cy='110' r='70' style='stroke:black; stroke-width:1; fill:rgb(0,0,255); opacity:0.33' /><circle cx='160' cy='160' r='40' style='stroke:black; stroke-width:1; fill:rgb(255,0,0); opacity:0.33' /><circle cx='220' cy='220' r='70' style='stroke:black; stroke-width:1; fill:rgb(0,0,255); opacity:0.33' /></svg></div>",
       "visible": true
      }
     },
     "d19b0f52-b1a7-416e-9963-fe6d6dcf6289": {
      "model_module": "@jupyter-widgets/controls",
      "model_module_version": "*",
      "model_name": "HTMLModel",
      "state": {
       "_model_module_version": "*",
       "_view_module_version": "*",
       "background_color": null,
       "color": null,
       "font_family": "",
       "font_size": "",
       "font_style": "",
       "font_weight": "",
       "layout": "IPY_MODEL_dbbf3f6a-7b0a-4e2e-9f46-54183669fd4a",
       "msg_throttle": 3,
       "placeholder": "",
       "value": "<svg width='300' height='300' style='border:solid 1px'><rect x='100' y='70' width='40' height='100' style='stroke:black; stroke-width:1; fill:rgb(255,0,0); opacity:0.33' /></svg>",
       "visible": true
      }
     },
     "d888d34f-cf44-482e-ba67-f6b42234ec66": {
      "model_module": "@jupyter-widgets/base",
      "model_module_version": "*",
      "model_name": "LayoutModel",
      "state": {
       "_model_module_version": "*",
       "_view_module_version": "*",
       "align_content": "",
       "align_self": "",
       "border": "",
       "bottom": "",
       "flex": "",
       "height": "",
       "justify_content": "",
       "left": "",
       "margin": "",
       "max_height": "",
       "max_width": "",
       "min_height": "",
       "min_width": "",
       "msg_throttle": 3,
       "overflow": "",
       "overflow_x": "",
       "overflow_y": "",
       "padding": "",
       "right": "",
       "top": ""
      }
     },
     "d8c98bbd-1931-49a4-b9d4-89b31f39d479": {
      "model_module": "@jupyter-widgets/controls",
      "model_module_version": "*",
      "model_name": "HTMLModel",
      "state": {
       "_model_module_version": "*",
       "_view_module_version": "*",
       "background_color": null,
       "color": null,
       "font_family": "",
       "font_size": "",
       "font_style": "",
       "font_weight": "",
       "layout": "IPY_MODEL_f921601c-bef0-4051-8039-f986c0f2b450",
       "msg_throttle": 3,
       "placeholder": "",
       "value": "<svg width='300' height='300' style='border:solid 1px'><rect width='40' height='100' style='stroke:black; stroke-width:1; fill:rgb(255,0,0); opacity:0.33' /></svg>",
       "visible": true
      }
     },
     "dbbf3f6a-7b0a-4e2e-9f46-54183669fd4a": {
      "model_module": "@jupyter-widgets/base",
      "model_module_version": "*",
      "model_name": "LayoutModel",
      "state": {
       "_model_module_version": "*",
       "_view_module_version": "*",
       "align_content": "",
       "align_self": "",
       "border": "",
       "bottom": "",
       "flex": "",
       "height": "",
       "justify_content": "",
       "left": "",
       "margin": "",
       "max_height": "",
       "max_width": "",
       "min_height": "",
       "min_width": "",
       "msg_throttle": 3,
       "overflow": "",
       "overflow_x": "",
       "overflow_y": "",
       "padding": "",
       "right": "",
       "top": ""
      }
     },
     "dd078260-5952-4a0c-b497-e13a1632cd5f": {
      "model_module": "@jupyter-widgets/controls",
      "model_module_version": "*",
      "model_name": "HTMLModel",
      "state": {
       "_model_module_version": "*",
       "_view_module_version": "*",
       "background_color": null,
       "color": null,
       "font_family": "",
       "font_size": "",
       "font_style": "",
       "font_weight": "",
       "layout": "IPY_MODEL_c7b5ea2a-8e86-4899-9a1c-4d0915f67fa5",
       "msg_throttle": 3,
       "placeholder": "",
       "value": "<div><svg width='300' height='300' style='border:solid 1px'><circle cx='50' cy='50' r='40' style='stroke:black; stroke-width:1; fill:rgb(255,0,0); opacity:0.33' /></svg></div>",
       "visible": true
      }
     },
     "ec7cb478-7bed-498b-b16e-233c3e4590ec": {
      "model_module": "@jupyter-widgets/controls",
      "model_module_version": "*",
      "model_name": "HTMLModel",
      "state": {
       "_model_module_version": "*",
       "_view_module_version": "*",
       "background_color": null,
       "color": null,
       "font_family": "",
       "font_size": "",
       "font_style": "",
       "font_weight": "",
       "layout": "IPY_MODEL_d888d34f-cf44-482e-ba67-f6b42234ec66",
       "msg_throttle": 3,
       "placeholder": "",
       "value": "<div><svg width='300' height='300' style='border:solid 1px'><circle cx='50' cy='50' r='40' style='stroke:black; stroke-width:1; fill:rgb(255,0,0); opacity:0.33' /></svg></div>",
       "visible": true
      }
     },
     "ee886be7-0a7d-4e9a-81d1-3738c2d4c3dc": {
      "model_module": "@jupyter-widgets/controls",
      "model_module_version": "*",
      "model_name": "HTMLModel",
      "state": {
       "_model_module_version": "*",
       "_view_module_version": "*",
       "background_color": null,
       "color": null,
       "font_family": "",
       "font_size": "",
       "font_style": "",
       "font_weight": "",
       "layout": "IPY_MODEL_47466f2d-9d48-4f03-a504-2dca0cb4f336",
       "msg_throttle": 3,
       "placeholder": "",
       "value": "<svg width='300' height='300' style='border:solid 1px'><rect x='100' y='70' width='40' height='100' style='stroke:black; stroke-width:1; fill:rgb(255,0,0); opacity:0.33' /></svg>",
       "visible": true
      }
     },
     "f1ff1b54-a651-4a83-9515-198cf16aa076": {
      "model_module": "@jupyter-widgets/base",
      "model_module_version": "*",
      "model_name": "LayoutModel",
      "state": {
       "_model_module_version": "*",
       "_view_module_version": "*",
       "align_content": "",
       "align_self": "",
       "border": "",
       "bottom": "",
       "flex": "",
       "height": "",
       "justify_content": "",
       "left": "",
       "margin": "",
       "max_height": "",
       "max_width": "",
       "min_height": "",
       "min_width": "",
       "msg_throttle": 3,
       "overflow": "",
       "overflow_x": "",
       "overflow_y": "",
       "padding": "",
       "right": "",
       "top": ""
      }
     },
     "f2f7b83d-db9e-4565-873a-65851c7e9166": {
      "model_module": "@jupyter-widgets/controls",
      "model_module_version": "*",
      "model_name": "HTMLModel",
      "state": {
       "_model_module_version": "*",
       "_view_module_version": "*",
       "background_color": null,
       "color": null,
       "font_family": "",
       "font_size": "",
       "font_style": "",
       "font_weight": "",
       "layout": "IPY_MODEL_ae05cffc-483d-47bd-955c-d5f7efe84e2a",
       "msg_throttle": 3,
       "placeholder": "",
       "value": "<svg width='400' height='110'><rect width='300' height='100' style='stroke:black; stroke-width:1; fill:rgb(255,0,0); opacity:0.33' /></svg>",
       "visible": true
      }
     },
     "f921601c-bef0-4051-8039-f986c0f2b450": {
      "model_module": "@jupyter-widgets/base",
      "model_module_version": "*",
      "model_name": "LayoutModel",
      "state": {
       "_model_module_version": "*",
       "_view_module_version": "*",
       "align_content": "",
       "align_self": "",
       "border": "",
       "bottom": "",
       "flex": "",
       "height": "",
       "justify_content": "",
       "left": "",
       "margin": "",
       "max_height": "",
       "max_width": "",
       "min_height": "",
       "min_width": "",
       "msg_throttle": 3,
       "overflow": "",
       "overflow_x": "",
       "overflow_y": "",
       "padding": "",
       "right": "",
       "top": ""
      }
     },
     "ff77ec5e-977a-4fcc-a1b3-308068248100": {
      "model_module": "@jupyter-widgets/base",
      "model_module_version": "*",
      "model_name": "LayoutModel",
      "state": {
       "_model_module_version": "*",
       "_view_module_version": "*",
       "align_content": "",
       "align_self": "",
       "border": "",
       "bottom": "",
       "flex": "",
       "height": "",
       "justify_content": "",
       "left": "",
       "margin": "",
       "max_height": "",
       "max_width": "",
       "min_height": "",
       "min_width": "",
       "msg_throttle": 3,
       "overflow": "",
       "overflow_x": "",
       "overflow_y": "",
       "padding": "",
       "right": "",
       "top": ""
      }
     }
    },
    "version_major": 2,
    "version_minor": 0
   }
  }
 },
 "nbformat": 4,
 "nbformat_minor": 2
}
