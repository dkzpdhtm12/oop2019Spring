{
 "cells": [
  {
   "cell_type": "markdown",
   "metadata": {},
   "source": [
    "# HW02\n",
    "* 이름: 아무개\n",
    "* 학번: 99990000\n",
    "\n",
    "위에 이름과 학번을 자신의 것으로 기입하고 또 맨 위에 노트북의 제목도 `HW02 이름 학번`으로 바꾸어 HiClass를 통해 마감시간까지 제출하면 됩니다.\n",
    "마감시간은 HiClass 제출하는 항목에 설정해 놓겠습니다.\n",
    "\n",
    "주의사항: 이번에는 반드시 테스트 코드가 있어야 합니다.\n",
    " * 메소드 내용이 완전히 맞게 구현되었다 하더라도 테스트 코드가 없으면 0점입니다.\n",
    " * 리스트에는 기본적으로 두 가지 경우가 항상 있으므로 (null인 경우와 아닌 경우) 각각의 테스트마다 최소한 2개 이상의 값으로 테스트해 보아야 합니다."
   ]
  },
  {
   "cell_type": "markdown",
   "metadata": {},
   "source": [
    "## 우선 제너릭이 아닌 정수 리스트와 \"정수 리스트\"의 리스트를 따로 정의\n",
    "\n",
    " * `equals` (1점)\n",
    " * `append` (1점)\n",
    " * `reverse` (1점)\n",
    " * `tails` (1점)\n",
    " * `palindrome` (1점)\n",
    " * `flat` (1점)"
   ]
  },
  {
   "cell_type": "code",
   "execution_count": 1,
   "metadata": {},
   "outputs": [
    {
     "data": {
      "text/plain": [
       "com.twosigma.beaker.javash.bkr3687b722.NodeInt"
      ]
     },
     "execution_count": 1,
     "metadata": {},
     "output_type": "execute_result"
    }
   ],
   "source": [
    "class NodeInt {\n",
    "    private int value;\n",
    "    private NodeInt next;\n",
    "    // 생성자\n",
    "    NodeInt(int v, NodeInt n) { value=v; next=n; } \n",
    "    // 기본적인 값을 가져오기 위한 메소드\n",
    "    int head() { return value; }\n",
    "    NodeInt tail() { return next; }\n",
    "\n",
    "    @Override // 리스트의 내용을 알아보기 편하게 출력되게\n",
    "    public String toString() {\n",
    "        return head() + \", \" + tail();\n",
    "    }\n",
    "    \n",
    "    ////////////////////////////////////////////////////////////////\n",
    "\n",
    "    // 빈 리스트를 나타내는 null인 경우를 포함해 처리하기 위한 정적 메소드\n",
    "    static int length(NodeInt xs) {\n",
    "        return (xs==null)? 0: xs.length(); // null이 아니면 인스턴스 메소드 호출\n",
    "    }\n",
    "    static boolean equals(NodeInt xs, NodeInt ys) {\n",
    "        return (xs==null)? ys==null: xs.equals(ys); // null이 아니면 인스턴스 메소드 호출\n",
    "    }\n",
    "    static NodeInt append(NodeInt xs, NodeInt ys) { // xs와 ys를 이어붙인 새로운 리스트\n",
    "        return (xs==null)? ys: xs.append(ys);\n",
    "    }\n",
    "    static NodeInt reverse(NodeInt xs) { // xs를 뒤집은 새로운 리스트\n",
    "        return (xs==null)? null: xs.reverse();\n",
    "    }\n",
    "    static boolean palindrome(NodeInt xs) { // xs의 순서를 뒤집어도 같은 내용의 리스트인지 검사\n",
    "        return false; // 이걸 완성해보자\n",
    "    } \n",
    "    static NodeNodeInt tails(NodeInt xs) { // xs의 tail, xs의 tail의 tail, xs의 tail의 tail의 tail, ... , null\n",
    "        return (xs==null)? null: xs.tails(); // null이 아니면 인스턴스 메소드 호출\n",
    "    }\n",
    "    \n",
    "    // 위의 정적 메소드에 대응되는 인스턴스 메소드\n",
    "    int length() {\n",
    "        return 1 + length( tail() ); // tail()이 null일수도 있으므로 클래스 메소드 호출\n",
    "    }\n",
    "    boolean equals(NodeInt ys) { // 같은 원소가 정확히 같은 순서로 나타나는 리스트인지 검사\n",
    "        return false; // 작성해보기\n",
    "    }\n",
    "    NodeInt append(NodeInt ys) { // 끝에다 주어진 리스트를 이어붙인 새로운 리스트\n",
    "        return null; // 작성해보기\n",
    "    }\n",
    "    NodeInt reverse() { // 리스트를 원소가 나열된 순서를 뒤집은 새로운 리스트\n",
    "        return null; // 작성해보기\n",
    "    }\n",
    "    boolean palindrome() { // 순서를 뒤집어도 같은 내용의 리스트인지 검사\n",
    "        // 예를 들면 null 또는 1,2,2,1,null 또는 1,2,3,2,1,null\n",
    "        return false; // 작성해보기\n",
    "    }\n",
    "    NodeNodeInt tails() {\n",
    "        // 1,2,3,null 의 tails는\n",
    "        // [2,3,null],[3,null],[null],null\n",
    "        return null; // 작성해보기\n",
    "    }\n",
    "}\n",
    "\n",
    "class NodeNodeInt { // 정수 리스트를 원소로 하는 리스트, 즉 \"정수 리스트\"의 리스트이다\n",
    "    private NodeInt value;\n",
    "    private NodeNodeInt next;\n",
    "    // 생성자\n",
    "    NodeNodeInt(NodeInt v, NodeNodeInt n) { value=v; next=n; } \n",
    "    // 기본적인 값을 가져오기 위한 메소드\n",
    "    NodeInt head() { return value; }\n",
    "    NodeNodeInt tail() { return next; }\n",
    "\n",
    "    @Override // 리스트의 내용을 알아보기 편하게 출력되게\n",
    "    public String toString() {\n",
    "        return \"[\" + head() + \"], \" + tail();\n",
    "    }\n",
    "    \n",
    "    static NodeInt flat(NodeNodeInt xss) { return (xss==null)? null: xss.flat(); }\n",
    "    \n",
    "    NodeInt flat() { return null; } // 힌트: 이것도 append를 이용하면 쉽다\n",
    "}"
   ]
  },
  {
   "cell_type": "markdown",
   "metadata": {},
   "source": [
    "## 제너릭 클래스 정의\n",
    "\n",
    "* 생성자 (1점)\n",
    "* length (1점)\n",
    "* equals (1점)\n",
    "* append (1점)\n",
    "* reverse (1점)\n",
    "* tails (1점)\n",
    "* palindrome (1점)\n",
    "* flat (4점) - 이것은 클래스 메소드로만 정의하도록. 그게 아마 더 쉬울 것이다. 인스턴스 메소드와 함께 정의하기는 좀 까다로움."
   ]
  },
  {
   "cell_type": "code",
   "execution_count": 2,
   "metadata": {},
   "outputs": [
    {
     "data": {
      "text/plain": [
       "com.twosigma.beaker.javash.bkr3687b722.Nd"
      ]
     },
     "execution_count": 2,
     "metadata": {},
     "output_type": "execute_result"
    }
   ],
   "source": [
    "class Nd { }\n",
    "\n",
    "class Node<T> extends Nd {\n",
    "    T value;\n",
    "    Node<T> next;\n",
    "    \n",
    "    // 생성자를 적절하게 정의하라\n",
    "    \n",
    "    T head() { return value; }\n",
    "    Node<T> tail() { return next; }\n",
    "    \n",
    "    @Override // 리스트의 내용을 알아보기 편하게 출력되게\n",
    "    public String toString() {\n",
    "        return\n",
    "            ( (head() instanceof Nd)\n",
    "             ? \"[\"+ head() + \"]\"\n",
    "             :      head() )\n",
    "            + \", \" + tail();\n",
    "    }\n",
    "\n",
    "    // 제너릭 클래스에 맞게 나머지 메소드들도 정의해 보라\n",
    "    // length, equals, apppend, reverse, palindrome, tails, flat\n",
    "}"
   ]
  },
  {
   "cell_type": "code",
   "execution_count": 3,
   "metadata": {},
   "outputs": [
    {
     "ename": "constructor Node in class com.twosigma.beaker.javash.bkr3687b722.Node<T> cannot be applied to given types;",
     "evalue": "constructor Node in class com.twosigma.beaker.javash.bkr3687b722.Node<T> cannot be applied to given types;",
     "output_type": "error",
     "traceback": [
      "\u001b[0;31mconstructor Node in class com.twosigma.beaker.javash.bkr3687b722.Node<T> cannot be applied to given types;\u001b[0;0m",
      "\u001b[0;31m  required: no arguments\u001b[0;0m",
      "\u001b[0;31m  found: java.lang.String,com.twosigma.beaker.javash.bkr3687b722.Node<java.lang.String>\u001b[0;0m",
      "\u001b[0;31m  reason: actual and formal argument lists differ in length\u001b[0;0m",
      "\u001b[0;31m Node<String> l1 = new Node<String>(\"c\", l0)\u001b[0;0m",
      "\u001b[0;31m                   ^                        ^ \u001b[0;0m",
      "\u001b[0;31m\u001b[0;0m",
      "\u001b[0;31mcannot infer type arguments for com.twosigma.beaker.javash.bkr3687b722.Node<>\u001b[0;0m",
      "\u001b[0;31m  reason: cannot infer type-variable(s) T\u001b[0;0m",
      "\u001b[0;31m    (actual and formal argument lists differ in length)\u001b[0;0m",
      "\u001b[0;31m Node<String> l2 = new Node<>(\"b\", l1)\u001b[0;0m",
      "\u001b[0;31m                   ^                  ^ \u001b[0;0m",
      "\u001b[0;31m\u001b[0;0m",
      "\u001b[0;31mconstructor Node in class com.twosigma.beaker.javash.bkr3687b722.Node<T> cannot be applied to given types;\u001b[0;0m",
      "\u001b[0;31m  required: no arguments\u001b[0;0m",
      "\u001b[0;31m  found: java.lang.String,com.twosigma.beaker.javash.bkr3687b722.Node<java.lang.String>\u001b[0;0m",
      "\u001b[0;31m  reason: actual and formal argument lists differ in length\u001b[0;0m",
      "\u001b[0;31m Node<String> l3 = new Node(\"a\", l2)\u001b[0;0m",
      "\u001b[0;31m                   ^                ^ \u001b[0;0m",
      "\u001b[0;31m\u001b[0;0m",
      "\u001b[0;31mconstructor Node in class com.twosigma.beaker.javash.bkr3687b722.Node<T> cannot be applied to given types;\u001b[0;0m",
      "\u001b[0;31m  required: no arguments\u001b[0;0m",
      "\u001b[0;31m  found: com.twosigma.beaker.javash.bkr3687b722.Node<java.lang.String>,com.twosigma.beaker.javash.bkr3687b722.Node<com.twosigma.beaker.javash.bkr3687b722.Node<java.lang.String>>\u001b[0;0m",
      "\u001b[0;31m  reason: actual and formal argument lists differ in length\u001b[0;0m",
      "\u001b[0;31m Node< Node<String> > ll1 = new Node< Node<String> >(l3, ll0)\u001b[0;0m",
      "\u001b[0;31m                            ^                                ^ \u001b[0;0m",
      "\u001b[0;31m\u001b[0;0m",
      "\u001b[0;31mcannot infer type arguments for com.twosigma.beaker.javash.bkr3687b722.Node<>\u001b[0;0m",
      "\u001b[0;31m  reason: cannot infer type-variable(s) T\u001b[0;0m",
      "\u001b[0;31m    (actual and formal argument lists differ in length)\u001b[0;0m",
      "\u001b[0;31m Node< Node<String> > ll2 = new Node<>(l2, ll1)\u001b[0;0m",
      "\u001b[0;31m                            ^                  ^ \u001b[0;0m",
      "\u001b[0;31m\u001b[0;0m",
      "\u001b[0;31mconstructor Node in class com.twosigma.beaker.javash.bkr3687b722.Node<T> cannot be applied to given types;\u001b[0;0m",
      "\u001b[0;31m  required: no arguments\u001b[0;0m",
      "\u001b[0;31m  found: com.twosigma.beaker.javash.bkr3687b722.Node<java.lang.String>,com.twosigma.beaker.javash.bkr3687b722.Node<com.twosigma.beaker.javash.bkr3687b722.Node<java.lang.String>>\u001b[0;0m",
      "\u001b[0;31m  reason: actual and formal argument lists differ in length\u001b[0;0m",
      "\u001b[0;31m Node< Node<String> > ll3 = new Node(l1, ll2)\u001b[0;0m",
      "\u001b[0;31m                            ^                ^ \u001b[0;0m"
     ]
    }
   ],
   "source": [
    "// 위에서 생성자만 제대로 정의하면 아래 코드가 에러없이 실행되어 정상적으로 출력될 것이다\n",
    "\n",
    "Node<String> l0 = null;\n",
    "Node<String> l1 = new Node<String>(\"c\", l0);\n",
    "Node<String> l2 = new Node<>(\"b\", l1); // 생략가능\n",
    "Node<String> l3 = new Node(\"a\", l2); // 이렇게도 생략가능\n",
    "\n",
    "System.out.println(\"l3: \" + l3); // a, b, c, null\n",
    "\n",
    "Node< Node<String> > ll0 = null;\n",
    "Node< Node<String> > ll1 = new Node< Node<String> >(l3, ll0);\n",
    "Node< Node<String> > ll2 = new Node<>(l2, ll1); // 생략가능\n",
    "Node< Node<String> > ll3 = new Node(l1, ll2); // 이렇게도 생략가능\n",
    "\n",
    "System.out.println(\"ll3: \" + ll3); // [c, null], [b, c, null], [a, b, c, null], null\n",
    "\n",
    "// // flat을 제대로 정의하고 나면 이런 게 동작할 것이다.\n",
    "// System.out.println(\"Node.flat(ll3) = \" + Node.flat(ll3)); // c, b, c, a, b, c, null\n",
    "\n",
    "// 마찬가지로 다른 메소드에 대해서도 테스트 코드 작성"
   ]
  }
 ],
 "metadata": {
  "kernelspec": {
   "display_name": "Java",
   "language": "java",
   "name": "java"
  },
  "language_info": {
   "codemirror_mode": "text/x-java",
   "file_extension": ".java",
   "mimetype": "",
   "name": "Java",
   "nbconverter_exporter": "",
   "version": "11.0.3"
  },
  "toc": {
   "base_numbering": 1,
   "nav_menu": {},
   "number_sections": false,
   "sideBar": false,
   "skip_h1_title": false,
   "title_cell": "Table of Contents",
   "title_sidebar": "Contents",
   "toc_cell": false,
   "toc_position": {},
   "toc_section_display": false,
   "toc_window_display": false
  }
 },
 "nbformat": 4,
 "nbformat_minor": 2
}
