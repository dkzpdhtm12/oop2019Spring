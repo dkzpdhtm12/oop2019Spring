{
 "cells": [
  {
   "cell_type": "markdown",
   "metadata": {},
   "source": [
    "# 35 인터페이스"
   ]
  },
  {
   "cell_type": "code",
   "execution_count": 5,
   "metadata": {},
   "outputs": [
    {
     "data": {
      "text/plain": [
       "com.twosigma.beaker.javash.bkr45fa3c28.Eq"
      ]
     },
     "execution_count": 5,
     "metadata": {},
     "output_type": "execute_result"
    }
   ],
   "source": [
    "// 인터페이스 상속의 예\n",
    "// 제너릭도 같이 사용 가능\n",
    "// 디폴트 메소드\n",
    "// 인터페이스끼리 상속\n",
    "\n",
    "interface Eq<T> { // 같은지 다른지 테스트 가능한\n",
    "    default public boolean same(T x) { return !notsame(x); }\n",
    "    default public boolean notsame(T x) { return !same(x); }\n",
    "}\n",
    "\n",
    "interface Ord<T> extends Eq<T> { // 크기 혹은 순서 비교에는 같은지 다른지 개념이 포함되므로\n",
    "    default public boolean lt(T x) { // x보다 작다\n",
    "        return !ge(x);\n",
    "    }\n",
    "    default public boolean le(T x) { // x보다 작거나 같다\n",
    "        return lt(x) || same(x);\n",
    "    }\n",
    "    default public boolean gt(T x) { // x보다 크다\n",
    "        return !le(x);\n",
    "    }\n",
    "    default public boolean ge(T x) { // x보다 크거나 같다\n",
    "        return gt(x) || same(x);\n",
    "    }\n",
    "}\n",
    "\n",
    "class MyInt implements /*Eq<MyInt>,*/ Ord<MyInt> {\n",
    "    int value;\n",
    "    MyInt(int v) { value = v; }\n",
    "    @Override\n",
    "    public boolean same(MyInt x) { return value == x.value; }\n",
    "    @Override\n",
    "    public boolean lt(MyInt x) { return value < x.value; }\n",
    "}"
   ]
  },
  {
   "cell_type": "code",
   "execution_count": 15,
   "metadata": {},
   "outputs": [
    {
     "name": "stdout",
     "output_type": "stream",
     "text": [
      "true\n",
      "false\n",
      "false\n",
      "false\n",
      "true\n",
      "true\n",
      "false\n",
      "false\n",
      "true\n",
      "true\n",
      "true\n",
      "false\n",
      "true\n",
      "false\n",
      "false\n",
      "true\n",
      "false\n",
      "true\n"
     ]
    },
    {
     "data": {
      "text/plain": [
       "null"
      ]
     },
     "execution_count": 15,
     "metadata": {},
     "output_type": "execute_result"
    }
   ],
   "source": [
    "MyInt x1 = new MyInt(3);\n",
    "MyInt x2 = new MyInt(3);\n",
    "MyInt x3 = new MyInt(4);\n",
    "System.out.println(x1.same(x2));\n",
    "System.out.println(x2.same(x3));\n",
    "System.out.println(x1.lt(x2));\n",
    "System.out.println(x2.lt(x1));\n",
    "System.out.println(x1.le(x2));\n",
    "System.out.println(x2.le(x1));\n",
    "System.out.println(x1.gt(x2));\n",
    "System.out.println(x2.gt(x1));\n",
    "System.out.println(x1.ge(x2));\n",
    "System.out.println(x2.ge(x1));\n",
    "System.out.println(x1.lt(x3));\n",
    "System.out.println(x3.lt(x1));\n",
    "System.out.println(x1.le(x3));\n",
    "System.out.println(x3.le(x1));\n",
    "System.out.println(x1.gt(x3));\n",
    "System.out.println(x3.gt(x1));\n",
    "System.out.println(x1.ge(x3));\n",
    "System.out.println(x3.ge(x1));"
   ]
  },
  {
   "cell_type": "code",
   "execution_count": null,
   "metadata": {},
   "outputs": [],
   "source": []
  }
 ],
 "metadata": {
  "kernelspec": {
   "display_name": "Java",
   "language": "java",
   "name": "java"
  },
  "language_info": {
   "codemirror_mode": "text/x-java",
   "file_extension": ".java",
   "mimetype": "",
   "name": "Java",
   "nbconverter_exporter": "",
   "version": "1.8.0_121"
  },
  "toc": {
   "base_numbering": 1,
   "nav_menu": {},
   "number_sections": false,
   "sideBar": false,
   "skip_h1_title": false,
   "title_cell": "Table of Contents",
   "title_sidebar": "Contents",
   "toc_cell": false,
   "toc_position": {},
   "toc_section_display": false,
   "toc_window_display": false
  }
 },
 "nbformat": 4,
 "nbformat_minor": 2
}
