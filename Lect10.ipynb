{
 "cells": [
  {
   "cell_type": "markdown",
   "metadata": {},
   "source": [
    "# 35 인터페이스"
   ]
  },
  {
   "cell_type": "code",
   "execution_count": 12,
   "metadata": {},
   "outputs": [
    {
     "data": {
      "text/plain": [
       "com.twosigma.beaker.javash.bkr69323002.Eq"
      ]
     },
     "execution_count": 12,
     "metadata": {},
     "output_type": "execute_result"
    }
   ],
   "source": [
    "// 인터페이스 상속의 예\n",
    "// 제너릭도 같이 사용 가능\n",
    "// 디폴트 메소드\n",
    "// 인터페이스끼리 상속\n",
    "\n",
    "interface Eq<T> { // 같은지 다른지 테스트 가능한\n",
    "    default public boolean same(T x) { return !notsame(x); }\n",
    "    default public boolean notsame(T x) { return !same(x); }\n",
    "}\n",
    "\n",
    "interface Ord<T> extends Eq<T> {\n",
    "    default public boolean lt(T x) { // x보다 작다\n",
    "        return !ge(x);\n",
    "    }\n",
    "    default public boolean le(T x) { // x보다 작거나 같다\n",
    "        return lt(x) || same(x);\n",
    "    }\n",
    "    default public boolean gt(T x) { // x보다 크다\n",
    "        return !le(x);\n",
    "    }\n",
    "    default public boolean ge(T x) { // x보다 크거나 같다\n",
    "        return gt(x) || same(x);\n",
    "    }\n",
    "}\n",
    "\n",
    "class MyInt implements /*Eq<MyInt>,*/ Ord<MyInt> {\n",
    "    int value;\n",
    "    MyInt(int v) { value = v; }\n",
    "    @Override\n",
    "    public boolean same(MyInt x) { return value==x.value; }\n",
    "    /*\n",
    "    @Override\n",
    "    public boolean notsame(MyInt x) { return !same(x); } */\n",
    "}"
   ]
  },
  {
   "cell_type": "code",
   "execution_count": 8,
   "metadata": {},
   "outputs": [
    {
     "name": "stdout",
     "output_type": "stream",
     "text": [
      "true\n",
      "false\n"
     ]
    },
    {
     "data": {
      "text/plain": [
       "null"
      ]
     },
     "execution_count": 8,
     "metadata": {},
     "output_type": "execute_result"
    }
   ],
   "source": [
    "MyInt x1 = new MyInt(3);\n",
    "MyInt x2 = new MyInt(3);\n",
    "MyInt x3 = new MyInt(4);\n",
    "System.out.println(x1.same(x2));\n",
    "System.out.println(x2.same(x3));"
   ]
  },
  {
   "cell_type": "code",
   "execution_count": null,
   "metadata": {},
   "outputs": [],
   "source": []
  }
 ],
 "metadata": {
  "kernelspec": {
   "display_name": "Java",
   "language": "java",
   "name": "java"
  },
  "language_info": {
   "codemirror_mode": "text/x-java",
   "file_extension": ".java",
   "mimetype": "",
   "name": "Java",
   "nbconverter_exporter": "",
   "version": "11.0.1"
  },
  "toc": {
   "base_numbering": 1,
   "nav_menu": {},
   "number_sections": false,
   "sideBar": false,
   "skip_h1_title": false,
   "title_cell": "Table of Contents",
   "title_sidebar": "Contents",
   "toc_cell": false,
   "toc_position": {},
   "toc_section_display": false,
   "toc_window_display": false
  }
 },
 "nbformat": 4,
 "nbformat_minor": 2
}
