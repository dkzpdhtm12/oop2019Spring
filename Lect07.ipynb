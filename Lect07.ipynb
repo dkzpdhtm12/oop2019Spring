{
 "cells": [
  {
   "cell_type": "markdown",
   "metadata": {},
   "source": [
    "# 34 final\n",
    "\n",
    "`final`로 변수를 선언하면 대입(assignment)이 1번으로 제한된다.\n",
    "즉 첫번째 대입으로 초기화된 이후에 다른 객체(객체 개념이 없는 기본타입의 경우는 그냥 일반 값)를 대입할 수 없다."
   ]
  },
  {
   "cell_type": "code",
   "execution_count": 1,
   "metadata": {},
   "outputs": [
    {
     "ename": "cannot assign a value to final variable n",
     "evalue": "cannot assign a value to final variable n",
     "output_type": "error",
     "traceback": [
      "\u001b[1;31mcannot assign a value to final variable n\u001b[0;0m",
      "\u001b[1;31m n = 2\u001b[0;0m",
      "\u001b[1;31m ^^     \u001b[0;0m"
     ]
    }
   ],
   "source": [
    "final int n = 1;\n",
    "n = 2;\n",
    "return n;"
   ]
  },
  {
   "cell_type": "code",
   "execution_count": 2,
   "metadata": {},
   "outputs": [
    {
     "data": {
      "text/plain": [
       "1"
      ]
     },
     "execution_count": 2,
     "metadata": {},
     "output_type": "execute_result"
    }
   ],
   "source": [
    "final int n;\n",
    "n = 1;\n",
    "return n;"
   ]
  },
  {
   "cell_type": "code",
   "execution_count": 3,
   "metadata": {},
   "outputs": [
    {
     "data": {
      "text/plain": [
       "com.twosigma.beaker.javash.bkrfc04bbf9.A"
      ]
     },
     "execution_count": 3,
     "metadata": {},
     "output_type": "execute_result"
    }
   ],
   "source": [
    "class A {\n",
    "    int x = 0;\n",
    "    int y = 0;\n",
    "    A() {}\n",
    "    A(int x, int y) { this.x=x; this.y=y; }\n",
    "    @Override\n",
    "    public String toString() { return \"(\"+x+\",\"+y+\")\"; }\n",
    "}"
   ]
  },
  {
   "cell_type": "code",
   "execution_count": 4,
   "metadata": {},
   "outputs": [
    {
     "name": "stdout",
     "output_type": "stream",
     "text": [
      "(3,4)\n"
     ]
    },
    {
     "data": {
      "text/plain": [
       "(6,8)"
      ]
     },
     "execution_count": 4,
     "metadata": {},
     "output_type": "execute_result"
    }
   ],
   "source": [
    "A p = new A(3,4);\n",
    "System.out.println(p);\n",
    "p = new A(6,8);\n",
    "return p;"
   ]
  },
  {
   "cell_type": "code",
   "execution_count": 5,
   "metadata": {},
   "outputs": [
    {
     "name": "stdout",
     "output_type": "stream",
     "text": [
      "(3,4)\n"
     ]
    },
    {
     "data": {
      "text/plain": [
       "(6,8)"
      ]
     },
     "execution_count": 5,
     "metadata": {},
     "output_type": "execute_result"
    }
   ],
   "source": [
    "A p = new A(3,4);\n",
    "System.out.println(p);\n",
    "p.x = 6;\n",
    "p.y = 8;\n",
    "return p;"
   ]
  },
  {
   "cell_type": "markdown",
   "metadata": {},
   "source": [
    "이번에는 변수 `p`를 `final`로 선언하면 어떻게 되는지 알아보자."
   ]
  },
  {
   "cell_type": "code",
   "execution_count": 6,
   "metadata": {},
   "outputs": [
    {
     "ename": "cannot assign a value to final variable p",
     "evalue": "cannot assign a value to final variable p",
     "output_type": "error",
     "traceback": [
      "\u001b[1;31mcannot assign a value to final variable p\u001b[0;0m",
      "\u001b[1;31m p = new A(6,8)\u001b[0;0m",
      "\u001b[1;31m ^^              \u001b[0;0m"
     ]
    }
   ],
   "source": [
    "final A p = new A(3,4);\n",
    "System.out.println(p);\n",
    "p = new A(6,8);\n",
    "return p;"
   ]
  },
  {
   "cell_type": "code",
   "execution_count": 7,
   "metadata": {},
   "outputs": [
    {
     "name": "stdout",
     "output_type": "stream",
     "text": [
      "(3,4)\n"
     ]
    },
    {
     "data": {
      "text/plain": [
       "(6,8)"
      ]
     },
     "execution_count": 7,
     "metadata": {},
     "output_type": "execute_result"
    }
   ],
   "source": [
    "final A p = new A(3,4);\n",
    "System.out.println(p);\n",
    "p.x = 6;\n",
    "p.y = 8;\n",
    "return p;"
   ]
  },
  {
   "cell_type": "markdown",
   "metadata": {},
   "source": [
    "이번에는 클래스 `A`의 인스턴스 변수들을 `final`로 선언한 `A1`클래스 정의를 시도해 보자.\n",
    "왜 문제가 발생하는지 알겠는가?"
   ]
  },
  {
   "cell_type": "code",
   "execution_count": 8,
   "metadata": {},
   "outputs": [
    {
     "ename": "ERROR",
     "evalue": " java.lang.IllegalStateException",
     "output_type": "error",
     "traceback": [
      "\u001b[1;31mERROR: java.lang.IllegalStateException: invalid method declaration; return type required\u001b[0;0m",
      "\u001b[1;31m B() {}\u001b[0;0m",
      "\u001b[1;31m ^      \u001b[0;0m",
      "\u001b[1;31m\u001b[0;0m",
      "\u001b[1;31minvalid method declaration; return type required\u001b[0;0m",
      "\u001b[1;31m B(int x, int y) { this.x=x\u001b[0;0m",
      "\u001b[1;31m ^                          \u001b[0;0m"
     ]
    }
   ],
   "source": [
    "class A1 {\n",
    "    final int x = 0;\n",
    "    final int y = 0;\n",
    "    B() {}\n",
    "    B(int x, int y) { this.x=x; this.y=y; }\n",
    "    @Override\n",
    "    public String toString() { return \"(\"+x+\",\"+y+\")\"; }\n",
    "}"
   ]
  },
  {
   "cell_type": "markdown",
   "metadata": {},
   "source": [
    "위에서 발생하는 문제를 고치려면 아래의 클래스 `B`처럼 정의하면 된다."
   ]
  },
  {
   "cell_type": "code",
   "execution_count": 9,
   "metadata": {},
   "outputs": [
    {
     "data": {
      "text/plain": [
       "com.twosigma.beaker.javash.bkrfc04bbf9.B"
      ]
     },
     "execution_count": 9,
     "metadata": {},
     "output_type": "execute_result"
    }
   ],
   "source": [
    "class B {\n",
    "    final int x;\n",
    "    final int y;\n",
    "    B() { x=0; y=0; }\n",
    "    B(int x, int y) { this.x=x; this.y=y; }\n",
    "    @Override\n",
    "    public String toString() { return \"(\"+x+\",\"+y+\")\"; }\n",
    "}"
   ]
  },
  {
   "cell_type": "code",
   "execution_count": 10,
   "metadata": {},
   "outputs": [
    {
     "name": "stdout",
     "output_type": "stream",
     "text": [
      "(2,3)\n"
     ]
    },
    {
     "data": {
      "text/plain": [
       "(4,6)"
      ]
     },
     "execution_count": 10,
     "metadata": {},
     "output_type": "execute_result"
    }
   ],
   "source": [
    "B p = new B(2,3);\n",
    "System.out.println(p);\n",
    "p = new B(4,6);\n",
    "return p;"
   ]
  },
  {
   "cell_type": "code",
   "execution_count": 11,
   "metadata": {},
   "outputs": [
    {
     "ename": "cannot assign a value to final variable x",
     "evalue": "cannot assign a value to final variable x",
     "output_type": "error",
     "traceback": [
      "\u001b[1;31mcannot assign a value to final variable x\u001b[0;0m",
      "\u001b[1;31m p.x = 4\u001b[0;0m",
      "\u001b[1;31m ^  ^     \u001b[0;0m",
      "\u001b[1;31m\u001b[0;0m",
      "\u001b[1;31mcannot assign a value to final variable y\u001b[0;0m",
      "\u001b[1;31m p.y = 6\u001b[0;0m",
      "\u001b[1;31m ^  ^     \u001b[0;0m"
     ]
    }
   ],
   "source": [
    "B p = new B(2,3);\n",
    "System.out.println(p);\n",
    "p.x = 4;\n",
    "p.y = 6;\n",
    "return p;"
   ]
  },
  {
   "cell_type": "code",
   "execution_count": 12,
   "metadata": {},
   "outputs": [
    {
     "data": {
      "text/plain": [
       "(2,3)"
      ]
     },
     "execution_count": 12,
     "metadata": {},
     "output_type": "execute_result"
    }
   ],
   "source": [
    "final B p = new B(2,3);\n",
    "return p;"
   ]
  },
  {
   "cell_type": "code",
   "execution_count": 13,
   "metadata": {},
   "outputs": [
    {
     "ename": "cannot assign a value to final variable p",
     "evalue": "cannot assign a value to final variable p",
     "output_type": "error",
     "traceback": [
      "\u001b[1;31mcannot assign a value to final variable p\u001b[0;0m",
      "\u001b[1;31m p = new B(4,6)\u001b[0;0m",
      "\u001b[1;31m ^^              \u001b[0;0m"
     ]
    }
   ],
   "source": [
    "final B p = new B(2,3);\n",
    "System.out.println(p);\n",
    "p = new B(4,6);\n",
    "return p;"
   ]
  },
  {
   "cell_type": "code",
   "execution_count": 14,
   "metadata": {},
   "outputs": [
    {
     "ename": "cannot assign a value to final variable x",
     "evalue": "cannot assign a value to final variable x",
     "output_type": "error",
     "traceback": [
      "\u001b[1;31mcannot assign a value to final variable x\u001b[0;0m",
      "\u001b[1;31m p.x = 4\u001b[0;0m",
      "\u001b[1;31m ^  ^     \u001b[0;0m",
      "\u001b[1;31m\u001b[0;0m",
      "\u001b[1;31mcannot assign a value to final variable y\u001b[0;0m",
      "\u001b[1;31m p.y = 6\u001b[0;0m",
      "\u001b[1;31m ^  ^     \u001b[0;0m"
     ]
    }
   ],
   "source": [
    "B p = new B(2,3);\n",
    "System.out.println(p);\n",
    "p.x = 4;\n",
    "p.y = 6;\n",
    "return p;"
   ]
  },
  {
   "cell_type": "markdown",
   "metadata": {},
   "source": [
    "##  주의 BeakerX에서 메소드 내의 return 경로 문제"
   ]
  },
  {
   "cell_type": "code",
   "execution_count": 15,
   "metadata": {},
   "outputs": [
    {
     "ename": "incompatible types",
     "evalue": " unexpected return value",
     "output_type": "error",
     "traceback": [
      "\u001b[1;31mincompatible types: unexpected return value\u001b[0;0m",
      "\u001b[1;31m if (false) return 3\u001b[0;0m",
      "\u001b[1;31m                   ^^ \u001b[0;0m"
     ]
    }
   ],
   "source": [
    "if (false) return 3;"
   ]
  },
  {
   "cell_type": "code",
   "execution_count": 16,
   "metadata": {},
   "outputs": [
    {
     "data": {
      "text/plain": [
       "2"
      ]
     },
     "execution_count": 16,
     "metadata": {},
     "output_type": "execute_result"
    }
   ],
   "source": [
    "if (false) return 1;\n",
    "else       return 2;"
   ]
  },
  {
   "cell_type": "code",
   "execution_count": 17,
   "metadata": {},
   "outputs": [
    {
     "data": {
      "text/plain": [
       "2"
      ]
     },
     "execution_count": 17,
     "metadata": {},
     "output_type": "execute_result"
    }
   ],
   "source": [
    "if (false) return 1;\n",
    "\n",
    "return 2;"
   ]
  },
  {
   "cell_type": "code",
   "execution_count": 18,
   "metadata": {},
   "outputs": [
    {
     "data": {
      "text/plain": [
       "com.twosigma.beaker.javash.bkrfc04bbf9.A"
      ]
     },
     "execution_count": 18,
     "metadata": {},
     "output_type": "execute_result"
    }
   ],
   "source": [
    "class A {\n",
    "    int f() { // 에러 없이 조용히 f가 무시된다 :(\n",
    "        if (false) return 3;\n",
    "    }\n",
    "}"
   ]
  },
  {
   "cell_type": "code",
   "execution_count": 19,
   "metadata": {},
   "outputs": [
    {
     "ename": "cannot find symbol",
     "evalue": "cannot find symbol",
     "output_type": "error",
     "traceback": [
      "\u001b[1;31mcannot find symbol\u001b[0;0m",
      "\u001b[1;31m  symbol:   method f()\u001b[0;0m",
      "\u001b[0;31m  location: variable a of type com.twosigma.beaker.javash.bkrfc04bbf9.A\u001b[0;0m",
      "\u001b[0;31m return a.f()\u001b[0;0m",
      "\u001b[0;31m        ^  ^   \u001b[0;0m"
     ]
    }
   ],
   "source": [
    "A a = new A();\n",
    "return a.f();"
   ]
  },
  {
   "cell_type": "code",
   "execution_count": null,
   "metadata": {},
   "outputs": [],
   "source": []
  }
 ],
 "metadata": {
  "kernelspec": {
   "display_name": "Java",
   "language": "java",
   "name": "java"
  },
  "language_info": {
   "codemirror_mode": "text/x-java",
   "file_extension": ".java",
   "mimetype": "",
   "name": "Java",
   "nbconverter_exporter": "",
   "version": "11.0.1"
  },
  "toc": {
   "base_numbering": 1,
   "nav_menu": {},
   "number_sections": false,
   "sideBar": false,
   "skip_h1_title": false,
   "title_cell": "Table of Contents",
   "title_sidebar": "Contents",
   "toc_cell": false,
   "toc_position": {},
   "toc_section_display": false,
   "toc_window_display": false
  }
 },
 "nbformat": 4,
 "nbformat_minor": 2
}
