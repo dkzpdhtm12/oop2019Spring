{
 "cells": [
  {
   "cell_type": "markdown",
   "metadata": {},
   "source": [
    "# 34 final"
   ]
  },
  {
   "cell_type": "code",
   "execution_count": 27,
   "metadata": {},
   "outputs": [
    {
     "data": {
      "text/plain": [
       "com.twosigma.beaker.javash.bkre42210c0.A"
      ]
     },
     "execution_count": 27,
     "metadata": {},
     "output_type": "execute_result"
    }
   ],
   "source": [
    "class A {\n",
    "    int x = 0;\n",
    "    int y = 0;\n",
    "    A() {}\n",
    "    A(int x, int y) { this.x=x; this.y=y; }\n",
    "    @Override\n",
    "    public String toString() { return \"(\"+x+\",\"+y+\")\"; }\n",
    "}"
   ]
  },
  {
   "cell_type": "code",
   "execution_count": 38,
   "metadata": {},
   "outputs": [
    {
     "name": "stdout",
     "output_type": "stream",
     "text": [
      "(3,4)\n"
     ]
    },
    {
     "data": {
      "text/plain": [
       "(6,8)"
      ]
     },
     "execution_count": 38,
     "metadata": {},
     "output_type": "execute_result"
    }
   ],
   "source": [
    "A p = new A(3,4);\n",
    "System.out.println(p);\n",
    "p = new A(6,8);\n",
    "return p;"
   ]
  },
  {
   "cell_type": "code",
   "execution_count": 37,
   "metadata": {},
   "outputs": [
    {
     "name": "stdout",
     "output_type": "stream",
     "text": [
      "(3,4)\n"
     ]
    },
    {
     "data": {
      "text/plain": [
       "(6,8)"
      ]
     },
     "execution_count": 37,
     "metadata": {},
     "output_type": "execute_result"
    }
   ],
   "source": [
    "A p = new A(3,4);\n",
    "System.out.println(p);\n",
    "p.x = 6;\n",
    "p.y = 8;\n",
    "return p;"
   ]
  },
  {
   "cell_type": "markdown",
   "metadata": {},
   "source": [
    "이번에는 변수 `p`를 `final`로 선언하면 어떻게 되는지 알아보자."
   ]
  },
  {
   "cell_type": "code",
   "execution_count": 43,
   "metadata": {},
   "outputs": [
    {
     "ename": "cannot assign a value to final variable p",
     "evalue": "cannot assign a value to final variable p",
     "output_type": "error",
     "traceback": [
      "\u001b[1;31mcannot assign a value to final variable p\u001b[0;0m",
      "\u001b[1;31m p = new A(6,8)\u001b[0;0m",
      "\u001b[1;31m ^^              \u001b[0;0m"
     ]
    }
   ],
   "source": [
    "final A p = new A(3,4);\n",
    "System.out.println(p);\n",
    "p = new A(6,8);\n",
    "return p;"
   ]
  },
  {
   "cell_type": "code",
   "execution_count": 44,
   "metadata": {},
   "outputs": [
    {
     "name": "stdout",
     "output_type": "stream",
     "text": [
      "(3,4)\n"
     ]
    },
    {
     "data": {
      "text/plain": [
       "(6,8)"
      ]
     },
     "execution_count": 44,
     "metadata": {},
     "output_type": "execute_result"
    }
   ],
   "source": [
    "final A p = new A(3,4);\n",
    "System.out.println(p);\n",
    "p.x = 6;\n",
    "p.y = 8;\n",
    "return p;"
   ]
  },
  {
   "cell_type": "markdown",
   "metadata": {},
   "source": [
    "이번에는 클래스 `A`의 인스턴스 변수들을 `final`로 선언한 `A1`클래스 정의를 시도해 보자.\n",
    "왜 문제가 발생하는지 알겠는가?"
   ]
  },
  {
   "cell_type": "code",
   "execution_count": 41,
   "metadata": {},
   "outputs": [
    {
     "ename": "ERROR",
     "evalue": " java.lang.IllegalStateException",
     "output_type": "error",
     "traceback": [
      "\u001b[1;31mERROR: java.lang.IllegalStateException: cannot assign a value to final variable x\u001b[0;0m",
      "\u001b[1;31m B(int x, int y) { this.x=x\u001b[0;0m",
      "\u001b[1;31m                   ^     ^   \u001b[0;0m",
      "\u001b[1;31m\u001b[0;0m",
      "\u001b[1;31mcannot assign a value to final variable y\u001b[0;0m",
      "\u001b[1;31m this.y=y\u001b[0;0m",
      "\u001b[1;31m ^     ^   \u001b[0;0m"
     ]
    }
   ],
   "source": [
    "class A1 {\n",
    "    final int x = 0;\n",
    "    final int y = 0;\n",
    "    B() {}\n",
    "    B(int x, int y) { this.x=x; this.y=y; }\n",
    "    @Override\n",
    "    public String toString() { return \"(\"+x+\",\"+y+\")\"; }\n",
    "}"
   ]
  },
  {
   "cell_type": "markdown",
   "metadata": {},
   "source": [
    "위에서 발생하는 문제를 고치려면 아래의 클래스 `B`처럼 정의하면 된다."
   ]
  },
  {
   "cell_type": "code",
   "execution_count": 42,
   "metadata": {},
   "outputs": [
    {
     "data": {
      "text/plain": [
       "com.twosigma.beaker.javash.bkre42210c0.B1"
      ]
     },
     "execution_count": 42,
     "metadata": {},
     "output_type": "execute_result"
    }
   ],
   "source": [
    "class B {\n",
    "    final int x;\n",
    "    final int y;\n",
    "    B1() { x=0; y=0; }\n",
    "    B1(int x, int y) { this.x=x; this.y=y; }\n",
    "    @Override\n",
    "    public String toString() { return \"(\"+x+\",\"+y+\")\"; }\n",
    "}"
   ]
  },
  {
   "cell_type": "code",
   "execution_count": null,
   "metadata": {},
   "outputs": [],
   "source": [
    "// TODO"
   ]
  }
 ],
 "metadata": {
  "kernelspec": {
   "display_name": "Java",
   "language": "java",
   "name": "java"
  },
  "language_info": {
   "codemirror_mode": "text/x-java",
   "file_extension": ".java",
   "mimetype": "",
   "name": "Java",
   "nbconverter_exporter": "",
   "version": "11.0.3"
  },
  "toc": {
   "base_numbering": 1,
   "nav_menu": {},
   "number_sections": false,
   "sideBar": false,
   "skip_h1_title": false,
   "title_cell": "Table of Contents",
   "title_sidebar": "Contents",
   "toc_cell": false,
   "toc_position": {},
   "toc_section_display": false,
   "toc_window_display": false
  }
 },
 "nbformat": 4,
 "nbformat_minor": 2
}
