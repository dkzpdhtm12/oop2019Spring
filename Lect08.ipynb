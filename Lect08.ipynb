{
 "cells": [
  {
   "cell_type": "markdown",
   "metadata": {},
   "source": [
    "# 43 제네릭 Generic"
   ]
  },
  {
   "cell_type": "markdown",
   "metadata": {},
   "source": [
    "특정 분야 혹은 여러 분야의 실무에서 널리 압도적으로 많이 쓰는 언어를 **주류**(mainstream) 언어라고 부르기도 한다.\n",
    "지금은 과거 20~30년 전보다 훨씬 다양한 프로그래밍 언어들이 실무에 쓰이고 있어 각 분야마다 주류 프로그래밍 언어로 언어로 인식하는 것이 다양해지고 있다.\n",
    "한때 금융/재무에서는 코볼(Cobol)이 그리고 과학/공학 계산에서는 포트란(Fortan)이 절대적 주류 언어였던 적도 있다.\n",
    "좀더 세월이 흘러 시스템 프로그래밍을 비롯해 컴퓨터라는 기계장치의 자원을 효율적으로 활용하 빠르게 동작하는 코드를 작성하기 위한 주류 언어가 거의 C가 아니면 안되던 것으로 생각하던 시절도 있었다.\n",
    "\n",
    "그 후 C와 호환성이 높고 객체지향 프로그래밍을 지원하는 C++이 인기를 끌었으며 이를 시작으로 일부 객체지향 언어들이 인기를 끌며 \"주류\" 취급을 받는 시대가 열렸다.\n",
    "소위 주류 취급을 받게 된 언어들 중에는 최초로 \"쓰레기 수거\"(Garabe Collection)이라는 자동으로 메모 관리를 지원하는 언어로 등장한 것이 Java이다.\n",
    "또 그당시 Java의 저작권을 가졌던 선 마이크로시스템즈 사와의 분쟁 등의 이유로 마이크로소프트 사에서는 C++도 Java도 아닌 자신들만의 주류 언어인 C#을 만들게 되었다.\n",
    "흥미로운 사실은 C++, Java, C#모두 언어가 처음 설계될 때는 템플릿(template) 또는 제네릭(generic)이라는 이름의 기능으로 언어에서 지원하는 인자다형성(parametric polymorphism)을 전혀 고려하지 않았다는 사실이다.\n",
    "참고로 당시 주류 객체지향 언어보다 역사가 오래된 다른 함수형 프로그래밍 언어들은 그 언어들을 설계할 때부터 인자다형성을 고려한 것들도 이미 여럿 있었다.\n",
    "단지 기계의 성능이 미치는 영향이 너무나 치명적이어서 효율에 집중할 수밖에 없었던 대부분의 현업 개발자들은 그러한 비주류 언어에 눈길을 줄 여유나 여건이 되지 않아 이러한 개념 자체가 생소한 경우가 대부분이었다.\n",
    "하드웨어는 어떤 영향력 있는 기업이 신기술을 제품 경쟁에서 성공시켜 버리면 헤게모니가 빠르게 전환되기도 한다.\n",
    "하지만 소프트웨어 중에서도 프로그래머 혹은 개발자라는 상당히 독특한 집단이 공유하는 프로그래밍 언어라는 소프트웨어는 그러한 집단이 그동한 익숙했던 프로그래밍 혹은 생각의 방식을 변화시키거나 새로 배워 나가야 하는,\n",
    "나름 바쁜 전문가 집단의 자발적인 학습과 변화 의지가 같이 따라와야 주류 패러다임으로 전파되기 때문에 어떤 경우에는 생각보다 꽤나 고전적으로 검증된 이론도 실무에 대중적으로 적용되어 효과가 나타나는 데 상당한 시간이 걸리기도 한다.\n",
    "\n",
    "주류 객체지향 언어가 인자다형성을 적극적으로 지원하게 된 계기가 된 것은 \n",
    "C++에 범용적이고 재활용성이 높은 기본적인 자료구조와 알고리듬을 제공하기 위해 설계된\n",
    "*표준 템플릿 라이브러리*(Standard Template Library, STL)라고 불리던 것에서 비롯되었다.\n",
    "이러한 라이브러리를 설계하기 위하 당시로서는 C++에 커다란 변화인 template이라는 기능을 추가할 것을 요구했고\n",
    "STL이 점점 인기를 끌게 됨에 따라 C++ 표준에도 tempalte이 추가되었을 뿐 아니라 과게어 STL이라고 불렸던 라이브러리가\n",
    "지금은 C++ 표준라이브러리의 일부로 녹아들어 지금은 *C++ 표준 컨테이너*(C++ Standard Containres) 등이 되었다.\n",
    "이는 Java와 C#에도 영향을 미쳐 Java와 C#에도 제너릭(generic)이라는 유사한 기능들이 비슷한 문법으로 추가되다\n",
    "또한 Java에도 *자바 컬렉션 프레임워크*(Java Collections Foundation, JCF)라고 불리는 자료구조 라이브러리가 있는데 바로 이 JCF관련 내용에 대해서 다루는 것이 교과서 44장이다.\n",
    "이러한 컬렉션 프레임워크를 사용하려면 기본적으로 Java에서 알아야 하는 개념이 제네릭(Generic)이다. "
   ]
  },
  {
   "cell_type": "markdown",
   "metadata": {},
   "source": [
    "## 순서쌍 - 제너릭을 설명하기 위한 간단한 예\n",
    "\n",
    "아래와 같이 타입이 다를 뿐 순서쌍이라는 특징은 똑같은 데이타 구조에 대해 반복해서 저렇게 서로 다른 순서쌍 클래스를 정의하는 것은 너무 바보같다.\n",
    "\n",
    "제네릭을 사용하면 이러한 반복을 없앨 수 있다."
   ]
  },
  {
   "cell_type": "code",
   "execution_count": 1,
   "metadata": {},
   "outputs": [
    {
     "data": {
      "text/plain": [
       "com.twosigma.beaker.javash.bkr6a5a5446.PairIntInt"
      ]
     },
     "execution_count": 1,
     "metadata": {},
     "output_type": "execute_result"
    }
   ],
   "source": [
    "class PairIntInt {\n",
    "    int first;\n",
    "    int second;\n",
    "}"
   ]
  },
  {
   "cell_type": "code",
   "execution_count": 2,
   "metadata": {},
   "outputs": [
    {
     "data": {
      "text/plain": [
       "com.twosigma.beaker.javash.bkr6a5a5446.PairIntDouble"
      ]
     },
     "execution_count": 2,
     "metadata": {},
     "output_type": "execute_result"
    }
   ],
   "source": [
    "class PairIntDouble {\n",
    "    int first;\n",
    "    double second;\n",
    "}"
   ]
  },
  {
   "cell_type": "code",
   "execution_count": 3,
   "metadata": {},
   "outputs": [
    {
     "data": {
      "text/plain": [
       "com.twosigma.beaker.javash.bkr6a5a5446.PairDoubleDouble"
      ]
     },
     "execution_count": 3,
     "metadata": {},
     "output_type": "execute_result"
    }
   ],
   "source": [
    "class PairDoubleDouble {\n",
    "    double first;\n",
    "    double second;\n",
    "}"
   ]
  },
  {
   "cell_type": "markdown",
   "metadata": {},
   "source": [
    "## 아니 그럼 도대체 Java에 제네릭이 있기 전에는 어떻게 했단 말인가?\n",
    "\n",
    "최상위 클래스인 `Object`의 순서쌍을 만들면 아무 타입의 객체 두 개를 담을 수 있기 때문에 이러한 방식을 옛날 옛적에는 일반적인 자료구조 라이브러리를 만드는 데 활용하기도 했다."
   ]
  },
  {
   "cell_type": "code",
   "execution_count": 4,
   "metadata": {},
   "outputs": [
    {
     "data": {
      "text/plain": [
       "com.twosigma.beaker.javash.bkr6a5a5446.Pair"
      ]
     },
     "execution_count": 4,
     "metadata": {},
     "output_type": "execute_result"
    }
   ],
   "source": [
    "class Pair {\n",
    "    Object first;\n",
    "    Object second;\n",
    "}"
   ]
  },
  {
   "cell_type": "code",
   "execution_count": 5,
   "metadata": {},
   "outputs": [
    {
     "data": {
      "text/plain": [
       "com.twosigma.beaker.javash.bkr6a5a5446.AAA"
      ]
     },
     "execution_count": 5,
     "metadata": {},
     "output_type": "execute_result"
    }
   ],
   "source": [
    "class AAA { }"
   ]
  },
  {
   "cell_type": "markdown",
   "metadata": {},
   "source": [
    "이러한 방식의 문제점은 정적 타입으로는 아무것도 구분되지 않기 때문에 아래와 같이 의도치 않게 다른 타입의 객체를 할당하는 실수를 해도 컴파일 에러가 나지 않는다.\n",
    "\n",
    "또한 꼭 이런 실수가 아니더라도 순서쌍 안에 할당한 값들을 다시 끄집어 내려면 `Object`로부터 다운캐스팅을 해야만 한다."
   ]
  },
  {
   "cell_type": "code",
   "execution_count": 6,
   "metadata": {},
   "outputs": [
    {
     "data": {
      "text/plain": [
       "null"
      ]
     },
     "execution_count": 6,
     "metadata": {},
     "output_type": "execute_result"
    }
   ],
   "source": [
    "Pair sspair = new Pair();\n",
    "sspair.first = new String(\"Hello\");\n",
    "sspair.second = new String(\"World\");\n",
    "\n",
    "// .. ..\n",
    "sspair.second = new AAA();\n",
    "// .. .."
   ]
  },
  {
   "cell_type": "markdown",
   "metadata": {},
   "source": [
    "반면 아래와 같이 제너릭으로 정의된 순서쌍은 의도치 않게 다른 객체를 할당하는 실수를 하면 컴파일 에러가 나서 금방 문제점을 알아차릴 수 있다. "
   ]
  },
  {
   "cell_type": "code",
   "execution_count": 13,
   "metadata": {},
   "outputs": [
    {
     "data": {
      "text/plain": [
       "com.twosigma.beaker.javash.bkr6a5a5446.Pair"
      ]
     },
     "execution_count": 13,
     "metadata": {},
     "output_type": "execute_result"
    }
   ],
   "source": [
    "class Pair<A,B> {\n",
    "    A first;\n",
    "    B second;\n",
    "}"
   ]
  },
  {
   "cell_type": "code",
   "execution_count": 14,
   "metadata": {},
   "outputs": [
    {
     "data": {
      "text/plain": [
       "null"
      ]
     },
     "execution_count": 14,
     "metadata": {},
     "output_type": "execute_result"
    }
   ],
   "source": [
    "// Pair <int, int> sspair; // 자바는 이게안됨\n",
    "Pair<Integer, Integer> iipair\n",
    "  = new Pair<Integer, Integer>();\n",
    "iipair.first = new Integer(3);\n",
    "iipair.second = new Integer(4);\n",
    "\n",
    "\n",
    "Pair<Double, Double> ddpair\n",
    "  = new Pair<Double, Double>();\n",
    "ddpair.first = new Double(3.0);\n",
    "ddpair.second = new Double(4.4);\n"
   ]
  },
  {
   "cell_type": "markdown",
   "metadata": {},
   "source": []
  },
  {
   "cell_type": "code",
   "execution_count": 15,
   "metadata": {},
   "outputs": [
    {
     "ename": "incompatible types",
     "evalue": " com.twosigma.beaker.javash.bkr6a5a5446.AAA cannot be converted to java.lang.String",
     "output_type": "error",
     "traceback": [
      "\u001b[0;31mincompatible types: com.twosigma.beaker.javash.bkr6a5a5446.AAA cannot be converted to java.lang.String\u001b[0;0m",
      "\u001b[0;31m sspair.second = new AAA()\u001b[0;0m",
      "\u001b[0;31m                 ^        ^ \u001b[0;0m"
     ]
    }
   ],
   "source": [
    "Pair<String, String> sspair\n",
    "  = new Pair<String, String>();\n",
    "sspair.first = new String(\"Hello\");\n",
    "sspair.second = new String(\"World\");\n",
    "\n",
    "sspair.second = new AAA();"
   ]
  },
  {
   "cell_type": "markdown",
   "metadata": {},
   "source": [
    "# 아래는 오버로딩/오버라이딩 관련\n",
    "\n",
    "여기서부터는 나중에 다른 문서로 옮겨야 할듯"
   ]
  },
  {
   "cell_type": "code",
   "execution_count": 10,
   "metadata": {},
   "outputs": [
    {
     "name": "stdout",
     "output_type": "stream",
     "text": [
      "hello\n",
      "hello\n"
     ]
    },
    {
     "data": {
      "text/plain": [
       "true"
      ]
     },
     "execution_count": 10,
     "metadata": {},
     "output_type": "execute_result"
    }
   ],
   "source": [
    "String str1 = new String(\"hello\");\n",
    "String str2 = new String(str1);\n",
    "System.out.println(str1);\n",
    "System.out.println(str2);\n",
    "\n",
    "// return str1 == str2; // false\n",
    "return str1.equals(str2); // true"
   ]
  },
  {
   "cell_type": "code",
   "execution_count": 11,
   "metadata": {},
   "outputs": [
    {
     "data": {
      "text/plain": [
       "com.twosigma.beaker.javash.bkr6a5a5446.Point"
      ]
     },
     "execution_count": 11,
     "metadata": {},
     "output_type": "execute_result"
    }
   ],
   "source": [
    "class Point {\n",
    "    int x, y;\n",
    "    Point() { x=0; y=0; }\n",
    "    Point(int x, int y) { this.x=x; this.y=y; }\n",
    "    @Override\n",
    "    public String toString() { return \"(\"+x+\",\"+y+\")\"; }\n",
    "    // @Override // 아니다   이거는 오버로딩이다\n",
    "    public boolean equals(Point _p) { return x==_p.x && y==_p.y; }\n",
    "    // 똑같은 기능을 하는데 오버라이딩으로 만들어 쓰는 방법도 있다 (instanceof 연산자, 다운캐스팅 사용)\n",
    "    // 실제로 String클래스의 경우는 오버라이딩으로 만들어 쓰고 있다는 것을 API 검색을 해보면 알 수 있다\n",
    "}"
   ]
  },
  {
   "cell_type": "code",
   "execution_count": 12,
   "metadata": {},
   "outputs": [
    {
     "name": "stdout",
     "output_type": "stream",
     "text": [
      "(1,2)\n",
      "(1,2)\n",
      "true\n",
      "false\n"
     ]
    },
    {
     "data": {
      "text/plain": [
       "true"
      ]
     },
     "execution_count": 12,
     "metadata": {},
     "output_type": "execute_result"
    }
   ],
   "source": [
    "Point p1 = new Point(1,2);\n",
    "Point p2 = new Point(1,2);\n",
    "System.out.println(p1);\n",
    "System.out.println(p2);\n",
    "\n",
    "String s1 = new String(\"hello\");\n",
    "\n",
    "// Point클래스의 equals(Point)\n",
    "System.out.println(p1.equals(p2));\n",
    "// Object클래스의 equals(Object)\n",
    "System.out.println(p1.equals(s1)); \n",
    "\n",
    "// return p1==p2; // false\n",
    "\n",
    "// 위에서 오버로딩된 boolean equals(Point _p) 가 없으면 아래 결과도 false다.\n",
    "// 왜 어째서??? Object의 boolean equals(Object o) { return this==o; }\n",
    "return p1.equals(p2); "
   ]
  }
 ],
 "metadata": {
  "kernelspec": {
   "display_name": "Java",
   "language": "java",
   "name": "java"
  },
  "language_info": {
   "codemirror_mode": "text/x-java",
   "file_extension": ".java",
   "mimetype": "",
   "name": "Java",
   "nbconverter_exporter": "",
   "version": "11.0.3"
  },
  "toc": {
   "base_numbering": 1,
   "nav_menu": {},
   "number_sections": false,
   "sideBar": false,
   "skip_h1_title": false,
   "title_cell": "Table of Contents",
   "title_sidebar": "Contents",
   "toc_cell": false,
   "toc_position": {},
   "toc_section_display": false,
   "toc_window_display": false
  }
 },
 "nbformat": 4,
 "nbformat_minor": 2
}
