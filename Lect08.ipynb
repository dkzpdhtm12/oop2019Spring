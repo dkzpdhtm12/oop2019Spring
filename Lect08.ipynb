{
 "cells": [
  {
   "cell_type": "markdown",
   "metadata": {},
   "source": [
    "# 43 제네릭 Generic"
   ]
  },
  {
   "cell_type": "markdown",
   "metadata": {},
   "source": [
    "특정 분야 혹은 여러 분야의 실무에서 널리 압도적으로 많이 쓰는 언어를 **주류**(mainstream) 언어라고 부르기도 한다.\n",
    "지금은 과거 20~30년 전보다 훨씬 다양한 프로그래밍 언어들이 실무에 쓰이고 있어 각 분야마다 주류 프로그래밍 언어로 언어로 인식하는 것이 다양해지고 있다.\n",
    "한때 금융/재무에서는 코볼(Cobol)이 그리고 과학/공학 계산에서는 포트란(Fortan)이 절대적 주류 언어였던 적도 있다.\n",
    "좀더 세월이 흘러 시스템 프로그래밍을 비롯해 컴퓨터라는 기계장치의 자원을 효율적으로 활용하여 빠르게 동작하는 코드를 작성하기 위한 주류 언어가 거의 C가 아니면 안되던 것으로 생각하던 시절도 있었다.\n",
    "\n",
    "그 후 C와 호환성이 높고 객체지향 프로그래밍을 지원하는 C++이 인기를 끌었으며 이를 시작으로 일부 객체지향 언어들이 인기를 끌며 \"주류\" 취급을 받는 시대가 열렸다.\n",
    "소위 주류 취급을 받게 된 언어들 중에는 최초로 \"쓰레기 수거\"(Garabe Collection)이라는 자동으로 메모 관리를 지원하는 언어로 등장한 것이 Java이다.\n",
    "또 그당시 Java의 저작권을 가졌던 선 마이크로시스템즈 사와의 분쟁 등의 이유로 마이크로소프트 사에서는 C++도 Java도 아닌 자신들만의 주류 언어인 C#을 만들게 되었다.\n",
    "흥미로운 사실은 C++, Java, C#모두 언어가 처음 설계될 때는 템플릿(template) 또는 제네릭(generic)이라는 이름의 기능으로 언어에서 지원하는 인자다형성(parametric polymorphism)을 전혀 고려하지 않았다는 사실이다.\n",
    "참고로 당시 주류 객체지향 언어보다 역사가 오래된 다른 함수형 프로그래밍 언어들은 그 언어들을 설계할 때부터 인자다형성을 고려한 것들도 이미 여럿 있었다.\n",
    "하지만 오래 전에는 기계의 성능이 미치는 영향이 너무나 치명적이어서 효율에 집중할 수밖에 없었던 대부분의 현업 개발자들은 (많은 경우 그 당시로는 컴파일러 기술이 충분히 발달하지 못했던) 비주류 언어에 눈길을 줄 여유나 여건이 되지 않아 이러한 개념 자체가 생소한 경우가 대부분이었다.\n",
    "하드웨어는 어떤 영향력 있는 기업이 신기술을 제품 경쟁에서 성공시켜 버리면 헤게모니가 빠르게 전환되기도 한다.\n",
    "하지만 소프트웨어 중에서도 프로그래머 혹은 개발자라는 상당히 독특한 집단이 공유하는 프로그래밍 언어라는 소프트웨어는 그러한 집단이 그동한 익숙했던 프로그래밍 혹은 생각의 방식을 변화시키거나 새로 배워 나가야 하는,\n",
    "나름 바쁜 전문가 집단의 자발적인 학습과 변화 의지가 같이 따라와야 주류 패러다임으로 전파되기 때문에 어떤 경우에는 생각보다 꽤나 고전적으로 검증된 이론도 실무에 대중적으로 적용되어 효과가 나타나는 데 상당한 시간이 걸리기도 한다.\n",
    "\n",
    "주류 객체지향 언어가 인자다형성을 적극적으로 지원하게 된 계기가 된 것은 \n",
    "C++에 범용적이고 재활용성이 높은 기본적인 자료구조와 알고리듬을 제공하기 위해 설계된\n",
    "*표준 템플릿 라이브러리*(Standard Template Library, STL)라고 불리던 것에서 비롯되었다.\n",
    "이러한 라이브러리를 설계하기 위하 당시로서는 C++에 커다란 변화인 template이라는 기능을 추가할 것을 요구했고\n",
    "STL이 점점 인기를 끌게 됨에 따라 C++ 표준에도 template이 추가되었을 뿐 아니라 과게어 STL이라고 불렸던 라이브러리가\n",
    "지금은 C++ 표준라이브러리의 일부로 녹아들어 지금은 *C++ 표준 컨테이너*(C++ Standard Containres) 등이 되었다.\n",
    "이는 Java와 C#에도 영향을 미쳐 Java와 C#에도 제너릭(generic)이라는 유사한 기능들이 비슷한 문법으로 추가되었다.\n",
    "또한 Java에도 *자바 컬렉션 프레임워크*(Java Collections Foundation, JCF)라고 불리는 자료구조 라이브러리가 있는데 바로 이 JCF관련 내용에 대해서 다루는 것이 교과서 44장이다.\n",
    "이러한 컬렉션 프레임워크를 사용하려면 기본적으로 Java에서 알아야 하는 개념이 제네릭(Generic)이다. "
   ]
  },
  {
   "cell_type": "markdown",
   "metadata": {},
   "source": [
    "## 순서쌍 - 제너릭을 설명하기 위한 간단한 예\n",
    "\n",
    "아래와 같이 타입이 다를 뿐 순서쌍이라는 특징은 똑같은 데이타 구조에 대해 반복해서 저렇게 서로 다른 순서쌍 클래스를 정의하는 것은 너무 바보같다.\n",
    "\n",
    "제네릭을 사용하면 이러한 반복을 없앨 수 있다."
   ]
  },
  {
   "cell_type": "code",
   "execution_count": 1,
   "metadata": {},
   "outputs": [
    {
     "data": {
      "text/plain": [
       "com.twosigma.beaker.javash.bkr7ce24be8.PairIntInt"
      ]
     },
     "execution_count": 1,
     "metadata": {},
     "output_type": "execute_result"
    }
   ],
   "source": [
    "class PairIntInt {\n",
    "    int first;\n",
    "    int second;\n",
    "}"
   ]
  },
  {
   "cell_type": "code",
   "execution_count": 2,
   "metadata": {},
   "outputs": [
    {
     "data": {
      "text/plain": [
       "com.twosigma.beaker.javash.bkr7ce24be8.PairIntDouble"
      ]
     },
     "execution_count": 2,
     "metadata": {},
     "output_type": "execute_result"
    }
   ],
   "source": [
    "class PairIntDouble {\n",
    "    int first;\n",
    "    double second;\n",
    "}"
   ]
  },
  {
   "cell_type": "code",
   "execution_count": 3,
   "metadata": {},
   "outputs": [
    {
     "data": {
      "text/plain": [
       "com.twosigma.beaker.javash.bkr7ce24be8.PairDoubleDouble"
      ]
     },
     "execution_count": 3,
     "metadata": {},
     "output_type": "execute_result"
    }
   ],
   "source": [
    "class PairDoubleDouble {\n",
    "    double first;\n",
    "    double second;\n",
    "}"
   ]
  },
  {
   "cell_type": "markdown",
   "metadata": {},
   "source": [
    "## 아니 그럼 도대체 Java에 제네릭이 있기 전에는 어떻게 했단 말인가?\n",
    "\n",
    "최상위 클래스인 `Object`의 순서쌍을 만들면 아무 타입의 객체 두 개를 담을 수 있기 때문에 이러한 방식을 옛날 옛적에는 일반적인 자료구조 라이브러리를 만드는 데 활용하기도 했다."
   ]
  },
  {
   "cell_type": "code",
   "execution_count": 4,
   "metadata": {},
   "outputs": [
    {
     "data": {
      "text/plain": [
       "com.twosigma.beaker.javash.bkr7ce24be8.Pair"
      ]
     },
     "execution_count": 4,
     "metadata": {},
     "output_type": "execute_result"
    }
   ],
   "source": [
    "class Pair {\n",
    "    Object first;\n",
    "    Object second;\n",
    "}"
   ]
  },
  {
   "cell_type": "code",
   "execution_count": 5,
   "metadata": {},
   "outputs": [
    {
     "data": {
      "text/plain": [
       "com.twosigma.beaker.javash.bkr7ce24be8.AAA"
      ]
     },
     "execution_count": 5,
     "metadata": {},
     "output_type": "execute_result"
    }
   ],
   "source": [
    "class AAA { }"
   ]
  },
  {
   "cell_type": "markdown",
   "metadata": {},
   "source": [
    "이러한 방식의 문제점은 정적 타입으로는 아무것도 구분되지 않기 때문에 아래와 같이 의도치 않게 다른 타입의 객체를 할당하는 실수를 해도 컴파일 에러가 나지 않는다.\n",
    "\n",
    "또한 꼭 이런 실수가 아니더라도 순서쌍 안에 할당한 값들을 다시 끄집어 내려면 `Object`로부터 다운캐스팅을 해야만 한다."
   ]
  },
  {
   "cell_type": "code",
   "execution_count": 6,
   "metadata": {},
   "outputs": [
    {
     "ename": "cannot find symbol",
     "evalue": "cannot find symbol",
     "output_type": "error",
     "traceback": [
      "\u001b[1;31mcannot find symbol\u001b[0;0m",
      "\u001b[1;31m  symbol:   method length()\u001b[0;0m",
      "\u001b[1;31m  location: variable second of type java.lang.Object\u001b[0;0m",
      "\u001b[1;31m sspair.second.length()\u001b[0;0m",
      "\u001b[1;31m ^                   ^   \u001b[0;0m"
     ]
    }
   ],
   "source": [
    "Pair sspair = new Pair();\n",
    "sspair.first = new String(\"Hello\");\n",
    "sspair.second = new String(\"World\");\n",
    "\n",
    "sspair.second.length();\n",
    "\n",
    "// .. ..\n",
    "sspair.second = new AAA();\n",
    "// .. .."
   ]
  },
  {
   "cell_type": "markdown",
   "metadata": {},
   "source": [
    "반면 아래와 같이 제너릭으로 정의된 순서쌍은 의도치 않게 다른 객체를 할당하는 실수를 하면 컴파일 에러가 나서 금방 문제점을 알아차릴 수 있다. "
   ]
  },
  {
   "cell_type": "code",
   "execution_count": 7,
   "metadata": {},
   "outputs": [
    {
     "data": {
      "text/plain": [
       "com.twosigma.beaker.javash.bkr7ce24be8.Pair"
      ]
     },
     "execution_count": 7,
     "metadata": {},
     "output_type": "execute_result"
    }
   ],
   "source": [
    "// Pair<String,String>, Pair<Integer,Integer>\n",
    "// Pair< Pair<Integer,String>, Integer >\n",
    "class Pair<A,B> {\n",
    "    A first;\n",
    "    B second;\n",
    "}"
   ]
  },
  {
   "cell_type": "code",
   "execution_count": 8,
   "metadata": {},
   "outputs": [
    {
     "data": {
      "text/plain": [
       "null"
      ]
     },
     "execution_count": 8,
     "metadata": {},
     "output_type": "execute_result"
    }
   ],
   "source": [
    "// Pair <int, int> sspair; // 자바는 이게안됨\n",
    "Pair<Integer, Integer> iipair\n",
    "  = new Pair<Integer, Integer>();\n",
    "iipair.first = new Integer(3);\n",
    "iipair.second = new Integer(4);\n",
    "\n",
    "\n",
    "Pair<Double, Double> ddpair\n",
    "  = new Pair<Double, Double>();\n",
    "ddpair.first = new Double(3.0);\n",
    "ddpair.second = new Double(4.4);\n"
   ]
  },
  {
   "cell_type": "markdown",
   "metadata": {},
   "source": []
  },
  {
   "cell_type": "code",
   "execution_count": 9,
   "metadata": {},
   "outputs": [
    {
     "ename": "incompatible types",
     "evalue": " com.twosigma.beaker.javash.bkr7ce24be8.AAA cannot be converted to java.lang.String",
     "output_type": "error",
     "traceback": [
      "\u001b[0;31mincompatible types: com.twosigma.beaker.javash.bkr7ce24be8.AAA cannot be converted to java.lang.String\u001b[0;0m",
      "\u001b[0;31m sspair.second = new AAA()\u001b[0;0m",
      "\u001b[0;31m                 ^        ^ \u001b[0;0m"
     ]
    }
   ],
   "source": [
    "Pair<String, String> sspair\n",
    "  = new Pair<String, String>();\n",
    "sspair.first = new String(\"Hello\");\n",
    "sspair.second = new String(\"World\");\n",
    "\n",
    "sspair.second = new AAA();"
   ]
  },
  {
   "cell_type": "markdown",
   "metadata": {},
   "source": [
    "## 우선 Generic이 아닌 정수로 이루어진 연결 리스트를 만들어보자\n",
    "\n",
    "일단 리스트에 대한 개념정리부터 하고 시작합시다.\n",
    "\n",
    "기계상태를 바꾸는 방식의 프로그래밍 패러다임으로 연결 리스트(linked list)를 설명하는 경우가 많은데 처음 배울 때는 이게 더 헷갈리기 때문에, 좀더 수학적 논리적으로 접근하는 방식으로 설명하겠다.\n",
    "\n",
    "자연수(음이 아닌 정수)를 Peano라는 수학자는 대략 다음과 같은 성질을 만족하는 가장 작은 집합을 자연수로 정의했다고 합니다.\n",
    " * 귀납기초(induction base): 0은 자연수에 속한다.\n",
    " * 귀납단계(induction step): n이 자연수에 속한다면 n 바로 다음 (즉, 1만큼 더 큰) 수도 자연수에 속한다.\n",
    "\n",
    "참고: 위키피디아 [페아노 공리계](https://ko.wikipedia.org/wiki/%ED%8E%98%EC%95%84%EB%85%B8_%EA%B3%B5%EB%A6%AC%EA%B3%84)에서 5번 6번 공리에 해당\n",
    "\n",
    "그래서 이런 구조로부터 우리가 잘 아는 수학적귀납법이라는 증명방법 혹은 추론규칙을 자연수에 대한 자연스런 증명방법으로 받아들인다.\n",
    "\n",
    "어떤 명제가 자연수 0에 대해서 만족하고 (귀납기초) 또 n에 대해서 만족한다고 가정했을 때 (귀납가정) n 바로 다음 수에 대해서도 만족한다면,\n",
    "결론적으로 그 명제는 모든 자연수에 대해 만족함이 증명된다는 추론규칙이 바로 수학적귀납법이다.\n",
    "\n",
    "\n",
    "같은 종류의 값으로 이루어진, 예를 들어 정수라고 하자, 리스트도 마찬가지 방식으로 아래와 같은 방식으로만 만들어지는 구조로 정의하면 개념적으로 이해하기 쉽다.\n",
    " * 귀납기초(induction base): 물건이 전혀 없어도 (자바 코드에서는 null로 나타내자) 정수 리스트다. (즉, 빈 리스트)\n",
    " * 귀납단계(induction step): xs라는 것이 정수 리스트라면 거기에 x라는 정수를 맨 앞에 하나 더 추가한 x, xs도 정수 리스트이다.\n",
    "\n",
    "이런 기초와 단계로 구분이 되는 구조에 대해서도 수학적귀납법과 유사한 구조적귀납법이라는 추론규칙을 생각할 수 있으며 컴퓨터에서 활용되는 많은 자료구조의 성질을 구조적귀납법으로 증명하기도 한다.\n",
    "\n",
    "그리고 이런 귀납적 구조를 이해하면 그런 구조의 흐름을 따라 자연스럽게 재귀함수가 정의된다는 것도 관찰할 수 있어서 재귀함수에 대한 이해도 도움이 되는 내용으로 구성해보았다.\n",
    "\n",
    "아래에는 마치 재귀함수가 없는 것 같지만 실제로는 같은 `length`라는 이름의 클래스 (static) 메소드와 인스턴스 메소드가 서로가 서로를 부르며 꼬리에 꼬리를 무는 상호재귀로 정의되어 있다는 것에 주목할 것.\n",
    "과제에서 직접 작성해야 할 다른 이름의 메소드들도 마찬가지 방식으로 정의할 수 있는 것들이 여럿이다."
   ]
  },
  {
   "cell_type": "code",
   "execution_count": 10,
   "metadata": {},
   "outputs": [
    {
     "data": {
      "text/plain": [
       "com.twosigma.beaker.javash.bkr7ce24be8.NodeInt"
      ]
     },
     "execution_count": 10,
     "metadata": {},
     "output_type": "execute_result"
    }
   ],
   "source": [
    "class NodeInt {\n",
    "    private int value;\n",
    "    private NodeInt next;\n",
    "    // 생성자\n",
    "    NodeInt(int v, NodeInt n) { value=v; next=n; } \n",
    "    // 기본적인 값을 가져오기 위한 메소드\n",
    "    int head() { return value; }\n",
    "    NodeInt tail() { return next; }\n",
    "\n",
    "    @Override // 리스트의 내용을 알아보기 편하게 출력되게\n",
    "    public String toString() {\n",
    "        return head() + \", \" + tail();\n",
    "    }\n",
    "\n",
    "    ////////////////////////////////////////////////////////////////\n",
    "\n",
    "    // 빈 리스트를 나타내는 null인 경우를 포함해 처리하기 위한 정적 메소드\n",
    "    static int length(NodeInt xs) {\n",
    "        return (xs==null)? 0: xs.length();\n",
    "    }\n",
    "    static boolean equals(NodeInt xs, NodeInt ys) {\n",
    "        return (xs==null)? ys==null: xs.equals(ys);\n",
    "    }\n",
    "    static NodeInt append(NodeInt xs, NodeInt ys) { // xs와 ys를 이어붙인 새로운 리스트\n",
    "        return (xs==null)? ys: xs.append(ys);\n",
    "    }\n",
    "    static NodeInt reverse(NodeInt xs) { // xs를 뒤집은 새로운 리스트\n",
    "        return (xs==null)? null: xs.reverse();\n",
    "    }\n",
    "    static boolean palindrome(NodeInt xs) {\n",
    "        return false; // 이걸 완성해보자\n",
    "    } \n",
    "    static NodeNodeInt tails(NodeInt xs) {\n",
    "        return (xs==null)? null: xs.tails();\n",
    "    }\n",
    "    \n",
    "    // 위의 정적 메소드에 대응되는 인스턴스 메소드\n",
    "    int length() {\n",
    "        return 1 + length( tail() );\n",
    "    }\n",
    "    boolean equals(NodeInt ys) {\n",
    "        return false; // 작성해보기\n",
    "    }\n",
    "    NodeInt append(NodeInt ys) { // 끝에다 주어진 리스트를 이어붙인 새로운 리스트\n",
    "        return null; // 작성해보기\n",
    "    }\n",
    "    NodeInt reverse() { // 리스트를 원소가 나열된 순서를 뒤집은 새로운 리스트\n",
    "        return null; // 작성해보기\n",
    "    }\n",
    "    boolean palindrome() {\n",
    "        return false; // 작성해보기\n",
    "    }\n",
    "    NodeNodeInt tails() {\n",
    "        // 1,2,3,null 의 tails는\n",
    "        // [2,3,null],[3,null],[null],null\n",
    "        return null; // 이것도 제대로\n",
    "    }\n",
    "}\n",
    "\n",
    "class NodeNodeInt { // 정수 리스트를 원소로 하는 리스트, 즉 \"정수 리스트\"의 리스트이다\n",
    "    private NodeInt value;\n",
    "    private NodeNodeInt next;\n",
    "    // 생성자\n",
    "    NodeNodeInt(NodeInt v, NodeNodeInt n) { value=v; next=n; } \n",
    "    // 기본적인 값을 가져오기 위한 메소드\n",
    "    NodeInt head() { return value; }\n",
    "    NodeNodeInt tail() { return next; }\n",
    "\n",
    "    @Override // 리스트의 내용을 알아보기 편하게 출력되게\n",
    "    public String toString() {\n",
    "        return \"[\" + head() + \"], \" + tail();\n",
    "    }\n",
    "    \n",
    "    static NodeInt flat(NodeNodeInt xss) { return (xss==null)? null: xss.flat(); }\n",
    "    \n",
    "    NodeInt flat() { return null; } // 힌트: 이것도 append를 이용하면 쉽다\n",
    "}"
   ]
  },
  {
   "cell_type": "code",
   "execution_count": 20,
   "metadata": {},
   "outputs": [
    {
     "name": "stdout",
     "output_type": "stream",
     "text": [
      "l0: null\n",
      "l1: 3, null\n",
      "l2: 2, 3, null\n",
      "l3: 1, 2, 3, null\n"
     ]
    },
    {
     "data": {
      "text/plain": [
       "2"
      ]
     },
     "execution_count": 20,
     "metadata": {},
     "output_type": "execute_result"
    }
   ],
   "source": [
    "NodeInt l0 = null;\n",
    "NodeInt l1 = new NodeInt(3,l0);\n",
    "NodeInt l2 = new NodeInt(2,l1);\n",
    "NodeInt l3 = new NodeInt(1,l2);\n",
    "\n",
    "System.out.println( \"l0: \" + l0 ) ;\n",
    "System.out.println( \"l1: \" + l1 ) ;\n",
    "System.out.println( \"l2: \" + l2 ) ;\n",
    "System.out.println( \"l3: \" + l3 ) ;\n",
    "\n",
    "return NodeInt.length( l2 ); // l0같은 경우 l0.length() 하면 null포인터 예외 발생. 그래서 null까지 포함해서 처리하는 클래스 메소드로 "
   ]
  },
  {
   "cell_type": "code",
   "execution_count": 21,
   "metadata": {},
   "outputs": [
    {
     "name": "stdout",
     "output_type": "stream",
     "text": [
      "l0: null\n",
      "l1: 3, null\n",
      "l2: 2, 3, null\n",
      "l3: 1, 2, 3, null\n",
      "NodeInt.length(l0) = 0\n",
      "NodeInt.length(l1) = 1\n",
      "NodeInt.length(l2) = 2\n",
      "NodeInt.length(l3) = 3\n",
      "l1.head() = 3\n",
      "l1.tail() = null\n",
      "l2.head() = 2\n",
      "l2.tail() = 3, null\n",
      "l3.head() = 1\n",
      "l3.tail() = 2, 3, null\n",
      "l3.tails() = null\n",
      "====================================================\n",
      "ll1: [3, null], [2, 3, null], [1, 2, 3, null], null\n",
      "ll1.flat() = null\n"
     ]
    },
    {
     "data": {
      "text/plain": [
       "null"
      ]
     },
     "execution_count": 21,
     "metadata": {},
     "output_type": "execute_result"
    }
   ],
   "source": [
    "NodeInt l0 = null;\n",
    "NodeInt l1 = new NodeInt(3,l0);\n",
    "NodeInt l2 = new NodeInt(2,l1);\n",
    "NodeInt l3 = new NodeInt(1,l2);\n",
    "\n",
    "System.out.println( \"l0: \" + l0 ) ;\n",
    "System.out.println( \"l1: \" + l1 ) ;\n",
    "System.out.println( \"l2: \" + l2 ) ;\n",
    "System.out.println( \"l3: \" + l3 ) ;\n",
    "\n",
    "// l0같은 경우 l0.length() 하면 null포인터 예외 발생. 그래서 null까지 포함해서 처리하는 클래스 메소드로 \n",
    "System.out.println( \"NodeInt.length(l0) = \" + NodeInt.length(l0) ); // 0\n",
    "System.out.println( \"NodeInt.length(l1) = \" + NodeInt.length(l1) ); // 1\n",
    "System.out.println( \"NodeInt.length(l2) = \" + NodeInt.length(l2) ); // 2\n",
    "System.out.println( \"NodeInt.length(l3) = \" + NodeInt.length(l3) ); // 3\n",
    "\n",
    "System.out.println( \"l1.head() = \" + l1.head() );\n",
    "System.out.println( \"l1.tail() = \" + l1.tail() );\n",
    "\n",
    "System.out.println( \"l2.head() = \" + l2.head() );\n",
    "System.out.println( \"l2.tail() = \" + l2.tail() );\n",
    "\n",
    "System.out.println( \"l3.head() = \" + l3.head() );\n",
    "System.out.println( \"l3.tail() = \" + l3.tail() );\n",
    "\n",
    "System.out.println( \"l3.tails() = \" + l3.tails() );\n",
    "\n",
    "System.out.println(\"====================================================\");\n",
    "\n",
    "NodeNodeInt ll0 = null;\n",
    "NodeNodeInt ll1 = new NodeNodeInt(l1, new NodeNodeInt(l2, new NodeNodeInt(l3, ll0)));\n",
    "\n",
    "System.out.println( \"ll1: \" + ll1 );\n",
    "System.out.println( \"ll1.flat() = \" + ll1.flat() ); // 3, 2, 3, 1, 2, 3, null 이런 결과가"
   ]
  },
  {
   "cell_type": "markdown",
   "metadata": {},
   "source": [
    "# HW02 과제 예고\n",
    "\n",
    "`HW02.ipynb`라는 파일로 다시 정리해서 올리겠지만 그전부터 과제에 대해 충분히 생각하고 시작할 시간적 여유를 갖기 위해 대략적인 과제의 방향을 미리 예고합니다.\n",
    "\n",
    " * 수업시간에 설명한 `length` 메소드를 참고로 하여 `NodeInt` 클래스의 나머지 메소드들인 `equals`, `append`, `reverse`, `palindrome`, `tails` 그리고 `NodeNodeInt`의 `flat` 완성하기.\n",
    " * 당연히 각각의 메소드에 대한 테스트 케이스 작성도\n",
    " * `NodeInt`와 `NodeNodeInt`의 모든 메소드를 함께 포함할 수 있도록 제네릭을 적용한 `Node`를 작성\n",
    " * 제너릭 `Node<String>` 타입의 리스트를 만들어 `tails`로 `Node< Node<String> >` 타입의 리스트를 얻은 다음 그걸 `flat` 해보기. \n",
    "\n",
    "데이터 구조나 알고리즘 과목이 아니므로 시간/공간 복잡도 등등 효율은 생각하지 않아도 좋다. 결과가 맞게 나오는 것만 고려하는 것으로 충분하다."
   ]
  },
  {
   "cell_type": "markdown",
   "metadata": {},
   "source": [
    "----"
   ]
  },
  {
   "cell_type": "markdown",
   "metadata": {},
   "source": [
    "# `this`를 리턴하는 활용 사례\n",
    "\n",
    "중간고사에서 `this`를 리턴해야 되는 문제가 있었는데, 교과서에는 이러한 활용방법이 잘 설명되지 않은 것 같아서 간단한 예제 하나."
   ]
  },
  {
   "cell_type": "code",
   "execution_count": 16,
   "metadata": {},
   "outputs": [
    {
     "data": {
      "text/plain": [
       "com.twosigma.beaker.javash.bkr7ce24be8.Calc"
      ]
     },
     "execution_count": 16,
     "metadata": {},
     "output_type": "execute_result"
    }
   ],
   "source": [
    "class Calc {\n",
    "    int v;\n",
    "    // void add(int n) { v += n; }\n",
    "    // void mult(int n) { v *= n; }\n",
    "    Calc add(int n) { v += n; return this; }\n",
    "    Calc mult(int n) { v *= n; return this; }\n",
    "}"
   ]
  },
  {
   "cell_type": "code",
   "execution_count": 17,
   "metadata": {
    "scrolled": true
   },
   "outputs": [
    {
     "name": "stdout",
     "output_type": "stream",
     "text": [
      "0\n",
      "10\n"
     ]
    },
    {
     "data": {
      "text/plain": [
       "null"
      ]
     },
     "execution_count": 17,
     "metadata": {},
     "output_type": "execute_result"
    }
   ],
   "source": [
    "Calc calc = new Calc();\n",
    "\n",
    "System.out.println(calc.v);\n",
    "\n",
    "calc.add(3).add(2).mult(2);\n",
    "/*\n",
    "calc.add(3);\n",
    "System.out.println(calc.v);\n",
    "calc.add(2);\n",
    "System.out.println(calc.v);\n",
    "calc.mult(2);\n",
    "*/\n",
    "System.out.println(calc.v);\n"
   ]
  },
  {
   "cell_type": "markdown",
   "metadata": {},
   "source": [
    "# 아래는 오버로딩/오버라이딩 관련\n",
    "\n",
    "여기서부터는 나중에 다른 문서로 옮겨야 할듯"
   ]
  },
  {
   "cell_type": "code",
   "execution_count": 13,
   "metadata": {},
   "outputs": [
    {
     "name": "stdout",
     "output_type": "stream",
     "text": [
      "hello\n",
      "hello\n"
     ]
    },
    {
     "data": {
      "text/plain": [
       "true"
      ]
     },
     "execution_count": 13,
     "metadata": {},
     "output_type": "execute_result"
    }
   ],
   "source": [
    "String str1 = new String(\"hello\");\n",
    "String str2 = new String(str1);\n",
    "System.out.println(str1);\n",
    "System.out.println(str2);\n",
    "\n",
    "// return str1 == str2; // false\n",
    "return str1.equals(str2); // true"
   ]
  },
  {
   "cell_type": "code",
   "execution_count": 14,
   "metadata": {},
   "outputs": [
    {
     "data": {
      "text/plain": [
       "com.twosigma.beaker.javash.bkr7ce24be8.Point"
      ]
     },
     "execution_count": 14,
     "metadata": {},
     "output_type": "execute_result"
    }
   ],
   "source": [
    "class Point {\n",
    "    int x, y;\n",
    "    Point() { x=0; y=0; }\n",
    "    Point(int x, int y) { this.x=x; this.y=y; }\n",
    "    @Override\n",
    "    public String toString() { return \"(\"+x+\",\"+y+\")\"; }\n",
    "    // @Override // 아니다   이거는 오버로딩이다\n",
    "    public boolean equals(Point _p) { return x==_p.x && y==_p.y; }\n",
    "    // 똑같은 기능을 하는데 오버라이딩으로 만들어 쓰는 방법도 있다 (instanceof 연산자, 다운캐스팅 사용)\n",
    "    // 실제로 String클래스의 경우는 오버라이딩으로 만들어 쓰고 있다는 것을 API 검색을 해보면 알 수 있다\n",
    "}"
   ]
  },
  {
   "cell_type": "code",
   "execution_count": 15,
   "metadata": {},
   "outputs": [
    {
     "name": "stdout",
     "output_type": "stream",
     "text": [
      "(1,2)\n",
      "(1,2)\n",
      "true\n",
      "false\n"
     ]
    },
    {
     "data": {
      "text/plain": [
       "true"
      ]
     },
     "execution_count": 15,
     "metadata": {},
     "output_type": "execute_result"
    }
   ],
   "source": [
    "Point p1 = new Point(1,2);\n",
    "Point p2 = new Point(1,2);\n",
    "System.out.println(p1);\n",
    "System.out.println(p2);\n",
    "\n",
    "String s1 = new String(\"hello\");\n",
    "\n",
    "// Point클래스의 equals(Point)\n",
    "System.out.println(p1.equals(p2));\n",
    "// Object클래스의 equals(Object)\n",
    "System.out.println(p1.equals(s1)); \n",
    "\n",
    "// return p1==p2; // false\n",
    "\n",
    "// 위에서 오버로딩된 boolean equals(Point _p) 가 없으면 아래 결과도 false다.\n",
    "// 왜 어째서??? Object의 boolean equals(Object o) { return this==o; }\n",
    "return p1.equals(p2); "
   ]
  },
  {
   "cell_type": "code",
   "execution_count": null,
   "metadata": {},
   "outputs": [],
   "source": []
  }
 ],
 "metadata": {
  "kernelspec": {
   "display_name": "Java",
   "language": "java",
   "name": "java"
  },
  "language_info": {
   "codemirror_mode": "text/x-java",
   "file_extension": ".java",
   "mimetype": "",
   "name": "Java",
   "nbconverter_exporter": "",
   "version": "11.0.3"
  },
  "toc": {
   "base_numbering": 1,
   "nav_menu": {},
   "number_sections": false,
   "sideBar": false,
   "skip_h1_title": false,
   "title_cell": "Table of Contents",
   "title_sidebar": "Contents",
   "toc_cell": false,
   "toc_position": {},
   "toc_section_display": false,
   "toc_window_display": false
  }
 },
 "nbformat": 4,
 "nbformat_minor": 2
}
