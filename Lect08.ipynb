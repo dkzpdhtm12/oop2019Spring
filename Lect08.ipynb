{
 "cells": [
  {
   "cell_type": "markdown",
   "metadata": {},
   "source": [
    "계속 업데이트중입니다"
   ]
  },
  {
   "cell_type": "code",
   "execution_count": 2,
   "metadata": {},
   "outputs": [
    {
     "data": {
      "text/plain": [
       "com.twosigma.beaker.javash.bkra0253ba3.Pair"
      ]
     },
     "execution_count": 2,
     "metadata": {},
     "output_type": "execute_result"
    }
   ],
   "source": [
    "class Pair {\n",
    "    Object first;\n",
    "    Object second;\n",
    "}"
   ]
  },
  {
   "cell_type": "code",
   "execution_count": 6,
   "metadata": {},
   "outputs": [
    {
     "data": {
      "text/plain": [
       "com.twosigma.beaker.javash.bkra0253ba3.AAA"
      ]
     },
     "execution_count": 6,
     "metadata": {},
     "output_type": "execute_result"
    }
   ],
   "source": [
    "class AAA { }"
   ]
  },
  {
   "cell_type": "code",
   "execution_count": 7,
   "metadata": {},
   "outputs": [
    {
     "data": {
      "text/plain": [
       "null"
      ]
     },
     "execution_count": 7,
     "metadata": {},
     "output_type": "execute_result"
    }
   ],
   "source": [
    "Pair sspair = new Pair();\n",
    "sspair.first = new String(\"Hello\");\n",
    "sspair.second = new String(\"World\");\n",
    "\n",
    "// .. ..\n",
    "sspair.second = new AAA();\n",
    "// .. .."
   ]
  },
  {
   "cell_type": "code",
   "execution_count": 8,
   "metadata": {},
   "outputs": [
    {
     "data": {
      "text/plain": [
       "com.twosigma.beaker.javash.bkra0253ba3.Pair"
      ]
     },
     "execution_count": 8,
     "metadata": {},
     "output_type": "execute_result"
    }
   ],
   "source": [
    "class Pair<A,B> {\n",
    "    A first;\n",
    "    B second;\n",
    "}"
   ]
  },
  {
   "cell_type": "code",
   "execution_count": 20,
   "metadata": {},
   "outputs": [
    {
     "data": {
      "text/plain": [
       "null"
      ]
     },
     "execution_count": 20,
     "metadata": {},
     "output_type": "execute_result"
    }
   ],
   "source": [
    "// Pair <int, int> sspair; // 자바는 이게안됨\n",
    "Pair<Integer, Integer> iipair\n",
    "  = new Pair<Integer, Integer>();\n",
    "iipair.first = new Integer(3);\n",
    "iipair.second = new Integer(4);\n",
    "\n",
    "\n",
    "Pair<Double, Double> ddpair\n",
    "  = new Pair<Double, Double>();\n",
    "ddpair.first = new Double(3.0);\n",
    "ddpair.second = new Double(4.4);\n"
   ]
  },
  {
   "cell_type": "code",
   "execution_count": 11,
   "metadata": {},
   "outputs": [
    {
     "ename": "incompatible types",
     "evalue": " com.twosigma.beaker.javash.bkra0253ba3.AAA cannot be converted to java.lang.String",
     "output_type": "error",
     "traceback": [
      "\u001b[0;31mincompatible types: com.twosigma.beaker.javash.bkra0253ba3.AAA cannot be converted to java.lang.String\u001b[0;0m",
      "\u001b[0;31m sspair.second = new AAA()\u001b[0;0m",
      "\u001b[0;31m                 ^        ^ \u001b[0;0m"
     ]
    }
   ],
   "source": [
    "Pair<String, String> sspair\n",
    "  = new Pair<String, String>();\n",
    "sspair.first = new String(\"Hello\");\n",
    "sspair.second = new String(\"World\");\n",
    "\n",
    "sspair.second = new AAA();"
   ]
  },
  {
   "cell_type": "code",
   "execution_count": null,
   "metadata": {},
   "outputs": [],
   "source": [
    "class PairIntInt {\n",
    "    int first;\n",
    "    int second;\n",
    "}"
   ]
  },
  {
   "cell_type": "code",
   "execution_count": null,
   "metadata": {},
   "outputs": [],
   "source": [
    "class PairIntDouble {\n",
    "    int first;\n",
    "    double second;\n",
    "}"
   ]
  },
  {
   "cell_type": "code",
   "execution_count": null,
   "metadata": {},
   "outputs": [],
   "source": [
    "class PairDoubleDouble {\n",
    "    double first;\n",
    "    double second;\n",
    "}"
   ]
  }
 ],
 "metadata": {
  "kernelspec": {
   "display_name": "Java",
   "language": "java",
   "name": "java"
  },
  "language_info": {
   "codemirror_mode": "text/x-java",
   "file_extension": ".java",
   "mimetype": "",
   "name": "Java",
   "nbconverter_exporter": "",
   "version": "11.0.1"
  },
  "toc": {
   "base_numbering": 1,
   "nav_menu": {},
   "number_sections": false,
   "sideBar": false,
   "skip_h1_title": false,
   "title_cell": "Table of Contents",
   "title_sidebar": "Contents",
   "toc_cell": false,
   "toc_position": {},
   "toc_section_display": false,
   "toc_window_display": false
  }
 },
 "nbformat": 4,
 "nbformat_minor": 2
}
