{
 "cells": [
  {
   "cell_type": "markdown",
   "metadata": {},
   "source": [
    "계속 업데이트중입니다"
   ]
  },
  {
   "cell_type": "code",
   "execution_count": 14,
   "metadata": {},
   "outputs": [
    {
     "name": "stdout",
     "output_type": "stream",
     "text": [
      "hello\n",
      "hello\n"
     ]
    },
    {
     "data": {
      "text/plain": [
       "true"
      ]
     },
     "execution_count": 14,
     "metadata": {},
     "output_type": "execute_result"
    }
   ],
   "source": [
    "String str1 = new String(\"hello\");\n",
    "String str2 = new String(str1);\n",
    "System.out.println(str1);\n",
    "System.out.println(str2);\n",
    "\n",
    "// return str1 == str2; // false\n",
    "return str1.equals(str2); // true"
   ]
  },
  {
   "cell_type": "code",
   "execution_count": 25,
   "metadata": {},
   "outputs": [
    {
     "data": {
      "text/plain": [
       "com.twosigma.beaker.javash.bkre690acd5.Point"
      ]
     },
     "execution_count": 25,
     "metadata": {},
     "output_type": "execute_result"
    }
   ],
   "source": [
    "class Point {\n",
    "    int x, y;\n",
    "    Point() { x=0; y=0; }\n",
    "    Point(int x, int y) { this.x=x; this.y=y; }\n",
    "    @Override\n",
    "    public String toString() { return \"(\"+x+\",\"+y+\")\"; }\n",
    "    // @Override 아니다   이거는 오버로딩이다\n",
    "    public boolean equals(Point _p) { return x==_p.x && y==_p.y; }\n",
    "    // 똑같은 기능을 하는데 오버라이딩으로 만들어 쓰는 방법도 있다 (instanceof 연산자, 다운캐스팅 사용)\n",
    "}"
   ]
  },
  {
   "cell_type": "code",
   "execution_count": 26,
   "metadata": {},
   "outputs": [
    {
     "name": "stdout",
     "output_type": "stream",
     "text": [
      "(1,2)\n",
      "(1,2)\n"
     ]
    },
    {
     "data": {
      "text/plain": [
       "true"
      ]
     },
     "execution_count": 26,
     "metadata": {},
     "output_type": "execute_result"
    }
   ],
   "source": [
    "Point p1 = new Point(1,2);\n",
    "Point p2 = new Point(1,2);\n",
    "System.out.println(p1);\n",
    "System.out.println(p2);\n",
    "\n",
    "// return p1==p2; // false\n",
    "\n",
    "// 위에서 오버로딩된 boolean equals(Point _p) 가 없으면 아래 결과도 false다.\n",
    "// 왜 어째서??? Object의 boolean equals(Object o) { return this==o; }\n",
    "return p1.equals(p2); "
   ]
  },
  {
   "cell_type": "code",
   "execution_count": null,
   "metadata": {},
   "outputs": [],
   "source": []
  },
  {
   "cell_type": "code",
   "execution_count": null,
   "metadata": {},
   "outputs": [],
   "source": []
  },
  {
   "cell_type": "code",
   "execution_count": null,
   "metadata": {},
   "outputs": [],
   "source": []
  },
  {
   "cell_type": "code",
   "execution_count": 2,
   "metadata": {},
   "outputs": [
    {
     "data": {
      "text/plain": [
       "com.twosigma.beaker.javash.bkra0253ba3.Pair"
      ]
     },
     "execution_count": 2,
     "metadata": {},
     "output_type": "execute_result"
    }
   ],
   "source": [
    "class Pair {\n",
    "    Object first;\n",
    "    Object second;\n",
    "}"
   ]
  },
  {
   "cell_type": "code",
   "execution_count": 6,
   "metadata": {},
   "outputs": [
    {
     "data": {
      "text/plain": [
       "com.twosigma.beaker.javash.bkra0253ba3.AAA"
      ]
     },
     "execution_count": 6,
     "metadata": {},
     "output_type": "execute_result"
    }
   ],
   "source": [
    "class AAA { }"
   ]
  },
  {
   "cell_type": "code",
   "execution_count": 7,
   "metadata": {},
   "outputs": [
    {
     "data": {
      "text/plain": [
       "null"
      ]
     },
     "execution_count": 7,
     "metadata": {},
     "output_type": "execute_result"
    }
   ],
   "source": [
    "Pair sspair = new Pair();\n",
    "sspair.first = new String(\"Hello\");\n",
    "sspair.second = new String(\"World\");\n",
    "\n",
    "// .. ..\n",
    "sspair.second = new AAA();\n",
    "// .. .."
   ]
  },
  {
   "cell_type": "code",
   "execution_count": 8,
   "metadata": {},
   "outputs": [
    {
     "data": {
      "text/plain": [
       "com.twosigma.beaker.javash.bkra0253ba3.Pair"
      ]
     },
     "execution_count": 8,
     "metadata": {},
     "output_type": "execute_result"
    }
   ],
   "source": [
    "class Pair<A,B> {\n",
    "    A first;\n",
    "    B second;\n",
    "}"
   ]
  },
  {
   "cell_type": "code",
   "execution_count": 20,
   "metadata": {},
   "outputs": [
    {
     "data": {
      "text/plain": [
       "null"
      ]
     },
     "execution_count": 20,
     "metadata": {},
     "output_type": "execute_result"
    }
   ],
   "source": [
    "// Pair <int, int> sspair; // 자바는 이게안됨\n",
    "Pair<Integer, Integer> iipair\n",
    "  = new Pair<Integer, Integer>();\n",
    "iipair.first = new Integer(3);\n",
    "iipair.second = new Integer(4);\n",
    "\n",
    "\n",
    "Pair<Double, Double> ddpair\n",
    "  = new Pair<Double, Double>();\n",
    "ddpair.first = new Double(3.0);\n",
    "ddpair.second = new Double(4.4);\n"
   ]
  },
  {
   "cell_type": "code",
   "execution_count": 11,
   "metadata": {},
   "outputs": [
    {
     "ename": "incompatible types",
     "evalue": " com.twosigma.beaker.javash.bkra0253ba3.AAA cannot be converted to java.lang.String",
     "output_type": "error",
     "traceback": [
      "\u001b[0;31mincompatible types: com.twosigma.beaker.javash.bkra0253ba3.AAA cannot be converted to java.lang.String\u001b[0;0m",
      "\u001b[0;31m sspair.second = new AAA()\u001b[0;0m",
      "\u001b[0;31m                 ^        ^ \u001b[0;0m"
     ]
    }
   ],
   "source": [
    "Pair<String, String> sspair\n",
    "  = new Pair<String, String>();\n",
    "sspair.first = new String(\"Hello\");\n",
    "sspair.second = new String(\"World\");\n",
    "\n",
    "sspair.second = new AAA();"
   ]
  },
  {
   "cell_type": "code",
   "execution_count": null,
   "metadata": {},
   "outputs": [],
   "source": [
    "class PairIntInt {\n",
    "    int first;\n",
    "    int second;\n",
    "}"
   ]
  },
  {
   "cell_type": "code",
   "execution_count": null,
   "metadata": {},
   "outputs": [],
   "source": [
    "class PairIntDouble {\n",
    "    int first;\n",
    "    double second;\n",
    "}"
   ]
  },
  {
   "cell_type": "code",
   "execution_count": null,
   "metadata": {},
   "outputs": [],
   "source": [
    "class PairDoubleDouble {\n",
    "    double first;\n",
    "    double second;\n",
    "}"
   ]
  }
 ],
 "metadata": {
  "kernelspec": {
   "display_name": "Java",
   "language": "java",
   "name": "java"
  },
  "language_info": {
   "codemirror_mode": "text/x-java",
   "file_extension": ".java",
   "mimetype": "",
   "name": "Java",
   "nbconverter_exporter": "",
   "version": "11.0.1"
  },
  "toc": {
   "base_numbering": 1,
   "nav_menu": {},
   "number_sections": false,
   "sideBar": false,
   "skip_h1_title": false,
   "title_cell": "Table of Contents",
   "title_sidebar": "Contents",
   "toc_cell": false,
   "toc_position": {},
   "toc_section_display": false,
   "toc_window_display": false
  }
 },
 "nbformat": 4,
 "nbformat_minor": 2
}
