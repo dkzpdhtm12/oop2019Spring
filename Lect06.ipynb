{
 "cells": [
  {
   "cell_type": "markdown",
   "metadata": {},
   "source": [
    "# 32 접근 제어자\n",
    "이 장의 내용은 홈페이지에 참고자료로 링크한 온라인 책에 더 간단히 정리되어 있으니 그것을 한번 찾아보고 자습한다\n",
    "\n",
    "https://wikidocs.net/232"
   ]
  },
  {
   "cell_type": "markdown",
   "metadata": {},
   "source": [
    "# 33 Abstract\n",
    "추상 클래스와 추상 메소드에 대해 알아본다.\n",
    "\n",
    "추가로 static 변수/메소드와 인스턴스 변수/메소드의 차이점에 대해 다시 확실히 짚어본다."
   ]
  },
  {
   "cell_type": "code",
   "execution_count": 59,
   "metadata": {},
   "outputs": [
    {
     "data": {
      "text/plain": [
       "com.twosigma.beaker.javash.bkr52e42a0d.A"
      ]
     },
     "execution_count": 59,
     "metadata": {},
     "output_type": "execute_result"
    }
   ],
   "source": [
    "abstract class A { // 추상 클래스\n",
    "    static String f() {\n",
    "        return \"내 정적타입은 A\";\n",
    "    }\n",
    "    @Override\n",
    "    public String toString() {\n",
    "        return \"내 실행시간 타입은 A\";\n",
    "    }\n",
    "    \n",
    "    int x;\n",
    "    int myfunction() { return 333; }\n",
    "    \n",
    "    abstract int foo(); // 추상 메소드\n",
    "} "
   ]
  },
  {
   "cell_type": "code",
   "execution_count": 62,
   "metadata": {},
   "outputs": [
    {
     "data": {
      "text/plain": [
       "com.twosigma.beaker.javash.bkr52e42a0d.B1"
      ]
     },
     "execution_count": 62,
     "metadata": {},
     "output_type": "execute_result"
    }
   ],
   "source": [
    "class B1 extends A {\n",
    "    static String f() {\n",
    "        return \"내 정적타입은 B1\";\n",
    "    }\n",
    "    @Override\n",
    "    public String toString() {\n",
    "        return \"내 실행시간 타입은 B1\";\n",
    "    }\n",
    "    // 추상 메소드는 반드시 오버라이딩해 정의를 제공해야 한다\n",
    "    @Override\n",
    "    int foo() { return 111; }\n",
    "}"
   ]
  },
  {
   "cell_type": "code",
   "execution_count": 65,
   "metadata": {},
   "outputs": [
    {
     "data": {
      "text/plain": [
       "com.twosigma.beaker.javash.bkr52e42a0d.B2"
      ]
     },
     "execution_count": 65,
     "metadata": {},
     "output_type": "execute_result"
    }
   ],
   "source": [
    "class B2 extends A {\n",
    "    static String f() {\n",
    "        return \"내 정적타입은 B2\";\n",
    "    }    \n",
    "    @Override\n",
    "    public String toString() {\n",
    "        return \"내 실행시간 타입은 B2\";\n",
    "    }\n",
    "    // 추상 메소드는 반드시 오버라이딩해 정의를 제공해야 한다\n",
    "    @Override\n",
    "    int foo() { return 123; }\n",
    "}"
   ]
  },
  {
   "cell_type": "code",
   "execution_count": 66,
   "metadata": {},
   "outputs": [
    {
     "data": {
      "text/plain": [
       "com.twosigma.beaker.javash.bkr52e42a0d.B"
      ]
     },
     "execution_count": 66,
     "metadata": {},
     "output_type": "execute_result"
    }
   ],
   "source": [
    "// 하지만 상속해 만든 클래스 또한 추상 클래스라면\n",
    "// 추상 메소드를 오버라이딩하지 않는다\n",
    "abstract class B extends A { }"
   ]
  },
  {
   "cell_type": "code",
   "execution_count": 53,
   "metadata": {},
   "outputs": [
    {
     "ename": "com.twosigma.beaker.javash.bkr52e42a0d.A is abstract; cannot be instantiated",
     "evalue": "com.twosigma.beaker.javash.bkr52e42a0d.A is abstract; cannot be instantiated",
     "output_type": "error",
     "traceback": [
      "\u001b[0;31mcom.twosigma.beaker.javash.bkr52e42a0d.A is abstract; cannot be instantiated\u001b[0;0m",
      "\u001b[0;31m A a = new A()\u001b[0;0m",
      "\u001b[0;31m       ^      ^ \u001b[0;0m"
     ]
    }
   ],
   "source": [
    "A a = new A();"
   ]
  },
  {
   "cell_type": "code",
   "execution_count": 68,
   "metadata": {},
   "outputs": [
    {
     "name": "stdout",
     "output_type": "stream",
     "text": [
      "내 정적타입은 A\n",
      "내 정적타입은 B1\n",
      "내 실행시간 타입은 B1\n",
      "내 실행시간 타입은 B1\n"
     ]
    },
    {
     "data": {
      "text/plain": [
       "null"
      ]
     },
     "execution_count": 68,
     "metadata": {},
     "output_type": "execute_result"
    }
   ],
   "source": [
    "B1 b1 = new B1();\n",
    "A a1 = b1;\n",
    "\n",
    "System.out.println(a1.f());\n",
    "System.out.println(b1.f());\n",
    "\n",
    "System.out.println(a1.toString());\n",
    "System.out.println(b1.toString());"
   ]
  },
  {
   "cell_type": "code",
   "execution_count": 67,
   "metadata": {},
   "outputs": [
    {
     "name": "stdout",
     "output_type": "stream",
     "text": [
      "내 정적타입은 A\n",
      "내 정적타입은 B2\n",
      "내 실행시간 타입은 B2\n",
      "내 실행시간 타입은 B2\n"
     ]
    },
    {
     "data": {
      "text/plain": [
       "null"
      ]
     },
     "execution_count": 67,
     "metadata": {},
     "output_type": "execute_result"
    }
   ],
   "source": [
    "B2 b2 = new B2();\n",
    "A a2 = b2;\n",
    "\n",
    "System.out.println(a2.f());\n",
    "System.out.println(b2.f());\n",
    "\n",
    "System.out.println(a2.toString());\n",
    "System.out.println(b2.toString());"
   ]
  }
 ],
 "metadata": {
  "kernelspec": {
   "display_name": "Java",
   "language": "java",
   "name": "java"
  },
  "language_info": {
   "codemirror_mode": "text/x-java",
   "file_extension": ".java",
   "mimetype": "",
   "name": "Java",
   "nbconverter_exporter": "",
   "version": "11.0.1"
  },
  "toc": {
   "base_numbering": 1,
   "nav_menu": {},
   "number_sections": false,
   "sideBar": false,
   "skip_h1_title": false,
   "title_cell": "Table of Contents",
   "title_sidebar": "Contents",
   "toc_cell": false,
   "toc_position": {},
   "toc_section_display": false,
   "toc_window_display": false
  }
 },
 "nbformat": 4,
 "nbformat_minor": 2
}
