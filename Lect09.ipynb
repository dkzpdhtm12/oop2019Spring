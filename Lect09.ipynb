{
 "cells": [
  {
   "cell_type": "markdown",
   "metadata": {},
   "source": [
    "# 과제를 위한 Generic 보충\n",
    "\n",
    "제네릭 클래스 (static) 메소드를 정의하는 방법이 책에 안나와있어서"
   ]
  },
  {
   "cell_type": "code",
   "execution_count": 13,
   "metadata": {},
   "outputs": [
    {
     "data": {
      "text/plain": [
       "com.twosigma.beaker.javash.bkrbf909d3f.Pair"
      ]
     },
     "execution_count": 13,
     "metadata": {},
     "output_type": "execute_result"
    }
   ],
   "source": [
    "// v 라는 값을 주면 (v,v) 를 만들어내주는 클래스 메소드 dup를 만들어 봅시다\n",
    "// v의 타입을 V라고 이름을 붙여서 클래스 메소드에서 쓸 제너릭 인자를 따로 설정해준다\n",
    "// class Pair<T1,T2>... 에 있는 T1, T2와 독립적으로 \n",
    "\n",
    "class Pair<T1,T2> {\n",
    "    private final T1 fst;\n",
    "    private final T2 snd;\n",
    "    \n",
    "    Pair(T1 v1, T2 v2) { fst=v1; snd=v2; }\n",
    "    \n",
    "    T1 first() { return fst; }\n",
    "    T2 second() { return snd; }\n",
    "    \n",
    "    @Override\n",
    "    public String toString() { return \"(\"+first()+\", \"+second()+\")\"; }\n",
    "   \n",
    "    // ============================================================\n",
    "    static <V> Pair<V,V> dup(V v) { return new Pair<V,V>(v,v); }\n",
    "}"
   ]
  },
  {
   "cell_type": "code",
   "execution_count": 14,
   "metadata": {},
   "outputs": [
    {
     "data": {
      "text/plain": [
       "(Hello, World)"
      ]
     },
     "execution_count": 14,
     "metadata": {},
     "output_type": "execute_result"
    }
   ],
   "source": [
    "return new Pair<String,String>(\"Hello\", \"World\");"
   ]
  },
  {
   "cell_type": "code",
   "execution_count": 15,
   "metadata": {},
   "outputs": [
    {
     "data": {
      "text/plain": [
       "(3, 4)"
      ]
     },
     "execution_count": 15,
     "metadata": {},
     "output_type": "execute_result"
    }
   ],
   "source": [
    "// return new Pair<Integer,Integer>(new Integer(3), new Integer(4));\n",
    "return new Pair<Integer,Integer>(3, 4);"
   ]
  },
  {
   "cell_type": "code",
   "execution_count": 16,
   "metadata": {},
   "outputs": [
    {
     "data": {
      "text/plain": [
       "(3, Bye)"
      ]
     },
     "execution_count": 16,
     "metadata": {},
     "output_type": "execute_result"
    }
   ],
   "source": [
    "return new Pair<Integer,String>(3, \"Bye\");"
   ]
  },
  {
   "cell_type": "code",
   "execution_count": 17,
   "metadata": {},
   "outputs": [
    {
     "data": {
      "text/plain": [
       "(Hello, Hello)"
      ]
     },
     "execution_count": 17,
     "metadata": {},
     "output_type": "execute_result"
    }
   ],
   "source": [
    "return Pair.dup(\"Hello\");"
   ]
  },
  {
   "cell_type": "code",
   "execution_count": 18,
   "metadata": {},
   "outputs": [
    {
     "data": {
      "text/plain": [
       "(3, 3)"
      ]
     },
     "execution_count": 18,
     "metadata": {},
     "output_type": "execute_result"
    }
   ],
   "source": [
    "return Pair.dup(3);"
   ]
  },
  {
   "cell_type": "code",
   "execution_count": null,
   "metadata": {},
   "outputs": [],
   "source": []
  }
 ],
 "metadata": {
  "kernelspec": {
   "display_name": "Java",
   "language": "java",
   "name": "java"
  },
  "language_info": {
   "codemirror_mode": "text/x-java",
   "file_extension": ".java",
   "mimetype": "",
   "name": "Java",
   "nbconverter_exporter": "",
   "version": "1.8.0_121"
  },
  "toc": {
   "base_numbering": 1,
   "nav_menu": {},
   "number_sections": false,
   "sideBar": false,
   "skip_h1_title": false,
   "title_cell": "Table of Contents",
   "title_sidebar": "Contents",
   "toc_cell": false,
   "toc_position": {},
   "toc_section_display": false,
   "toc_window_display": false
  }
 },
 "nbformat": 4,
 "nbformat_minor": 2
}
