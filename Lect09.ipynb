{
 "cells": [
  {
   "cell_type": "markdown",
   "metadata": {},
   "source": [
    "# 과제를 위한 Generic 보충\n",
    "\n",
    "제네릭 클래스 (static) 메소드를 정의하는 방법이 책에 안나와있어서"
   ]
  },
  {
   "cell_type": "code",
   "execution_count": 1,
   "metadata": {},
   "outputs": [
    {
     "data": {
      "text/plain": [
       "com.twosigma.beaker.javash.bkr713193c4.Pair"
      ]
     },
     "execution_count": 1,
     "metadata": {},
     "output_type": "execute_result"
    }
   ],
   "source": [
    "// v 라는 값을 주면 (v,v) 를 만들어내주는 클래스 메소드 dup를 만들어 봅시다\n",
    "// v의 타입을 V라고 이름을 붙여서 클래스 메소드에서 쓸 제너릭 인자를 따로 설정해준다\n",
    "// class Pair<T1,T2>... 에 있는 T1, T2와 독립적으로 \n",
    "\n",
    "class Pair<T1,T2> {\n",
    "    private final T1 fst;\n",
    "    private final T2 snd;\n",
    "    \n",
    "    Pair(T1 v1, T2 v2) { fst=v1; snd=v2; }\n",
    "    \n",
    "    T1 first() { return fst; }\n",
    "    T2 second() { return snd; }\n",
    "    \n",
    "    @Override\n",
    "    public String toString() { return \"(\"+first()+\", \"+second()+\")\"; }\n",
    "   \n",
    "    // ============================================================\n",
    "    static <V> Pair<V,V> dup(V v) { return new Pair<V,V>(v,v); }\n",
    "}"
   ]
  },
  {
   "cell_type": "code",
   "execution_count": 2,
   "metadata": {},
   "outputs": [
    {
     "data": {
      "text/plain": [
       "(Hello, World)"
      ]
     },
     "execution_count": 2,
     "metadata": {},
     "output_type": "execute_result"
    }
   ],
   "source": [
    "return new Pair<String,String>(\"Hello\", \"World\");\n",
    "// return new Pair(\"Hello\", \"World\"); // 인자로부터 타입을 정확히 알 수 있는 경우에 생략가능"
   ]
  },
  {
   "cell_type": "code",
   "execution_count": 3,
   "metadata": {},
   "outputs": [
    {
     "data": {
      "text/plain": [
       "(3, 4)"
      ]
     },
     "execution_count": 3,
     "metadata": {},
     "output_type": "execute_result"
    }
   ],
   "source": [
    "// Pair<int,int>는 Java에서 안된다\n",
    "// return new Pair<Integer,Integer>(new Integer(3), new Integer(4));\n",
    "return new Pair<Integer,Integer>(3, 4);"
   ]
  },
  {
   "cell_type": "code",
   "execution_count": 4,
   "metadata": {},
   "outputs": [
    {
     "data": {
      "text/plain": [
       "(3, Bye)"
      ]
     },
     "execution_count": 4,
     "metadata": {},
     "output_type": "execute_result"
    }
   ],
   "source": [
    "return new Pair<Integer,String>(3, \"Bye\");"
   ]
  },
  {
   "cell_type": "code",
   "execution_count": 5,
   "metadata": {},
   "outputs": [
    {
     "data": {
      "text/plain": [
       "((3, 4), (Hi, Hello))"
      ]
     },
     "execution_count": 5,
     "metadata": {},
     "output_type": "execute_result"
    }
   ],
   "source": [
    "/* // 생성자를 호출할 때 제너릭 파라메터를 생략하지 않으면 너무나 길어지는 코드\n",
    "return\n",
    "    new Pair< Pair<Integer,Integer>,\n",
    "              Pair<String,String> >( new Pair<Integer,Integer>(3,4),\n",
    "                                     new Pair<String,String>(\"Hi\",\"Hello\") );*/\n",
    "return new Pair(new Pair(3,4), new Pair(\"Hi\",\"Hello\"));"
   ]
  },
  {
   "cell_type": "code",
   "execution_count": 6,
   "metadata": {},
   "outputs": [
    {
     "data": {
      "text/plain": [
       "(Hello, Hello)"
      ]
     },
     "execution_count": 6,
     "metadata": {},
     "output_type": "execute_result"
    }
   ],
   "source": [
    "return Pair.dup(\"Hello\");"
   ]
  },
  {
   "cell_type": "code",
   "execution_count": 7,
   "metadata": {},
   "outputs": [
    {
     "data": {
      "text/plain": [
       "(3, 3)"
      ]
     },
     "execution_count": 7,
     "metadata": {},
     "output_type": "execute_result"
    }
   ],
   "source": [
    "return Pair.dup(3);"
   ]
  },
  {
   "cell_type": "code",
   "execution_count": 8,
   "metadata": {},
   "outputs": [
    {
     "data": {
      "text/plain": [
       "((3, Hi), (3, Hi))"
      ]
     },
     "execution_count": 8,
     "metadata": {},
     "output_type": "execute_result"
    }
   ],
   "source": [
    "return Pair.dup(new Pair(3,\"Hi\"));"
   ]
  },
  {
   "cell_type": "code",
   "execution_count": null,
   "metadata": {},
   "outputs": [],
   "source": []
  }
 ],
 "metadata": {
  "kernelspec": {
   "display_name": "Java",
   "language": "java",
   "name": "java"
  },
  "language_info": {
   "codemirror_mode": "text/x-java",
   "file_extension": ".java",
   "mimetype": "",
   "name": "Java",
   "nbconverter_exporter": "",
   "version": "1.8.0_121"
  },
  "toc": {
   "base_numbering": 1,
   "nav_menu": {},
   "number_sections": false,
   "sideBar": false,
   "skip_h1_title": false,
   "title_cell": "Table of Contents",
   "title_sidebar": "Contents",
   "toc_cell": false,
   "toc_position": {},
   "toc_section_display": false,
   "toc_window_display": false
  }
 },
 "nbformat": 4,
 "nbformat_minor": 2
}
