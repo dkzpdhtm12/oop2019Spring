{
 "cells": [
  {
   "cell_type": "markdown",
   "metadata": {},
   "source": [
    "# 링크드 리스트 정의에 \"널 옵브젝트 패턴\" 활용해 보기\n",
    "\n",
    "## 근데 널 오브젝트는 자연스럽게 싱글톤이 되는 것이 좋다\n",
    "싱글톤을 정의하려면\n",
    "  1. 생성자를 아무나 못부르게 private으로\n",
    "  2. 생성자를 대신해서 Null 오브젝트를 만들어 주는 메소드 정의 (팩토리 메소드)\n",
    "  3. 싱글톤 오브젝트는 private static final 변수에 할당"
   ]
  },
  {
   "cell_type": "code",
   "execution_count": 38,
   "metadata": {},
   "outputs": [
    {
     "data": {
      "text/plain": [
       "com.twosigma.beaker.javash.bkr84247bc8.LL"
      ]
     },
     "execution_count": 38,
     "metadata": {},
     "output_type": "execute_result"
    }
   ],
   "source": [
    "abstract class LL<T> { // 링크드 리스트를 나타내는 추상 클래스\n",
    "    abstract int length();\n",
    "}\n",
    "\n",
    "class Null<T> extends LL<T> {\n",
    "    private Null() { }\n",
    "    \n",
    "    private static final LL theNull = new Null();  \n",
    "    // 팩토리 메소드 - 싱글톤 오브젝트를 리턴\n",
    "    public static <S> LL<S> getInstance() {\n",
    "        return theNull;\n",
    "    }\n",
    "    \n",
    "    @Override\n",
    "    int length() { return 0; }\n",
    "    @Override\n",
    "    public String toString() { return \"Null\"; }\n",
    "}\n",
    "\n",
    "class Node<T> extends LL<T> {\n",
    "    private final T value;\n",
    "    private final LL<T> next;\n",
    "    // next에 절대로 null을 할당하지 않아야 한다.\n",
    "    // null 대신에 Null<T> 오브젝트를 사용\n",
    "    \n",
    "    // 생성자를 적절하게 정의하라\n",
    "    Node(T v, LL<T> n) { value=v; next=n; }\n",
    "    \n",
    "    T head() { return value; }\n",
    "    LL<T> tail() { return next; }\n",
    "    \n",
    "    int length() { return 1 + tail().length(); }\n",
    "    \n",
    "    @Override // 리스트의 내용을 알아보기 편하게 출력되게\n",
    "    public String toString() {\n",
    "        return\n",
    "            ( (head() instanceof LL)\n",
    "             ? \"[\"+ head() + \"]\"\n",
    "             :      head() )\n",
    "            + \", \" + tail();\n",
    "    }\n",
    "}"
   ]
  },
  {
   "cell_type": "code",
   "execution_count": 41,
   "metadata": {},
   "outputs": [
    {
     "name": "stdout",
     "output_type": "stream",
     "text": [
      "l3: 1, 2, 3, Null\n",
      "ll4: [1, 2, 3, Null], [2, 3, Null], [3, Null], [Null], Null\n"
     ]
    },
    {
     "data": {
      "text/plain": [
       "null"
      ]
     },
     "execution_count": 41,
     "metadata": {},
     "output_type": "execute_result"
    }
   ],
   "source": [
    "LL<Integer> l0 = Null.getInstance();\n",
    "LL<Integer> l1 = new Node<>(3, l0);\n",
    "LL<Integer> l2 = new Node<>(2, l1);\n",
    "LL<Integer> l3 = new Node<>(1, l2);\n",
    "\n",
    "System.out.println(\"l3: \" + l3); // 1, 2, 3, null\n",
    "/*\n",
    "System.out.println(\"l3.length() = \" + l3.length());\n",
    "System.out.println(\"l2.length() = \" + l2.length());\n",
    "System.out.println(\"l1.length() = \" + l1.length());\n",
    "System.out.println(\"l0.length() = \" + l0.length());\n",
    "*/\n",
    "\n",
    "LL< LL<Integer> > ll0 = Null.getInstance();\n",
    "LL< LL<Integer> > ll1 = new Node<>(l0, ll0);\n",
    "LL< LL<Integer> > ll2 = new Node<>(l1, ll1);\n",
    "LL< LL<Integer> > ll3 = new Node<>(l2, ll2);\n",
    "LL< LL<Integer> > ll4 = new Node<>(l3, ll3);\n",
    "\n",
    "System.out.println(\"ll4: \" + ll4);"
   ]
  },
  {
   "cell_type": "code",
   "execution_count": 25,
   "metadata": {},
   "outputs": [
    {
     "data": {
      "text/plain": [
       "true"
      ]
     },
     "execution_count": 25,
     "metadata": {},
     "output_type": "execute_result"
    }
   ],
   "source": [
    "return null == null;"
   ]
  },
  {
   "cell_type": "code",
   "execution_count": 43,
   "metadata": {},
   "outputs": [
    {
     "data": {
      "text/plain": [
       "true"
      ]
     },
     "execution_count": 43,
     "metadata": {},
     "output_type": "execute_result"
    }
   ],
   "source": [
    "LL<Integer> n1 = Null.getInstance();\n",
    "LL<Integer> n2 = Null.getInstance();\n",
    "\n",
    "return n1 == n2;"
   ]
  },
  {
   "cell_type": "code",
   "execution_count": null,
   "metadata": {},
   "outputs": [],
   "source": []
  },
  {
   "cell_type": "code",
   "execution_count": null,
   "metadata": {},
   "outputs": [],
   "source": []
  }
 ],
 "metadata": {
  "kernelspec": {
   "display_name": "Java",
   "language": "java",
   "name": "java"
  },
  "language_info": {
   "codemirror_mode": "text/x-java",
   "file_extension": ".java",
   "mimetype": "",
   "name": "Java",
   "nbconverter_exporter": "",
   "version": "11.0.1"
  },
  "toc": {
   "base_numbering": 1,
   "nav_menu": {},
   "number_sections": false,
   "sideBar": false,
   "skip_h1_title": false,
   "title_cell": "Table of Contents",
   "title_sidebar": "Contents",
   "toc_cell": false,
   "toc_position": {},
   "toc_section_display": false,
   "toc_window_display": false
  }
 },
 "nbformat": 4,
 "nbformat_minor": 2
}
