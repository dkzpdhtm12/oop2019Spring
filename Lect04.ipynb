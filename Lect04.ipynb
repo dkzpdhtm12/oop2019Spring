{
 "cells": [
  {
   "cell_type": "markdown",
   "metadata": {},
   "source": [
    "## 이차원 배열"
   ]
  },
  {
   "cell_type": "code",
   "execution_count": 4,
   "metadata": {},
   "outputs": [
    {
     "name": "stdout",
     "output_type": "stream",
     "text": [
      "1\n",
      "2\n",
      "3\n",
      "4\n",
      "5\n",
      "6\n",
      "7\n",
      "8\n",
      "9\n"
     ]
    },
    {
     "data": {
      "text/plain": [
       "null"
      ]
     },
     "execution_count": 4,
     "metadata": {},
     "output_type": "execute_result"
    }
   ],
   "source": [
    "int arr[] = {1,2,3,4}; // 일차원배열\n",
    "int arr2[][] = {{1,2}, {3,4,5}, {6,7,8,9}}; //이차원\n",
    "\n",
    "for (int i=0; i<arr2.length; ++i) {\n",
    "    for (int j=0; j<arr2[i].length; ++j) {\n",
    "        System.out.println(arr2[i][j]);\n",
    "    }\n",
    "}"
   ]
  },
  {
   "cell_type": "code",
   "execution_count": 10,
   "metadata": {},
   "outputs": [
    {
     "name": "stdout",
     "output_type": "stream",
     "text": [
      "1\n",
      "2\n",
      "3\n",
      "4\n",
      "5\n",
      "6\n",
      "7\n",
      "8\n",
      "9\n"
     ]
    },
    {
     "data": {
      "text/plain": [
       "null"
      ]
     },
     "execution_count": 10,
     "metadata": {},
     "output_type": "execute_result"
    }
   ],
   "source": [
    "// 초기화 나중에\n",
    "int arr2[][] = new int[3][];\n",
    "\n",
    "// {{1,2}, {3,4,5}, {6,7,8,9}}; //이차원\n",
    "\n",
    "arr2[0] = new int[2];\n",
    "arr2[0][0] = 1;\n",
    "arr2[0][1] = 2;\n",
    "arr2[1] = new int[3];\n",
    "arr2[1][0] = 3;\n",
    "arr2[1][1] = 4;\n",
    "arr2[1][2] = 5;\n",
    "arr2[2] = new int[4];\n",
    "arr2[2][0] = 6;\n",
    "arr2[2][1] = 7;\n",
    "arr2[2][2] = 8;\n",
    "arr2[2][3] = 9;\n",
    "\n",
    "for (int i=0; i<arr2.length; ++i) {\n",
    "    for (int j=0; j<arr2[i].length; ++j) {\n",
    "        System.out.println(arr2[i][j]);\n",
    "    }\n",
    "}"
   ]
  },
  {
   "cell_type": "markdown",
   "metadata": {},
   "source": [
    "## 배열 초기화"
   ]
  },
  {
   "cell_type": "code",
   "execution_count": 1,
   "metadata": {},
   "outputs": [
    {
     "name": "stdout",
     "output_type": "stream",
     "text": [
      "안녕\n",
      "내\n",
      "이름은\n",
      "안기영\n"
     ]
    },
    {
     "data": {
      "text/plain": [
       "null"
      ]
     },
     "execution_count": 1,
     "metadata": {},
     "output_type": "execute_result"
    }
   ],
   "source": [
    "String stringArray[] = { \"안녕\", \"내\", \"이름은\", \"안기영\" };\n",
    "\n",
    "for (String str : stringArray) {\n",
    "    System.out.println(str);\n",
    "}"
   ]
  },
  {
   "cell_type": "code",
   "execution_count": 2,
   "metadata": {},
   "outputs": [
    {
     "data": {
      "text/plain": [
       "1"
      ]
     },
     "execution_count": 2,
     "metadata": {},
     "output_type": "execute_result"
    }
   ],
   "source": [
    "int a;\n",
    "// 다른 거 하다가\n",
    "a = 1;\n",
    "return a;"
   ]
  },
  {
   "cell_type": "code",
   "execution_count": 3,
   "metadata": {},
   "outputs": [
    {
     "name": "stdout",
     "output_type": "stream",
     "text": [
      "안녕\n",
      "하세요\n",
      "식사는\n",
      "하셨나요\n"
     ]
    },
    {
     "data": {
      "text/plain": [
       "null"
      ]
     },
     "execution_count": 3,
     "metadata": {},
     "output_type": "execute_result"
    }
   ],
   "source": [
    "String arr[] = new String[4];\n",
    "\n",
    "// 다른 거 하다가\n",
    "\n",
    "arr[0] = \"안녕\";\n",
    "arr[1] = \"하세요\";\n",
    "arr[2] = \"식사는\";\n",
    "arr[3] = \"하셨나요\";\n",
    "\n",
    "for (String s : arr) {\n",
    "    System.out.println(s);\n",
    "}"
   ]
  },
  {
   "cell_type": "markdown",
   "metadata": {},
   "source": [
    "## 교과서 p.283 은닉화, 캡슐화\n",
    "\n",
    "이런 개념을 쓰는 이유가 아닌 것: 보안, 기밀유지 \n",
    "\n",
    "데이타 구조에서 추상적 데이타 타입(Abstract Data Type, 줄여서 ADT)이라는 걸 쓰는 이유와 같다.\n",
    "\n",
    "예를 들어\n",
    "\"집합\"이라는 ADT를 만들고 싶다면 그 집합이 하는 일을 함수(메소드)로 제공\n",
    " * 공집합인지 검사\n",
    " * 어떤 원소가 집합에 들어있는지 검사\n",
    " * 교집합\n",
    " * 합집합\n",
    " * ... 등등등\n",
    "\n",
    "하지만 굳이 \"집합\"이라는 추상적 데이타 타입을 구체적으로 언어의 어떤 기능을 써서 구현했는지는 알려주지 않는다 (배열, 링크드 리스트, 트리, ...)\n",
    "\n",
    "\n",
    "\n"
   ]
  },
  {
   "cell_type": "markdown",
   "metadata": {},
   "source": [
    "## 상속, 오버라이딩"
   ]
  },
  {
   "cell_type": "code",
   "execution_count": 20,
   "metadata": {},
   "outputs": [
    {
     "data": {
      "text/plain": [
       "com.twosigma.beaker.javash.bkrbf14e897.Weapon"
      ]
     },
     "execution_count": 20,
     "metadata": {},
     "output_type": "execute_result"
    }
   ],
   "source": [
    "class Weapon { // 무기 상위 클래스\n",
    "    public static String className() { return \"Weapon\"; }\n",
    "    \n",
    "    void attack() {\n",
    "        damage(); // 대미지 함수 호출\n",
    "    }\n",
    "    \n",
    "    int damage() { return 0; }\n",
    "}"
   ]
  },
  {
   "cell_type": "code",
   "execution_count": 21,
   "metadata": {},
   "outputs": [
    {
     "data": {
      "text/plain": [
       "com.twosigma.beaker.javash.bkrbf14e897.Sword"
      ]
     },
     "execution_count": 21,
     "metadata": {},
     "output_type": "execute_result"
    }
   ],
   "source": [
    "// Weapon 클래스를 상속받아 Sword 클래스 정의\n",
    "class Sword extends Weapon { // 칼 종류 무기 하위 클래스\n",
    "    public static String className() { return \"Sword\"; }\n",
    "    \n",
    "    private void effectSword() { System.out.println(\"써거덩\"); }\n",
    "    \n",
    "    void attack() {\n",
    "        effectSword();\n",
    "        damage();\n",
    "    }\n",
    "    \n",
    "    int damage() { return 10; } // 메소드 오버라이딩\n",
    "}\n",
    "\n",
    "// Weapon 클래스를 상속받아 Gun 클래스 정의\n",
    "class Gun extends Weapon { // 총 종류 무기 하위 클래스\n",
    "    public static String className() { return \"Gun\"; }\n",
    "    private void effectGun() { System.out.println(\"탕탕탕\"); }\n",
    "    \n",
    "    void attack() {\n",
    "        effectGun();\n",
    "        damage();\n",
    "    }\n",
    "    \n",
    "    int damage() { return 50; }\n",
    "}"
   ]
  },
  {
   "cell_type": "code",
   "execution_count": 22,
   "metadata": {},
   "outputs": [
    {
     "name": "stdout",
     "output_type": "stream",
     "text": [
      "써거덩\n",
      "탕탕탕\n",
      "써거덩\n",
      "써거덩\n"
     ]
    },
    {
     "data": {
      "text/plain": [
       "null"
      ]
     },
     "execution_count": 22,
     "metadata": {},
     "output_type": "execute_result"
    }
   ],
   "source": [
    "Weapon warr[] = {new Sword(),new Gun(),new Sword(),new Sword()};\n",
    "\n",
    "for (Weapon w : warr) {\n",
    "    w.attack();\n",
    "}"
   ]
  },
  {
   "cell_type": "markdown",
   "metadata": {},
   "source": [
    "# 21 클래스, 인스턴스\n",
    "\n",
    "new로 만든 것이 클래스의 인스턴스."
   ]
  },
  {
   "cell_type": "code",
   "execution_count": 23,
   "metadata": {},
   "outputs": [
    {
     "name": "stdout",
     "output_type": "stream",
     "text": [
      "Hello\n",
      "Hello\n"
     ]
    },
    {
     "data": {
      "text/plain": [
       "true"
      ]
     },
     "execution_count": 23,
     "metadata": {},
     "output_type": "execute_result"
    }
   ],
   "source": [
    "String a1 = new String(\"Hello\");\n",
    "String a2 = a1;\n",
    "System.out.println(a1);\n",
    "System.out.println(a2);\n",
    "return a1 == a2;"
   ]
  },
  {
   "cell_type": "code",
   "execution_count": 24,
   "metadata": {},
   "outputs": [
    {
     "name": "stdout",
     "output_type": "stream",
     "text": [
      "Hello\n",
      "Hello\n"
     ]
    },
    {
     "data": {
      "text/plain": [
       "false"
      ]
     },
     "execution_count": 24,
     "metadata": {},
     "output_type": "execute_result"
    }
   ],
   "source": [
    "String a1 = new String(\"Hello\");\n",
    "String a2 = new String(a1);\n",
    "System.out.println(a1);\n",
    "System.out.println(a2);\n",
    "return a1 == a2;"
   ]
  },
  {
   "cell_type": "code",
   "execution_count": 25,
   "metadata": {},
   "outputs": [
    {
     "data": {
      "text/plain": [
       "null"
      ]
     },
     "execution_count": 25,
     "metadata": {},
     "output_type": "execute_result"
    }
   ],
   "source": [
    "/*\n",
    "    public static String className() { return \"Complex\"; }\n",
    "    \n",
    "    // 인스턴스 변수 (멤버 변수)\n",
    "    private double real; // 실수부\n",
    "    private double imag; // 허수부\n",
    "    \n",
    "    // getter 함수 (멤버 변수 값 읽기 용도)\n",
    "    public double re() { return real; }\n",
    "    public double im() { return imag; }\n",
    "    // setter 함수 (멤버 변수 값 변경 용도)\n",
    "    public void setRe(double re) { real = re; }\n",
    "    public void setIm(double im) { imag = im; }\n",
    "*/"
   ]
  },
  {
   "cell_type": "code",
   "execution_count": 2,
   "metadata": {},
   "outputs": [
    {
     "ename": "variable a might not have been initialized",
     "evalue": "variable a might not have been initialized",
     "output_type": "error",
     "traceback": [
      "\u001b[1;31mvariable a might not have been initialized\u001b[0;0m",
      "\u001b[1;31m return a\u001b[0;0m",
      "\u001b[1;31m        ^^ \u001b[0;0m"
     ]
    }
   ],
   "source": [
    "double a;\n",
    "return a;"
   ]
  },
  {
   "cell_type": "markdown",
   "metadata": {},
   "source": [
    "클래스 안에 메소드 말고 변수도 정의할 수 있다.\n",
    "\n",
    "예를 들어 C같은 경우에 struct { int x; int y; }; 이런 식으로 여러 종류의 변수를 하나로 묶어놓는데 Java의 클래스도 기본적으로 이런 기능이 있다.\n",
    "\n",
    "중고등학교 수학 복습:\n",
    "$i^{2}= -1$이 되는 허수 $i$와 실수를 함께 가지고 있는 것이 복소수다.\n",
    "\n",
    "실수 $0$, $1/3$, $\\sqrt{3}$ 복소수 형태로 굳이 쓰면\n",
    "$0+0i$, $1/3 + 0i$. $\\sqrt{3}+0i$.\n",
    "\n",
    "실수부와 허수부가 둘다 있는 복소수는 예를 들면 $4-3i$"
   ]
  },
  {
   "cell_type": "code",
   "execution_count": 8,
   "metadata": {},
   "outputs": [
    {
     "data": {
      "text/plain": [
       "com.twosigma.beaker.javash.bkr86a72656.Complex"
      ]
     },
     "execution_count": 8,
     "metadata": {},
     "output_type": "execute_result"
    }
   ],
   "source": [
    "import java.lang.Math;\n",
    "\n",
    "// 복소수가 영어로 complex number 이므로\n",
    "class Complex {\n",
    "    public static String className() { return \"Complex\"; }\n",
    "    \n",
    "    // 인스턴스 변수 (멤버 변수)\n",
    "    private double real; // 실수부\n",
    "    private double imag; // 허수부\n",
    "    \n",
    "    // getter 함수 (멤버 변수 값 읽기 용도)\n",
    "    public double re() { return real; }\n",
    "    public double im() { return imag; }\n",
    "    // setter 함수 (멤버 변수 값 변경 용도)\n",
    "    public void setRe(double re) { real = re; }\n",
    "    public void setIm(double im) { imag = im; }\n",
    "    \n",
    "    public double abs() {\n",
    "        return java.lang.Math.sqrt(real*real + imag*imag);\n",
    "    }\n",
    "}"
   ]
  },
  {
   "cell_type": "code",
   "execution_count": 10,
   "metadata": {},
   "outputs": [
    {
     "name": "stdout",
     "output_type": "stream",
     "text": [
      "0.0\n",
      "5.0\n"
     ]
    },
    {
     "data": {
      "text/plain": [
       "null"
      ]
     },
     "execution_count": 10,
     "metadata": {},
     "output_type": "execute_result"
    }
   ],
   "source": [
    "Complex c = new Complex();\n",
    "\n",
    "System.out.println(c.abs());\n",
    "\n",
    "// 3 -4i\n",
    "// c.real = 3;\n",
    "// c.imag = -4;\n",
    "c.setRe(3);\n",
    "c.setIm(-4);\n",
    "\n",
    "System.out.println(c.abs());"
   ]
  },
  {
   "cell_type": "code",
   "execution_count": 28,
   "metadata": {},
   "outputs": [
    {
     "name": "stdout",
     "output_type": "stream",
     "text": [
      "Weapon\n",
      "Gun\n",
      "Sword\n",
      "Complex\n"
     ]
    },
    {
     "data": {
      "text/plain": [
       "null"
      ]
     },
     "execution_count": 28,
     "metadata": {},
     "output_type": "execute_result"
    }
   ],
   "source": [
    "// static 변수나 메소드는 new로 만든 인스턴스 없이도 사용 가능\n",
    "System.out.println( Weapon.className() );\n",
    "System.out.println( Gun.className() );\n",
    "System.out.println( Sword.className() );\n",
    "System.out.println( Complex.className() );"
   ]
  },
  {
   "cell_type": "markdown",
   "metadata": {},
   "source": [
    "// 인스턴스 변수나 메소드 (static 안붙은 것들) 이거는 안된다\n",
    "// Complex.real;\n",
    "Complex.abs();"
   ]
  },
  {
   "cell_type": "code",
   "execution_count": 35,
   "metadata": {},
   "outputs": [
    {
     "data": {
      "text/plain": [
       "0.0"
      ]
     },
     "execution_count": 35,
     "metadata": {},
     "output_type": "execute_result"
    }
   ],
   "source": [
    "return new Complex().abs();"
   ]
  },
  {
   "cell_type": "code",
   "execution_count": 36,
   "metadata": {},
   "outputs": [
    {
     "data": {
      "text/plain": [
       "0.0"
      ]
     },
     "execution_count": 36,
     "metadata": {},
     "output_type": "execute_result"
    }
   ],
   "source": [
    "Complex c = new Complex();\n",
    "return c.abs();"
   ]
  },
  {
   "cell_type": "markdown",
   "metadata": {},
   "source": [
    "# 23 유효범위 (예습)"
   ]
  },
  {
   "cell_type": "code",
   "execution_count": 22,
   "metadata": {},
   "outputs": [
    {
     "data": {
      "text/plain": [
       "com.twosigma.beaker.javash.bkr86a72656.ScopeDemo999"
      ]
     },
     "execution_count": 22,
     "metadata": {},
     "output_type": "execute_result"
    }
   ],
   "source": [
    "class ScopeDemo999 {\n",
    "    int n = 999;\n",
    "    \n",
    "    void f() {\n",
    "        System.out.println(n);\n",
    "        \n",
    "        for (int n = 0; n < 5; ++n) {\n",
    "            System.out.println(n);\n",
    "            System.out.println(this.n);\n",
    "        }\n",
    "        \n",
    "        System.out.println(n);        \n",
    "    }\n",
    "}"
   ]
  },
  {
   "cell_type": "code",
   "execution_count": 23,
   "metadata": {},
   "outputs": [
    {
     "name": "stdout",
     "output_type": "stream",
     "text": [
      "999\n",
      "0\n",
      "999\n",
      "1\n",
      "999\n",
      "2\n",
      "999\n",
      "3\n",
      "999\n",
      "4\n",
      "999\n",
      "999\n"
     ]
    },
    {
     "data": {
      "text/plain": [
       "null"
      ]
     },
     "execution_count": 23,
     "metadata": {},
     "output_type": "execute_result"
    }
   ],
   "source": [
    "new ScopeDemo999().f();"
   ]
  },
  {
   "cell_type": "code",
   "execution_count": null,
   "metadata": {},
   "outputs": [],
   "source": []
  }
 ],
 "metadata": {
  "kernelspec": {
   "display_name": "Java",
   "language": "java",
   "name": "java"
  },
  "language_info": {
   "codemirror_mode": "text/x-java",
   "file_extension": ".java",
   "mimetype": "",
   "name": "Java",
   "nbconverter_exporter": "",
   "version": "11.0.1"
  },
  "toc": {
   "base_numbering": 1,
   "nav_menu": {},
   "number_sections": false,
   "sideBar": false,
   "skip_h1_title": false,
   "title_cell": "Table of Contents",
   "title_sidebar": "Contents",
   "toc_cell": false,
   "toc_position": {},
   "toc_section_display": false,
   "toc_window_display": false
  }
 },
 "nbformat": 4,
 "nbformat_minor": 2
}
