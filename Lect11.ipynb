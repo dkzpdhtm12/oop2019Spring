{
 "cells": [
  {
   "cell_type": "markdown",
   "metadata": {},
   "source": [
    "# Iterable, Iterator 인터페이스에 대해 알아보기\n",
    "\n",
    "## Node 타입의 인스턴스 변수를 갖는 MyList 클래스 정의\n",
    "## MyList 클래스가 Iterable 인터페이스를 구현하도록"
   ]
  },
  {
   "cell_type": "code",
   "execution_count": 2,
   "metadata": {},
   "outputs": [
    {
     "data": {
      "text/plain": [
       "com.twosigma.beaker.javash.bkr2ff8df36.Node"
      ]
     },
     "execution_count": 2,
     "metadata": {},
     "output_type": "execute_result"
    }
   ],
   "source": [
    "class Node<T> {\n",
    "    private final T value;\n",
    "    private final Node<T> next;\n",
    "    Node(T v, Node<T> n) { value=v; next=n; }\n",
    "    T head() { return value; }\n",
    "    Node<T> tail() { return next; }\n",
    "}"
   ]
  },
  {
   "cell_type": "code",
   "execution_count": 14,
   "metadata": {},
   "outputs": [
    {
     "data": {
      "text/plain": [
       "com.twosigma.beaker.javash.bkr2ff8df36.MyIter"
      ]
     },
     "execution_count": 14,
     "metadata": {},
     "output_type": "execute_result"
    }
   ],
   "source": [
    "import java.util.*; // Iterator 를 사용하려면\n",
    "\n",
    "class MyIter<T> implements Iterator<T> {\n",
    "    private Node<T> next_node;\n",
    "    MyIter(Node<T> l) { next_node = l; }\n",
    "    @Override\n",
    "    public boolean hasNext() { return next_node!=null; }\n",
    "    @Override\n",
    "    public T next() { // (1) 다음 지점의 값을 읽어와 리턴, (2) 하나 더 다음 위치로 next_node 이동\n",
    "        T v = next_node.head();\n",
    "        next_node = next_node.tail();\n",
    "        return v;\n",
    "    }\n",
    "}\n",
    "\n",
    "class MyList<T> implements Iterable<T> {\n",
    "    private Node<T> list;\n",
    "    void addFirst(T v) { list = new Node<T>(v, list); }\n",
    "    @Override\n",
    "    public Iterator<T> iterator() {\n",
    "        return new MyIter<>(list);\n",
    "    }\n",
    "}"
   ]
  },
  {
   "cell_type": "code",
   "execution_count": 19,
   "metadata": {},
   "outputs": [
    {
     "name": "stdout",
     "output_type": "stream",
     "text": [
      "1\n",
      "2\n",
      "3\n",
      "4\n",
      "5\n"
     ]
    },
    {
     "data": {
      "text/plain": [
       "null"
      ]
     },
     "execution_count": 19,
     "metadata": {},
     "output_type": "execute_result"
    }
   ],
   "source": [
    "import java.util.*;\n",
    "\n",
    "MyList<Integer> mylist = new MyList<>();\n",
    "mylist.addFirst(5);\n",
    "mylist.addFirst(4);\n",
    "mylist.addFirst(3);\n",
    "mylist.addFirst(2);\n",
    "mylist.addFirst(1);\n",
    "\n",
    "Iterator<Integer> it = mylist.iterator();\n",
    "while ( it.hasNext() ) {\n",
    "    System.out.println( it.next() );\n",
    "}"
   ]
  },
  {
   "cell_type": "code",
   "execution_count": 17,
   "metadata": {},
   "outputs": [
    {
     "name": "stdout",
     "output_type": "stream",
     "text": [
      "1\n",
      "2\n",
      "3\n",
      "4\n",
      "5\n"
     ]
    },
    {
     "data": {
      "text/plain": [
       "null"
      ]
     },
     "execution_count": 17,
     "metadata": {},
     "output_type": "execute_result"
    }
   ],
   "source": [
    "MyList<Integer> mylist = new MyList<>();\n",
    "mylist.addFirst(5);\n",
    "mylist.addFirst(4);\n",
    "mylist.addFirst(3);\n",
    "mylist.addFirst(2);\n",
    "mylist.addFirst(1);\n",
    "\n",
    "for (Integer v : mylist) {\n",
    "    System.out.println(v);\n",
    "}"
   ]
  },
  {
   "cell_type": "code",
   "execution_count": 5,
   "metadata": {},
   "outputs": [
    {
     "name": "stdout",
     "output_type": "stream",
     "text": [
      "arr[3] = 4\n",
      "1\n",
      "2\n",
      "3\n",
      "4\n",
      "5\n"
     ]
    },
    {
     "data": {
      "text/plain": [
       "null"
      ]
     },
     "execution_count": 5,
     "metadata": {},
     "output_type": "execute_result"
    }
   ],
   "source": [
    "int arr[] = {1,2,3,4,5};\n",
    "\n",
    "System.out.println( \"arr[3] = \" + arr[3] );\n",
    "\n",
    "for (int v : arr) {\n",
    "    System.out.println(v);\n",
    "}"
   ]
  },
  {
   "cell_type": "markdown",
   "metadata": {},
   "source": [
    "# 44-03. Set 인터페이스"
   ]
  },
  {
   "cell_type": "code",
   "execution_count": 26,
   "metadata": {},
   "outputs": [
    {
     "name": "stdout",
     "output_type": "stream",
     "text": [
      "1\n",
      "2\n",
      "3\n"
     ]
    },
    {
     "data": {
      "text/plain": [
       "null"
      ]
     },
     "execution_count": 26,
     "metadata": {},
     "output_type": "execute_result"
    }
   ],
   "source": [
    "// 교과서 p.643 과 비슷한 예제\n",
    "import java.util.*;\n",
    "\n",
    "// LinkedList<Integer> set = new LinkedList<>();\n",
    "HashSet<Integer> set = new HashSet<>();\n",
    "set.add(2);\n",
    "set.add(3);\n",
    "set.add(3);\n",
    "set.add(3);\n",
    "set.add(1);\n",
    "\n",
    "for (Integer v : set) {\n",
    "    System.out.println(v);\n",
    "}"
   ]
  },
  {
   "cell_type": "markdown",
   "metadata": {},
   "source": [
    "# 44-07. Map 인터페이스"
   ]
  },
  {
   "cell_type": "code",
   "execution_count": 33,
   "metadata": {},
   "outputs": [
    {
     "name": "stdout",
     "output_type": "stream",
     "text": [
      "김철수\n",
      "김철수\n",
      "이영희\n",
      "박삼순\n",
      "null\n",
      "박미란\n"
     ]
    },
    {
     "data": {
      "text/plain": [
       "null"
      ]
     },
     "execution_count": 33,
     "metadata": {},
     "output_type": "execute_result"
    }
   ],
   "source": [
    "import java.util.*;\n",
    "\n",
    "HashMap<Integer, String> m1 = new HashMap<>();\n",
    "m1.put(20181111, \"김철수\");\n",
    "m1.put(20182222, \"김철수\");\n",
    "m1.put(20183333, \"이영희\");\n",
    "m1.put(20184444, \"박삼순\");\n",
    "\n",
    "System.out.println(m1.get(20181111));\n",
    "System.out.println(m1.get(20182222));\n",
    "System.out.println(m1.get(20183333));\n",
    "System.out.println(m1.get(20184444));\n",
    "System.out.println(m1.get(20189999)); // key에 할당된 value가 없으면 null을 리턴\n",
    "\n",
    "m1.put(20184444, \"박미란\");\n",
    "\n",
    "System.out.println(m1.get(20184444));"
   ]
  },
  {
   "cell_type": "markdown",
   "metadata": {},
   "source": [
    "# 책에 나오는 내용 중에 안하고 넘어간 거"
   ]
  },
  {
   "cell_type": "code",
   "execution_count": 10,
   "metadata": {},
   "outputs": [
    {
     "name": "stdout",
     "output_type": "stream",
     "text": [
      "mylist.get(3) = 4\n",
      "1\n",
      "2\n",
      "3\n",
      "4\n",
      "5\n"
     ]
    },
    {
     "data": {
      "text/plain": [
       "null"
      ]
     },
     "execution_count": 10,
     "metadata": {},
     "output_type": "execute_result"
    }
   ],
   "source": [
    "import java.util.*;\n",
    "\n",
    "List<Integer> mylist = new LinkedList<>();\n",
    "mylist.add(1);\n",
    "mylist.add(2);\n",
    "mylist.add(3);\n",
    "mylist.add(4);\n",
    "mylist.add(5);\n",
    "\n",
    "// 배열의 arr[3] 과 같은 기능을 하는 get 메소드\n",
    "System.out.println( \"mylist.get(3) = \" + mylist.get(3) );\n",
    "\n",
    "for (Integer v : mylist) {\n",
    "    System.out.println(v);\n",
    "}"
   ]
  },
  {
   "cell_type": "code",
   "execution_count": null,
   "metadata": {},
   "outputs": [],
   "source": []
  }
 ],
 "metadata": {
  "kernelspec": {
   "display_name": "Java",
   "language": "java",
   "name": "java"
  },
  "language_info": {
   "codemirror_mode": "text/x-java",
   "file_extension": ".java",
   "mimetype": "",
   "name": "Java",
   "nbconverter_exporter": "",
   "version": "11.0.1"
  },
  "toc": {
   "base_numbering": 1,
   "nav_menu": {},
   "number_sections": false,
   "sideBar": false,
   "skip_h1_title": false,
   "title_cell": "Table of Contents",
   "title_sidebar": "Contents",
   "toc_cell": false,
   "toc_position": {},
   "toc_section_display": false,
   "toc_window_display": false
  }
 },
 "nbformat": 4,
 "nbformat_minor": 2
}
